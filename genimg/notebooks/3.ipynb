{
 "cells": [
  {
   "cell_type": "markdown",
   "id": "492d02a2-de50-489f-9c27-2a7f4e53bc10",
   "metadata": {
    "deletable": false,
    "editable": false,
    "slideshow": {
     "slide_type": ""
    },
    "tags": []
   },
   "source": [
    "# J5実験 第3回\n",
    "\n",
    "第2回で，\n",
    "- 電卓\n",
    "- 単純なプログラミング言語のインタプリタ（解釈実行器）\n",
    "\n",
    "を作り，自分でプログラミング言語に構文を追加し，Lex・Yacc・Cを使ってプログラミング言語処理系を作成する方法が分かってきたと思います．\n",
    "今回はその知識を利用して，\n",
    "\n",
    "- 簡単な英文処理プログラム\n",
    "- 単純なプログラミング言語のコンパイラ\n",
    "\n",
    "を作成してみましょう．\n",
    "\n",
    "忘れてしまったところは，過去の授業資料 1.ipynb と 2.ipynb を参照してください．"
   ]
  },
  {
   "cell_type": "markdown",
   "id": "b63ee246-0a01-477c-ab98-1b8bf8af47cb",
   "metadata": {
    "editable": false,
    "slideshow": {
     "slide_type": ""
    },
    "tags": []
   },
   "source": [
    "# 簡単な英文処理プログラム\n",
    "\n",
    "Lex や Yacc はもともと「コンパイラを簡単に作るためのツール」として作られたものです．\n",
    "とはいえ，字句のパターンと構文規則を与えれば，テキストを解釈できるプログラムを作ることができるので，色々な応用が考えられます．\n",
    "\n",
    "そういった応用例の1つとして，かなりいいかげんなものですが，簡単な英文の解析プログラムをここでは作ってみましょう．\n",
    "\n",
    "与えられた英文テキストに対して，英文法の構成要素を解析し，テキストに情報を付加します．こういった品詞などの解析は， **[形態素解析](https://ja.wikipedia.org/wiki/%E5%BD%A2%E6%85%8B%E7%B4%A0%E8%A7%A3%E6%9E%90)** と呼ばれています．\n",
    "自然言語処理（「プログラミング言語」と区別するために，情報の分野ではそう呼ばれる）では必要な処理ですので，ここまでのプログラミング言語を作るというところに興味がない・他人事だと思っていた人も，**テキストを読み込むプログラムを作る**ということの必要性が分かるのではないでしょうか．\n",
    "\n",
    "（ここでやるのは，かなりいいかげんな解析ですが）雰囲気を見てみましょう．\n",
    "\n",
    "まず，Lexを以下のように定義します．"
   ]
  },
  {
   "cell_type": "code",
   "execution_count": null,
   "id": "77803b9b-bd49-4253-81d3-a982e835bc93",
   "metadata": {
    "deletable": false,
    "editable": false,
    "slideshow": {
     "slide_type": ""
    },
    "tags": []
   },
   "outputs": [],
   "source": [
    "/* lex ex3-1.lex */\n",
    "alpha   [a-zA-Z]\n",
    "white   [\\t ]\n",
    "%%\n",
    "CATS|DOGS|MAN|WOMAN         { strcpy(yylval.name, yytext); return NOUN; }\n",
    "\n",
    "ROOM|HOUSE|SKY              { strcpy(yylval.name, yytext); return PLACE_NOUN; }\n",
    "\n",
    "THE|A|AN|THIS|THAT|THOSE|MY { strcpy(yylval.name, yytext); return DETERMINER; }\n",
    "\n",
    "FIRST|LAST|NEXT|SMALL|BIG   { strcpy(yylval.name, yytext); return ADJECTIVE; }\n",
    "\n",
    "IS|ARE|RUN|FLY|FIND|BE      { strcpy(yylval.name, yytext); return VERB; }\n",
    "\n",
    "CAN|SHOULD|MAY              { strcpy(yylval.name, yytext); return AUXILIARY_VERB; }\n",
    "\n",
    "IN|AT|ON|TO|INSIDE          { strcpy(yylval.name, yytext); return PREPOSITIONAL; }\n",
    "\n",
    "[\\.,']                      { return yytext[0]; }\n",
    "{white}                     { ; }"
   ]
  },
  {
   "cell_type": "markdown",
   "id": "bef49280-3409-490d-a521-498b96d8e538",
   "metadata": {
    "deletable": false,
    "editable": false,
    "slideshow": {
     "slide_type": ""
    },
    "tags": []
   },
   "source": [
    "今は，考えやすくするため，使える英単語をここに書かれたものに限定します．\n",
    "つまり，\n",
    "\n",
    "> THE MAN MAY FIND THOSE DOGS AT THAT HOUSE.\n",
    "\n",
    "のような構文を解析できる解析器ということですね．\n",
    "アクションはこれまで出てきた Lex のプログラムと同等ですが，**Lex で `yylval` に入れておいた値は，Yaccの属性値として利用することができる** という使い方は新たに出てきたものです．\n",
    "こうすることで，Yaccのアクションで直接`$1`などの値を読み出せるので，定義が簡潔になります．\n",
    "\n",
    "それでは，Yaccのプログラムを見てみましょう．"
   ]
  },
  {
   "cell_type": "code",
   "execution_count": null,
   "id": "e4c3fafd-d68d-4d68-9d72-b15887775992",
   "metadata": {
    "deletable": false,
    "editable": false,
    "slideshow": {
     "slide_type": ""
    },
    "tags": []
   },
   "outputs": [],
   "source": [
    "/* yacc ex3-1.yacc */\n",
    "%union {\n",
    "  char   name[128];\n",
    "}\n",
    "%token <name> PREPOSITIONAL VERB AUXILIARY_VERB PLACE_NOUN NOUN DETERMINER ADJECTIVE\n",
    "\n",
    "%type  <name> np det vp pp obj\n",
    "%%\n",
    "ss : np vp '.'  { printf(\"NP = %s\\nVP = %s\\n\", $1, $2); }\n",
    "   ;\n",
    "\n",
    "np : DETERMINER NOUN         { sprintf($$,\"%s %s\", $1, $2); }\n",
    "   | ADJECTIVE det NOUN      { sprintf($$, \"%s %s %s\", $1, $2, $3); }\n",
    "   | NOUN                    { strcpy($$, $1); }\n",
    "   ;\n",
    "\n",
    "det : DETERMINER   { strcpy($$, $1); }\n",
    "    |              { strcpy($$, \"\"); }\n",
    "    ;\n",
    "\n",
    "vp : VERB             { strcpy($$, $1); strcat($$,\" \"); }\n",
    "   | AUXILIARY_VERB VERB obj { sprintf($$, \"%s %s %s\", $1, $2, $3); }\n",
    "   | VERB det NOUN pp        { sprintf($$, \"%s %s %s %s\", $1, $2, $3, $4); }\n",
    "   ;\n",
    "\n",
    "pp : PREPOSITIONAL det PLACE_NOUN    { sprintf($$, \"%s %s %s\", $1, $2, $3); }\n",
    "   |                                 { strcpy($$, \"\"); }\n",
    "   ;\n",
    "\n",
    "obj : det NOUN pp   { sprintf($$, \"%s %s %s\", $1, $2, $3); }\n",
    "    | PREPOSITIONAL det PLACE_NOUN    { sprintf($$, \"%s %s %s\", $1, $2, $3); }\n",
    "    |               { sprintf($$, \"\"); }\n",
    "    ;"
   ]
  },
  {
   "cell_type": "markdown",
   "id": "3699fbf9-1462-430b-a046-6787d8820d9a",
   "metadata": {
    "deletable": false,
    "editable": false,
    "slideshow": {
     "slide_type": ""
    },
    "tags": []
   },
   "source": [
    "文は `NP VP` （名詞句と動詞句）です．ここに構文規則を追加していけば，解析できるパターンが増えていくのは，ここまでのYaccの知識で理解できると思います．Lexで `yylval.name` に値を入れておいたことにより，`det : DETERMINER   { strcpy($$, $1); }` のように `token` の値を属性値`$1`として使うことができます．\n",
    "\n",
    "Cプログラムは，これまでのプログラムのままです．"
   ]
  },
  {
   "cell_type": "code",
   "execution_count": null,
   "id": "0b063ce1-1981-4bdc-a728-93d5f746eddf",
   "metadata": {
    "deletable": false,
    "editable": false,
    "slideshow": {
     "slide_type": ""
    },
    "tags": []
   },
   "outputs": [],
   "source": [
    "/* c ex3-1.c */\n",
    "#include <stdio.h>\n",
    "extern char *yytext;\n",
    "\n",
    "int value;\n",
    "\n",
    "#include \"y.tab.c\"\n",
    "#include \"lex.yy.c\"\n",
    "\n",
    "int main() {\n",
    "  yyparse();\n",
    "  return 0;\n",
    "}"
   ]
  },
  {
   "cell_type": "markdown",
   "id": "13e71ae1-634b-44ae-bca0-b0619effb5be",
   "metadata": {
    "deletable": false,
    "editable": false,
    "slideshow": {
     "slide_type": ""
    },
    "tags": []
   },
   "source": [
    "それでは，上で例に挙げた文を解析してみましょう．"
   ]
  },
  {
   "cell_type": "code",
   "execution_count": null,
   "id": "fb015064-61c6-4f70-b697-d4f868dfbbcf",
   "metadata": {
    "deletable": false,
    "editable": false,
    "slideshow": {
     "slide_type": ""
    },
    "tags": []
   },
   "outputs": [],
   "source": [
    "/* a.out */\n",
    "THE MAN MAY FIND THOSE DOGS AT THAT HOUSE."
   ]
  },
  {
   "cell_type": "markdown",
   "id": "00468d5d-b392-472a-b8c9-ade02bfaf0bc",
   "metadata": {
    "deletable": false,
    "editable": false,
    "slideshow": {
     "slide_type": ""
    },
    "tags": []
   },
   "source": [
    "同様に，別の文でも解析できます．"
   ]
  },
  {
   "cell_type": "code",
   "execution_count": null,
   "id": "1de078f7-17ea-40e1-a3a8-96295b1e929b",
   "metadata": {
    "deletable": false,
    "editable": false,
    "slideshow": {
     "slide_type": ""
    },
    "tags": []
   },
   "outputs": [],
   "source": [
    "/* a.out */\n",
    "CATS CAN FLY TO THE SKY."
   ]
  },
  {
   "cell_type": "markdown",
   "id": "df4c28da-e4ce-4b05-8cc2-e1b75fd492bd",
   "metadata": {
    "deletable": false,
    "editable": false,
    "slideshow": {
     "slide_type": ""
    },
    "tags": []
   },
   "source": [
    "ここでは，「文」に対する解析結果だけを出力していますが，たとえば `VP` や `PP` がより細かくどういう品詞に分解されるかなども構文定義では分けてありますので，アクションを記述すれば可能だと分かるはずです．さらに，第2回でプログラミング言語に対して作った抽象構文木のような中間構造を用いれば，解析結果を色々な用途で利用できます．\n",
    "実際には，**世の中にある英語の文にマッチするような構文を用意できるわけではなく**（言語学の分野では統語論などとして知られるが，たぶん一般的な構文ルールを用意するのは無理なんじゃないかなぁ...（個人の感想です）），実用されている形態素解析はこれほど簡単に解析できるものではないです．そのため，構文以外の様々な手法を用いて解析する必要があます（興味がある人は調べてみてください）．ここでは，プログラミング言語の生成以外のLexやYaccの使用例を紹介しました．\n",
    "\n",
    "以上のように，英文に限らず，コマンドの設定ファイルや，データ形式（たとえば，JSON形式）を読み込みたいというときにも，テキストを読み込んで意味を解釈するプログラムの必要性が理解できたと思います．"
   ]
  },
  {
   "cell_type": "markdown",
   "id": "16701ff3-b55a-43f3-8f57-6c0cf072f24e",
   "metadata": {
    "deletable": false,
    "editable": false,
    "slideshow": {
     "slide_type": ""
    },
    "tags": []
   },
   "source": [
    "# 単純なプログラミング言語のコンパイラ\n",
    "\n",
    "第2回までで，中間形式（抽象構文木）の作成と，その解釈実行のプログラム（インタプリタ）を作成できました．\n",
    "\n",
    "ここではコンパイラを作ってみましょう．\n",
    "コンパイラは，**ソースコードを別のプログラミング言語のプログラムに翻訳する**プログラムです．翻訳先の言語は，\n",
    "- より低級な言語であったり，\n",
    "- 実行しやすい（便利な）言語であったり\n",
    "\n",
    "して，状況に応じて翻訳先を考えます．\n",
    "\n",
    "すでに，ソースコードの木構造を作るところまでは前回までできていますので，Cプログラム中の`dotree()`で実行する際にコード生成をすればよいわけです．"
   ]
  },
  {
   "cell_type": "markdown",
   "id": "5bbf7de6-88b3-483d-b10e-1c2afbe5f3cd",
   "metadata": {
    "deletable": false,
    "editable": false,
    "slideshow": {
     "slide_type": ""
    },
    "tags": []
   },
   "source": [
    "## コード生成 - C言語へのコンパイル\n",
    "\n",
    "まずは，C言語へのコンパイルを考えてみましょう．\n",
    "C言語のコンパイラは様々実装されていますし，色々な環境で動かせるコードを吐き出せるので，自分が作った言語のコンパイル先としてC言語を考えることはありえます（上の翻訳先の言語の箇条書きでいう「実行しやすい便利な言語」ということです）．また，みなさんもC言語は読めるはずですし，第2回までで作ってきた言語もC言語から大きく離れた構文ではないため，コンパイル先として難しくありません．\n",
    "\n",
    "ここでは，`dotree()` のかわりに，`emit_c()` を定義して，コンパイルの例を考えてみましょう．\n",
    "\n",
    "簡単のため，前回の `while`文が入る前の Lex と Yacc をそのまま使います．"
   ]
  },
  {
   "cell_type": "code",
   "execution_count": null,
   "id": "cd5a1b85-ddf9-4ba5-bd99-8855121be0b7",
   "metadata": {
    "deletable": false,
    "editable": false,
    "slideshow": {
     "slide_type": ""
    },
    "tags": []
   },
   "outputs": [],
   "source": [
    "/* lex ex3-2.lex */\n",
    "alpha   [a-zA-Z]\n",
    "digit   [0-9]\n",
    "white   [\\n\\t ]\n",
    "%%\n",
    "read                        { return READ; }\n",
    "print                       { return PRINT; }\n",
    "{alpha}({alpha}|{digit})*   { return IDENT; }\n",
    "{digit}+                    { return NUM; }\n",
    "[+\\-=();{}]                 { return yytext[0]; }\n",
    "{white}                     { ; }"
   ]
  },
  {
   "cell_type": "code",
   "execution_count": null,
   "id": "6de4410a-5e3d-47b2-8125-b286c0b56f25",
   "metadata": {
    "deletable": false,
    "editable": false,
    "slideshow": {
     "slide_type": ""
    },
    "tags": []
   },
   "outputs": [],
   "source": [
    "/* yacc ex3-2.yacc */\n",
    "%union {\n",
    "  Node* np;\n",
    "  int i;\n",
    "}\n",
    "%type <np> stlist stat expr prim var\n",
    "%token NUM;\n",
    "%token IDENT;\n",
    "%token READ;\n",
    "%token PRINT;\n",
    "%%\n",
    "prog   : IDENT '{' stlist '}'       { emit_c($3); return 0; }\n",
    "       ;\n",
    "stlist :                            { $$ = NULL; }\n",
    "       | stlist stat                { $$ = createNode(T_STLIST, $1, $2); }\n",
    "       ;\n",
    "stat   : var '=' expr ';'           { $$ = createNode(T_ASSIGN, $1, $3); }\n",
    "       | READ var ';'               { $$ = createNode(T_READ, $2, NULL); }\n",
    "       | PRINT expr ';'             { $$ = createNode(T_PRINT, $2, NULL); }\n",
    "       ;\n",
    "expr   : prim              { $$ = $1; }\n",
    "       | expr '+' prim     { $$ = createNode(T_ADD, $1, $3); }\n",
    "       | expr '-' prim     { $$ = createNode(T_SUB, $1, $3); }\n",
    "       ;\n",
    "prim   : NUM               { $$ = createNode(T_NUM, atoi(yytext), NULL); }\n",
    "       | var               { $$ = createNode(T_VAR, $1, NULL); }\n",
    "       | '(' expr ')'      { $$ = $2; }\n",
    "       ;\n",
    "var    : IDENT             { $$ = lookup(yytext); }\n",
    "       ;"
   ]
  },
  {
   "cell_type": "markdown",
   "id": "5b8e98d2-5ee0-4d8a-8c4d-5e7a0891ea4e",
   "metadata": {
    "deletable": false,
    "editable": false,
    "slideshow": {
     "slide_type": ""
    },
    "tags": []
   },
   "source": [
    "Cへコンパイルするには，今作成している言語との差分を考慮しなくてはいけないので，以下のCプログラムでのポイントは，\n",
    "\n",
    "- Cの`main`関数をちゃんと書く\n",
    "- 変数宣言をする\n",
    "- Cの関数を呼び出すように変換する\n",
    "\n",
    "という点です．特に今の言語では，`print`は `printf`へ，`read` は `scanf` へ変換できる1対1の対応があるので，コンパイルしやすいですね．\n",
    "\n",
    "木をたどるプログラムはそのままで，ノードごとの想定している動作にしたがって，Cのプログラムを出力すればよいので，たとえば，\n",
    "`T_ASSIGN` のノードであれば，\n",
    "\n",
    "---\n",
    "```\n",
    "case T_ASSIGN:\n",
    "      printf(\"\\tv%d = \", node->left);\n",
    "      _emit_c(node->right);\n",
    "      printf(\";\\n\");\n",
    "      break;\n",
    "```\n",
    "---\n",
    "\n",
    "のようにして，`変数 = 式;` というCのプログラムにすればよいですね．（`_emit_c`を再帰的に呼べば，式を出力できるように作ってあるため．）\n",
    "変数のところは，変数表での番号`n`に置き換えて `vn` と出力します．（`T_ASSIGN`のノードで，左の子にそのまま変数番号が入っていたことを思い出してください）\n",
    "\n",
    "他の木のノードに対しても記述を追加したCプログラムは以下のとおりです．\n",
    "理解した上で実行してください．"
   ]
  },
  {
   "cell_type": "code",
   "execution_count": null,
   "id": "c8613ed6-ee58-41d4-9a1f-e44e7197f9c3",
   "metadata": {
    "deletable": false,
    "editable": false,
    "slideshow": {
     "slide_type": ""
    },
    "tags": []
   },
   "outputs": [],
   "source": [
    "/* c ex3-2.c */\n",
    "#include <stdio.h>\n",
    "struct stab {\n",
    "  int val;\n",
    "  char name[20];\n",
    "} stab[100];\n",
    "int stabuse = 0;\n",
    "\n",
    "extern char *yytext;\n",
    "\n",
    "#define T_STLIST 1\n",
    "#define T_ASSIGN 2\n",
    "#define T_READ   3\n",
    "#define T_PRINT  4\n",
    "#define T_ADD    5\n",
    "#define T_SUB    6\n",
    "#define T_NUM    7\n",
    "#define T_VAR    8\n",
    "\n",
    "typedef struct Node {\n",
    "    int node_type;\n",
    "    struct Node* left;\n",
    "    struct Node* right;\n",
    "} Node;\n",
    "\n",
    "\n",
    "// 引数にとる文字列が表にあれば見つかった位置を返して，なければ追加する関数\n",
    "int lookup(char *s) {\n",
    "  int i;\n",
    "  // 表の使っているところを順に見ていって\n",
    "  for (i = 0; i < stabuse; ++i) {\n",
    "    if (strcmp(stab[i].name, s) == 0) {\n",
    "      // 見つかった場合はその位置を返す\n",
    "      return i;\n",
    "    }\n",
    "  }\n",
    "  if (stabuse >= 99) {\n",
    "    // 変数の上限の個数を超えてしまった\n",
    "    printf(\"table overflow,\\n\");\n",
    "    exit(1);\n",
    "  }\n",
    "\n",
    "  // 表になかったので追加する\n",
    "  strcpy(stab[stabuse].name, s);\n",
    "  return stabuse++;  // 追加した位置を返す\n",
    "}\n",
    "\n",
    "// 新しいノードを作る関数\n",
    "Node* createNode(int node_type, Node* left, Node* right) {\n",
    "    Node* newNode = (Node*)malloc(sizeof(Node));\n",
    "    newNode->node_type = node_type;\n",
    "    newNode->left = left;\n",
    "    newNode->right = right;\n",
    "    return newNode;\n",
    "}\n",
    "\n",
    "void _emit_c(Node* node) {\n",
    "  if (node == NULL) {\n",
    "    return;\n",
    "  }\n",
    "  switch (node->node_type) {\n",
    "    case T_STLIST:\n",
    "      if (node->left != NULL) { _emit_c(node->left); }\n",
    "      _emit_c(node->right);\n",
    "      break;\n",
    "    case T_ASSIGN:\n",
    "      printf(\"\\tv%d = \", node->left);\n",
    "      _emit_c(node->right);\n",
    "      printf(\";\\n\");\n",
    "      break;\n",
    "    case T_READ:\n",
    "      printf(\"\\tscanf(\\\"%%d\\\", &v%d);\\n\", node->left);\n",
    "      break;\n",
    "    case T_PRINT:\n",
    "      printf(\"\\tprintf(\\\"%%d\\\",\");\n",
    "      _emit_c(node->left);\n",
    "      printf(\");\\n\");\n",
    "      break;\n",
    "    case T_ADD:\n",
    "      _emit_c(node->left);\n",
    "      printf(\" + \");\n",
    "      _emit_c(node->right);\n",
    "      break;\n",
    "    case T_SUB:\n",
    "      _emit_c(node->left);\n",
    "      printf(\" - \");\n",
    "      _emit_c(node->right);\n",
    "      break;\n",
    "    case T_NUM:\n",
    "      printf(\"%d\", node->left);\n",
    "      break;\n",
    "    case T_VAR:\n",
    "      printf(\"v%d\", node->left);\n",
    "      break;\n",
    "  }\n",
    "}\n",
    "\n",
    "void emit_c(Node* node) {\n",
    "  printf(\"#include <stdio.h>\\n\");\n",
    "  printf(\"int main() {\\n\");\n",
    "  int i;\n",
    "  for (i = 0; i < stabuse; i++) {\n",
    "    printf(\"\\tint v%d;\\n\", i);\n",
    "  }\n",
    "  _emit_c(node);\n",
    "  printf(\"}\\n\");\n",
    "}\n",
    "\n",
    "#include \"y.tab.c\"\n",
    "#include \"lex.yy.c\"\n",
    "\n",
    "int main() {\n",
    "  yyparse();\n",
    "  return 0;\n",
    "}"
   ]
  },
  {
   "cell_type": "markdown",
   "id": "0ebf1ae8-60d4-4241-8691-2cee802c1643",
   "metadata": {
    "deletable": false,
    "editable": false,
    "slideshow": {
     "slide_type": ""
    },
    "tags": []
   },
   "source": [
    "それでは，自分達の言語からC言語へコンパイルしてみましょう．"
   ]
  },
  {
   "cell_type": "code",
   "execution_count": null,
   "id": "093023e9-3f35-4abf-879d-c7e1356e482d",
   "metadata": {
    "deletable": false,
    "editable": false,
    "slideshow": {
     "slide_type": ""
    },
    "tags": []
   },
   "outputs": [],
   "source": [
    "/* a.out */\n",
    "main {\n",
    "  read x;\n",
    "  y = x + 1;\n",
    "  print y;\n",
    "}"
   ]
  },
  {
   "cell_type": "markdown",
   "id": "78fb1b56-59ec-4510-8078-25c07959e754",
   "metadata": {
    "deletable": false,
    "editable": false,
    "slideshow": {
     "slide_type": ""
    },
    "tags": []
   },
   "source": [
    "a.outの出力結果は，ちゃんとC言語のプログラムになっているはずです．上のポイントとして挙げた箇条書きに対応した形で書くと，\n",
    "- `emit_c()`の先頭で `main`関数などC言語に必要なものを出力する\n",
    "- 変数表をたどって，変数宣言をする（`v?`）というCの変数名とする\n",
    "- 必要なところはCの構文に合わせて，関数などを呼ぶようにする\n",
    "\n",
    "という点ができていることを確認してください．\n",
    "\n",
    "さらに，このプログラムをCコンパイラで機械語に翻訳すれば，実行できますので，各自でコピーして実行してみてください．\n",
    "\n",
    "以上のように，中間構造ができているものに対して，コード生成することに難しいことはありません．"
   ]
  },
  {
   "cell_type": "markdown",
   "id": "f8226f1f-2e6d-4074-99a2-a9bce0881bbd",
   "metadata": {
    "deletable": false,
    "editable": false,
    "slideshow": {
     "slide_type": ""
    },
    "tags": []
   },
   "source": [
    "## コード生成 - アセンブリ言語へのコンパイル\n",
    "\n",
    "次に，アセンブリ言語へのコンパイルを考えてみましょう．\n",
    "ここでは，**x64アセンブリ言語**への出力を考えます．\n",
    "アセンブリ言語全般については，もしかしたら，計算機通論の**MIPSアセンブリ言語**を習っているかもしれないので，それを思い出してください．\n",
    "\n",
    "C言語よりも低級な言語であるので，実行形式を考えつつ，コンパイル（要するにコードの出力）をしないといけません．\n",
    "x64アセンブリ言語は**レジスタマシン**なので，先のC言語のように1対1で出力するというわけにはいきません．\n",
    "\n",
    "この実験では x64 のアセンブリ言語の理解が主眼ではないので，実験に必要なところだけ，以下にまとめました．\n",
    "以下の「x64アセンブリ言語の説明」を広げて読んでください．\n",
    "\n",
    "さらなる詳細を知りたい場合には，自分で調べてみてください．"
   ]
  },
  {
   "cell_type": "markdown",
   "id": "c1d54500-2a6a-4ec5-a591-539932bd80c8",
   "metadata": {
    "deletable": false,
    "editable": false,
    "slideshow": {
     "slide_type": ""
    },
    "tags": []
   },
   "source": [
    "<details>\n",
    "<summary>\n",
    "x64アセンブリ言語の説明\n",
    "</summary>\n",
    "    \n",
    "---\n",
    "\n",
    "x64アーキテクチャ（x86_64，amd64とも言う）は，Intel 80386からはじまる IA32（32ビットアーキテクチャ）を64ビットに拡張したものです（IA64という64ビットのアーキテクチャもあるが，それは別ものなので注意）．\n",
    "    \n",
    "x64には，64ビット長のレジスタとして，`rax`，`rbx`，`rcx`，`rdx`，`rdi`，`rsi`，`rbp`，`rsp`（以上の8個は，IA32の64ビット拡張版．32ビット長のレジスタ名は`r`の代わりに`e`で始まる），`r8`〜`r15`の16個があります．\n",
    "gccでの使い方は，以下のように決まっています（整数型/ポインタ型の場合）．\n",
    "\n",
    "| レジスタ名 | 用途 |\n",
    "|:-----------|:------------|\n",
    "| `rax`    | 浮動小数点数レジスタ使用の有無/戻り値 |\n",
    "| `rdi`    | 1番目の整数型/ポインタ型引数 |\n",
    "| `rsi`    | 2番目の整数型/ポインタ型引数 |\n",
    "| `rdx`    | 3番目の整数型/ポインタ型引数 |\n",
    "| `rcx`    | 4番目の整数型/ポインタ型引数 |\n",
    "| `r8`     | 5番目の整数型/ポインタ型引数 |\n",
    "| `r9`     | 6番目の整数型/ポインタ型引数 |\n",
    "| `rbp`    | ベースポインタ              |\n",
    "| `rsp`    | スタックポインタ            |\n",
    "\n",
    "引数が7個以上あると，7番目以降の引数はスタックを使用して渡しますが，x86の場合よりも煩雑なので，ここでは割愛します．浮動小数点数も（別種の）レジスタやスタックを使いますが，これらについても割愛します．なお，呼ばれた関数側で `r12`〜`r15`，`rbx`，`rbp`，`rsp`のレジスタを使用する場合には，あらかじめそれらの値を保存し，関数から戻る前に元に戻す必要があります．\n",
    "\n",
    "`rax`は，関数の戻り値を保持しますが，関数呼び出し時には浮動小数点数レジスタを用いて引数を渡しているか否かを表すためにも使われます．引数として浮動小数点数を受けとる可能性がある関数を呼び出す場合には，適切な値を`rax`に設定する必要があります．なお，J5実験では，浮動小数点数を扱っていないので，`rax`には常に0を設定します．\n",
    "\n",
    "アセンブリコードは，基本的には1行1文で書きます．\n",
    "\n",
    "```\n",
    "    [ラベル:]   命令   [オペランド1, オペランド2, ...]\n",
    "```\n",
    "\n",
    "\n",
    "\n",
    "「ラベル:」を書くと，直後の命令（がメモリ上に置かれたときのメモリ）のアドレスを「ラベル」で参照できるようになります（「ラベル:」単独でも構いません）．ラベルは，（「`.`」を含む）英字に英数字が続いたものです．ラベルは，アドレスを参照するためのものですから，ラベルをいくつ定義しようとも，実行ファイルの大きさには影響しません．\n",
    "\n",
    "「命令」には2種類があります．\n",
    "\n",
    "- オペコード - CPUが直接実行できる機械語を表す名前\n",
    "\n",
    "  `mov`（転送），`add`（加算），`sub`（減算）等の命令では，オペランドの大きさ（バイトサイズ）に応じて，1バイト（8ビット）の場合には「`b`」，2バイト（16ビット）の場合には「`w`」，4バイト（32ビット）の場合には「`l`」，8バイト（64ビット）の場合には「`q`」を付加して明示できます．オペランドにレジスタを指定する場合には，レジスタ名の前に「`%`」を付けます．「数値」を定数としてオペランドに指定するときには，「`$`」を付けて10進表記します（Cのように16進（`0x`），8進（`0`）も使える）．レジスタでも数値定数でないものは，メモリアドレスを指定すると解釈され（もちろん，正しい形式であることが必要），そのアドレスが指すメモリ市のアドレス/内容が操作の対象になります．分岐命令以外では，ラベルのアドレスそのものを参照したい場合には，「`$`」を付ける必要があります．\n",
    "\n",
    "  算術演算命令では，命令実行後，コンディションコードレジスタに演算結果の符号や0かどうかが設定されます．コンディションコードレジスタの内容は，条件付き分岐命令で（暗黙に）使用します．\n",
    "\n",
    "- ディレクティブ - メモリ領域の確保，プログラム内で用いる「文字列」などの定数で初期化したメモリ領域，リンカーやデバッガに対する付加情報の指定\n",
    "\n",
    "  オペコードと区別しやすいようにディレクティブは「`.`」で始まります．\n",
    "\n",
    "\n",
    "オペコードには，必要な個数のオペランドを「`,`」で区切ってつづけます．（gccが使う）GAS（GNU Assembler）では，オペランドが2つの場合には，\n",
    "\n",
    "```\n",
    "    オペランド2 ← オペランド2 <操作> オペランド1\n",
    "```\n",
    "\n",
    "となります．代表的な命令は以下のとおりです．\n",
    "ただし，乗算命令（`imul`）はオペランドが複数の場合もありますが，ここでは1つの場合の説明をしています．\n",
    "\n",
    "\n",
    "| 種類 | コード | 説明 |\n",
    "|:----------------|:------------|:------------|\n",
    "| 転送命令    | `mov src, dst` | `dst ← src` |\n",
    "|             | `push src`   | `src をプッシュ; mem[--rsp] ← src` |\n",
    "|             | `pop dst`    | `dst へポップ; dst ← mem[rsp++]` |\n",
    "|             | `lea src, dsc` | `src`のメモリアドレスそのものを `dst` に入れる |\n",
    "| 比較命令    | `cmp src, dst` | `dst - src` の結果をコンディションコードレジスタに反映．<br> コンディションコードの「見方」によって，符号付き/符号無しの比較になる． |\n",
    "| 算術命令    | `add src, dst` | `dst ← dst + src` |\n",
    "|            | `sub src, dst` |  `dst ← dst - src` |\n",
    "|             | `imul src`   | `rdx:rax ← rax * src` :  符号付き64ビット同士を乗算する．<br> 結果は符号付き128ビット（上位64ビットは`rdx`レジスタ，下位64ビットは`rax`レジスタ）．<br> 暗黙のうちに，`rax`レジスタを使用することに注意．<br> また，演算結果も，`rax`レジスタと`rdx`レジスタに残る．|\n",
    "|             | `cqto`      | `rdx ← rax を符号拡張`  : `rax`レジスタ（符号付き64ビット）の符号ビット（0または1）で`rdx`レジスタを満たす． <br>（つまり，各ビットは0または1） | \n",
    "|             | `idiv src`  | `rax ← rdx:rax / src; rdx ← rdx:rax` : <br> 符号付き128ビット（上位64ビットは`rdx`レジスタ，下位64ビットは`rax`レジスタ）を`src`（符号付き64ビット）で除算する． <br> 結果（商と余り）は符号付き64ビット．暗黙のうちに，`rax`レジスタと`rdx`レジスタを使用するため，`src`にこれらのレジスタを指定すると予期しない結果となる．<br> なお，演算結果は `rax` レジスタと `rdx` レジスタに残る．呼び出し前に `rdx` レジスタを初期化（0を代入）する必要があることに注意． |\n",
    "| 分岐命令     | `jpm ラベル`  | 無条件に `ラベル` へ分岐 |\n",
    "|              | `je ラベル`  | 等しければ `ラベル` へ分岐 |\n",
    "|              | `jne ラベル`  | 等しくなければ `ラベル` へ分岐 |\n",
    "|              | `jg ラベル`  | （符号付きで）大きければ `ラベル` へ分岐 |\n",
    "|              | `jge ラベル`  | （符号付きで）大きいか等しければ `ラベル` へ分岐 |\n",
    "|              | `jl ラベル`  | （符号付きで）小さけければ `ラベル` へ分岐 |\n",
    "|              | `jle ラベル`  | （符号付きで）小さいか等しければ `ラベル` へ分岐 |\n",
    "\n",
    "\n",
    "具体例を見てみましょう．（gccでは，int型は4バイト（32ビット），long型は8バイト（64ビット），ポインタ型は8バイト（64ビット）を占めることに注意）\n",
    "\n",
    "---\n",
    "\n",
    "```\n",
    "int func(int a, int b, int c) {\n",
    "  extern int func2(int, int);\n",
    "  return func2(a, b + c);\n",
    "}\n",
    "```\n",
    "\n",
    "---\n",
    "\n",
    "この簡単なCプログラムをgccにオプション「`-S`」を指定して「`.s`」で終わるファイル名にアセンブリコードを出力できます．\n",
    "\n",
    "```\n",
    "% cc -S test1.c\n",
    "% cat -n test1.s\n",
    "```\n",
    "\n",
    "結果の test1.s は以下のようになります．\n",
    "\n",
    "---\n",
    "\n",
    "```\n",
    "    .file \"test1.c\"\n",
    "    .text\n",
    "    .globl func\n",
    "    .type  func, @function\n",
    "func:\n",
    ".LFB0:\n",
    "    .cfi_startproc\n",
    "    pushq %rbp\n",
    "    .cfi_def_cfa_offset 16\n",
    "    .cfi_offset 6, -16\n",
    "    movq  %rsp, %rbp\n",
    "    .cfi_def_cfa_register 6\n",
    "    subq  $16, %rsp\n",
    "    movl %edi, -4(%rbp)\n",
    "    movl %esi, -8(%rbp)\n",
    "    movl %edx, -12(%rbp)\n",
    "    movl -12(%rbp), %eax\n",
    "    movl -8(%rbp), %edx\n",
    "    addl %eax, %edx\n",
    "    movl -4(%rbp), %eax\n",
    "    movl %edx, %esi\n",
    "    movl %eax, %edi\n",
    "    call func2\n",
    "    leave\n",
    "    .cfi_def_cfa 7, 8\n",
    "    ret\n",
    "    .cfi_endproc\n",
    ".LFE0:\n",
    "    .size func, .-func\n",
    "    .ident \"GCC: (GNU) 4.8.5 20150623 (RedHat 4.8.5-16)\"\n",
    "    .section  .note.GNU-stack,\"\",@progbits\n",
    "```\n",
    "\n",
    "---\n",
    "\n",
    "「`.`」（ドット）ではじまる小文字の名前（`.text`や`.type`等）は「ディレクティブ」です．一部は，デバッガ等に対する付加情報等を指定するディレクティブなので，気にする必要はありません．それ以外の箇所は以下のとおりです．\n",
    "\n",
    "- 2行目 : （命令列を置く）テキストエリアの開始を指定（必須）\n",
    "- 3行目 : ラベル「`func`」をグローバル名とする指示（省略可）\n",
    "- 5行目 : ラベル「`func`」の定義位置（`func`の番地が決まる）\n",
    "- 8〜12行目 : 関数の入口でのスタックポインタ/ベースポインタの保存\n",
    "- 13行目 : 関数内で使う（引数を含む）変数用の領域をスタックに確保\n",
    "- 14〜23行目 : 関数の本体に対応するアセンブリコード\n",
    "- 24行目と26行目 : 関数から戻る処理\n",
    "\n",
    "関数の入口での「おきまり」の処理（上のプログラムでの8，11，13行目にあたります）\n",
    "\n",
    "---\n",
    "```\n",
    "    pushq %rbp\n",
    "    movq  %rsp, %rbp\n",
    "    subq  $16, %rsp\n",
    "```\n",
    "\n",
    "---\n",
    "\n",
    "の意味を見ていきましょう．関数が呼ばれた直後（``pushqを実行する前）には，スタックは以下の図の (a) のようになっていて，スタックトップには「戻りアドレス」が載っています（メモリのアドレスは図の上から下に向かって増加する）．\n",
    "\n",
    "![スタックの利用方法](https://www.clas.kitasato-u.ac.jp/~takano/uec-lexyacc/stack.png)\n",
    "\n",
    "「`push %rbp`」を実行すると，(b) のようになり，レジスタ`rbp`（ベースポインタ）を保存します．ついで「`movq %rsp, %rbp`」を実行すると (c) のようになります．最後に「`subq $n, %rsp`」を実行して，レジスタ`rsp`(スタックポインタ）から「`$n`」だけ差し引いて関数内の（引数を含む）ローカル変数のためのメモリ領域を確保します (d)．ここで「`$n`」は，（ローカル変数の個数）× 8 を 16の倍数に切り上げた値です．（正確には，ローカル変数1つあたり一律に8バイトではなく，変数の型に応じたバイト数の総計）．これは，`call`命令を実行するときに（x64アーキテクチャ上）スタックポインタの値が16の倍数となっている必要があるからです．\n",
    "\n",
    "関数の出口の「おきまり」の処理（上のプログラムでの24行目と26行目にあたります）\n",
    "\n",
    "---\n",
    "\n",
    "```\n",
    "    leave\n",
    "    ret\n",
    "```\n",
    "\n",
    "---\n",
    "\n",
    "では，命令`leave` によって，レジスタ`rbp`（ベースポインタ）の値をレジスタ`rsp`（スタックポインタ）に入れ（上図の (c) の状態），スタックからレジスタ `rbp`（ベースレジスタにポップして関数呼び出し直後の値に戻します（上図の (a) の状態）．ついで命令 `ret` を実行すると，スタックから戻りアドレスをポップしてそのアドレスへ分岐します（これで呼び出し側に戻る）．\n",
    "\n",
    "この関数の実行中，レジスタ `%rsp`（スタックポインタ）は命令実行にしたがって変化しますが，レジスタ `rbp`（ベースポインタ）の値を変更してはいけません．`rbp`を基準にして，関数内の（引数を含む）ローカル変数を置いたメモリ位置を参照するとともに，呼び出し前の `rbp` を取り出すスタック位置を示しているからです．\n",
    "\n",
    "上のプログラムの本体部分の意味は次のとおりです．（int型の変数（なので4バイト長）を指定しているため，各引数を保存するスタック内の場所は，`rbp`（ベースポインタ）を基準にして，第1引数は `-4(%rbp)`，第2引数は `-8(%rbp)`，第3引数は `-12`(%rbp)` となる．）\n",
    "\n",
    "---\n",
    "\n",
    "```\n",
    "    movl %edi, -4(%rbp)      第1引数(int a) の値を保存\n",
    "    movl %esi, -8(%rbp)      第2引数(int b) の値を保存\n",
    "    movl %edx, -12(%rbp)     第3引数(int c) の値を保存\n",
    "    movl -12(%rbp), %eax     %eax ← c\n",
    "    movl -8(%rbp), %edx      %edx ← b\n",
    "    addl %eax, %edx          %edx ← b+c\n",
    "    movl -4(%rbp), %eax      %eax ← a\n",
    "    movl %edx, %esi          func2 の第2引数 ← %edx （これは b+c）\n",
    "    movl %eax, %edi          func2 の第1引数 ← %eax （これは a）\n",
    "    call func2               func2を呼び出す\n",
    "                             結果は%eaxに入って戻ってくるので，関数funcのとしてそのまま使う\n",
    "```\n",
    "\n",
    "---\n",
    "\n",
    "---\n",
    "</details>"
   ]
  },
  {
   "cell_type": "markdown",
   "id": "29d20584-f378-466a-9167-2e6ed4989aeb",
   "metadata": {
    "deletable": false,
    "editable": false,
    "slideshow": {
     "slide_type": ""
    },
    "tags": []
   },
   "source": [
    "それでは，C言語にコンパイルしたときと同様の簡単な言語の例で見てみましょう．"
   ]
  },
  {
   "cell_type": "code",
   "execution_count": null,
   "id": "335344b4-96c2-471e-a673-879e9fd24b36",
   "metadata": {
    "deletable": false,
    "editable": false,
    "slideshow": {
     "slide_type": ""
    },
    "tags": []
   },
   "outputs": [],
   "source": [
    "/* lex ex3-3.lex */\n",
    "alpha   [a-zA-Z]\n",
    "digit   [0-9]\n",
    "white   [\\n\\t ]\n",
    "%%\n",
    "read                        { return READ; }\n",
    "print                       { return PRINT; }\n",
    "{alpha}({alpha}|{digit})*   { return IDENT; }\n",
    "{digit}+                    { return NUM; }\n",
    "[+\\-=();{}]                 { return yytext[0]; }\n",
    "{white}                     { ; }"
   ]
  },
  {
   "cell_type": "code",
   "execution_count": null,
   "id": "c3f70cf2-8cda-4b43-9b71-73fff26202d6",
   "metadata": {
    "deletable": false,
    "editable": false,
    "slideshow": {
     "slide_type": ""
    },
    "tags": []
   },
   "outputs": [],
   "source": [
    "/* yacc ex3-3.yacc */\n",
    "%union {\n",
    "  Node* np;\n",
    "  int i;\n",
    "}\n",
    "%type <np> stlist stat expr prim var\n",
    "%token NUM;\n",
    "%token IDENT;\n",
    "%token READ;\n",
    "%token PRINT;\n",
    "%%\n",
    "prog   : IDENT '{' stlist '}'       { emit_asm($3); return 0; }\n",
    "       ;\n",
    "stlist :                            { $$ = NULL; }\n",
    "       | stlist stat                { $$ = createNode(T_STLIST, $1, $2); }\n",
    "       ;\n",
    "stat   : var '=' expr ';'           { $$ = createNode(T_ASSIGN, $1, $3); }\n",
    "       | READ var ';'               { $$ = createNode(T_READ, $2, NULL); }\n",
    "       | PRINT expr ';'             { $$ = createNode(T_PRINT, $2, NULL); }\n",
    "       ;\n",
    "expr   : prim              { $$ = $1; }\n",
    "       | expr '+' prim     { $$ = createNode(T_ADD, $1, $3); }\n",
    "       | expr '-' prim     { $$ = createNode(T_SUB, $1, $3); }\n",
    "       ;\n",
    "prim   : NUM               { $$ = createNode(T_NUM, atoi(yytext), NULL); }\n",
    "       | var               { $$ = createNode(T_VAR, $1, NULL); }\n",
    "       | '(' expr ')'      { $$ = $2; }\n",
    "       ;\n",
    "var    : IDENT             { $$ = lookup(yytext); }\n",
    "       ;"
   ]
  },
  {
   "cell_type": "markdown",
   "id": "7cd9ebb7-5770-40b6-a5db-3a03bb8be0f0",
   "metadata": {
    "deletable": false,
    "editable": false,
    "slideshow": {
     "slide_type": ""
    },
    "tags": []
   },
   "source": [
    "Yaccで，`emit_c`だったところが`emit_asm`になっているだけです．\n",
    "\n",
    "Cプログラムは以下のようになります．"
   ]
  },
  {
   "cell_type": "code",
   "execution_count": null,
   "id": "3432e29f-857a-4d75-bd60-98605864a974",
   "metadata": {
    "deletable": false,
    "editable": false,
    "slideshow": {
     "slide_type": ""
    },
    "tags": []
   },
   "outputs": [],
   "source": [
    "/* c ex3-3.c */\n",
    "#include <stdio.h>\n",
    "struct stab {\n",
    "  int val;\n",
    "  char name[20];\n",
    "} stab[100];\n",
    "int stabuse = 0;\n",
    "\n",
    "extern char *yytext;\n",
    "\n",
    "#define T_STLIST 1\n",
    "#define T_ASSIGN 2\n",
    "#define T_READ   3\n",
    "#define T_PRINT  4\n",
    "#define T_ADD    5\n",
    "#define T_SUB    6\n",
    "#define T_NUM    7\n",
    "#define T_VAR    8\n",
    "\n",
    "typedef struct Node {\n",
    "    int node_type;\n",
    "    struct Node* left;\n",
    "    struct Node* right;\n",
    "} Node;\n",
    "\n",
    "\n",
    "// 引数にとる文字列が表にあれば見つかった位置を返して，なければ追加する関数\n",
    "int lookup(char *s) {\n",
    "  int i;\n",
    "  // 表の使っているところを順に見ていって\n",
    "  for (i = 0; i < stabuse; ++i) {\n",
    "    if (strcmp(stab[i].name, s) == 0) {\n",
    "      // 見つかった場合はその位置を返す\n",
    "      return i;\n",
    "    }\n",
    "  }\n",
    "  if (stabuse >= 99) {\n",
    "    // 変数の上限の個数を超えてしまった\n",
    "    printf(\"table overflow,\\n\");\n",
    "    exit(1);\n",
    "  }\n",
    "\n",
    "  // 表になかったので追加する\n",
    "  strcpy(stab[stabuse].name, s);\n",
    "  return stabuse++;  // 追加した位置を返す\n",
    "}\n",
    "\n",
    "// 新しいノードを作る関数\n",
    "Node* createNode(int node_type, Node* left, Node* right) {\n",
    "    Node* newNode = (Node*)malloc(sizeof(Node));\n",
    "    newNode->node_type = node_type;\n",
    "    newNode->left = left;\n",
    "    newNode->right = right;\n",
    "    return newNode;\n",
    "}\n",
    "\n",
    "void _emit_asm(Node* node) {\n",
    "  if (node == NULL) {\n",
    "    return;\n",
    "  }\n",
    "  switch (node->node_type) {\n",
    "    case T_STLIST:\n",
    "      if (node->left != NULL) { _emit_asm(node->left); }\n",
    "      _emit_asm(node->right);\n",
    "      break;\n",
    "    case T_ASSIGN:\n",
    "      _emit_asm(node->right);\n",
    "      printf(\"  popq %d(%%rbp)\\n\", -((int)node->left + 1) * 8);\n",
    "      break;\n",
    "    case T_READ:\n",
    "      printf(\"  movq $.Lprompt, %%rdi\\n\");\n",
    "      printf(\"  movq $0, %%rax\\n\");\n",
    "      printf(\"  call printf\\n\");\n",
    "      printf(\"  leaq %d(%%rbp), %%rsi\\n\", -((int)node->left + 1) * 8);\n",
    "      printf(\"  movq $.Lread, %%rdi\\n\");\n",
    "      printf(\"  movq $0, %%rax\\n\");\n",
    "      printf(\"  call scanf\\n\");\n",
    "      break;\n",
    "    case T_PRINT:\n",
    "      _emit_asm(node->left);\n",
    "      printf(\"  popq %%rsi\\n\");\n",
    "      printf(\"  movq $.Lprint, %%rdi\\n\");\n",
    "      printf(\"  movq $0, %%rax\\n\");\n",
    "      printf(\"  call printf\\n\");\n",
    "      break;\n",
    "    case T_ADD:\n",
    "      _emit_asm(node->left);\n",
    "      _emit_asm(node->right);\n",
    "      printf(\"  popq %%rdx\\n\");\n",
    "      printf(\"  popq %%rax\\n\");\n",
    "      printf(\"  addq %%rdx, %%rax\\n\");\n",
    "      printf(\"  pushq %%rax\\n\");\n",
    "      break;\n",
    "    case T_SUB:\n",
    "      _emit_asm(node->left);\n",
    "      _emit_asm(node->right);\n",
    "      printf(\"  popq %%rdx\\n\");\n",
    "      printf(\"  popq %%rax\\n\");\n",
    "      printf(\"  subq %%rdx, %%rax\\n\");\n",
    "      printf(\"  pushq %%rax\\n\");\n",
    "      break;\n",
    "    case T_NUM:\n",
    "      printf(\"  pushq $%d\\n\", node->left);\n",
    "      break;\n",
    "    case T_VAR:\n",
    "      printf(\"  pushq %d(%%rbp)\\n\", -((int)node->left + 1) * 8);\n",
    "      break;\n",
    "  }\n",
    "}\n",
    "\n",
    "void emit_asm(Node* node) {\n",
    "  int stk;\n",
    "  printf(\"     .section .rodata\\n\");\n",
    "  printf(\".Lprompt: .string \\\"> \\\"\\n\");\n",
    "  printf(\".Lread: .string \\\"%%ld\\\"\\n\");\n",
    "  printf(\".Lprint: .string \\\"%%ld\\\\n\\\"\\n\");\n",
    "  printf(\"     .text\\n\");\n",
    "  printf(\".globl main\\n\");\n",
    "  printf(\"main:\\n\");\n",
    "  printf(\"     pushq %%rbp\\n\");\n",
    "  printf(\"     movq %%rsp, %%rbp\\n\");\n",
    "  stk = (8 * stabuse + 15) / 16;\n",
    "  stk *= 16;\n",
    "  printf(\"     subq $%d, %%rsp\\n\", stk);\n",
    "  _emit_asm(node);\n",
    "  printf(\"     leave\\n\");\n",
    "  printf(\"     ret\\n\\n\");\n",
    "}\n",
    "\n",
    "#include \"y.tab.c\"\n",
    "#include \"lex.yy.c\"\n",
    "\n",
    "int main() {\n",
    "  yyparse();\n",
    "  return 0;\n",
    "}"
   ]
  },
  {
   "cell_type": "markdown",
   "id": "5ef8ddd2-6040-4497-9c7a-a700225cb51e",
   "metadata": {
    "deletable": false,
    "editable": false,
    "slideshow": {
     "slide_type": ""
    },
    "tags": []
   },
   "source": [
    "`emit_asm()`では，アセンブリ言語に必要なおきまりのコードを出力し，プログラム本体のコードを生成する`_emit_asm()`を呼び出します．\n",
    "今の言語には，`read`文と`print`文で入出力を扱いますが，これはCの標準ライブラリにある`scanf()`と`printf()`を使います．これらの関数は，引数として浮動小数点数を受けとる可能性があるため，これらの関数を呼び出すときには `rax` に `0` を設定しておく必要があります．\n",
    "\n",
    "ラベル `.Lprompt`は，`printf()`で，`.Lread`は`scanf()`で，`.Lprint`は `printf()`でそれぞれ使うための制御文字列「`\"> \"`」，「`\"%ld\"`」「`\"%ld\\n\"`」を入れた場所（アドレス）を参照するためのラベルです（符号付き64ビット長の値を読み書きするので，`%ld`）．ディレクティブ「`.string 文字列`」は，メモリを「文字列」で初期化するためです（Cと同様「文字列」はnull終端される）． "
   ]
  },
  {
   "cell_type": "markdown",
   "id": "4aecd791-5952-4bb3-b457-7e340fc7f214",
   "metadata": {
    "deletable": false,
    "editable": false,
    "slideshow": {
     "slide_type": ""
    },
    "tags": []
   },
   "source": [
    "`_emit_asm()`の処理も出力する言語がCからアセンブリ言語になっているだけで，`_emit_c()`と同様です．\n",
    "出力するときに，実行時の途中結果を渡すかは，勝手に決めればよいので，**式の計算結果はスタックトップに置いてあるもの**としています．\n",
    "\n",
    "- T_ASSIGN : 右辺を計算するコードを生成し，（結果はスタックトップにあるので）スタックから変数の場所にポップします．\n",
    "- T_STLIST : 左側に文の並びがあれば，まずそのコードを出力し，続いて右側にある文のコードを出力します．\n",
    "- T_READ : まずは，プロンプト「`> `」を出力します．それには，書き出すべき文字列のアドレスを（`printf()`の第1引数である）`%rdi`に入れて `printf()` を呼び出します．次に，変数のアドレス「`%rbp - (変数番号 + 1) * 8`」を（`scanf()`の第2引数である）レジスタ`%rsi`に，読み取り書式の文字列「`\"%ld\"`」のアドレス（第1引数である）レジスタ `%rdi` に入れて `scanf()` を呼び出します．変数のアドレスは，`%rbp - 8`，`%rbp - 16`であることに注意．C言語で\n",
    "\n",
    "  ```\n",
    "    printf(\"> \");\n",
    "    scanf(\"%ld\", &変数);\n",
    "  ```\n",
    "  と書いたコードに相当します．\n",
    "\n",
    "- T_PRINT : まず，`_emit_asm()` で式のコードを出力します．（それを実行したらスタックトップに式の結果が置かれているはずなので）スタックトップを（`printf()`の第2引数である）レジスタ`%rsi`にポップします．出力書式の文字列「`\"%ld\\n\"`」のアドレスを（第1引数である）レジスタ `%rdi` に入れて，`printf()`を呼び出します．なお`printf()`には，（ここでは使っていないが）引数として浮動小数点数が渡る可能性があるため，レジスタ`%rax`にゼロを入れておく必要があります．C言語で\n",
    "\n",
    "  ```\n",
    "    printf(\"%ld\\n\", 式);\n",
    "  ```\n",
    "  と書いたコードに相当します．\n",
    "\n",
    "- T_ADD，T_SUB : 左の項を計算するコードを生成し，ついで右の項を計算するコードを生成します．これでスタックは上から，右の項の結果，左の項の結果となっているので，右の項の値をレジスタ`%rdx`にポップし，ついで左の項の値を`%rax`にポップし，「`%rax←%rax+%rdx`」を計算して，その結果をプッシュします．\n",
    "- T_NUM : 上で決めたことにより，値をスタックにプッシュします．\n",
    "- T_VAR : 同様に，変数の値をスタックにプッシュします．"
   ]
  },
  {
   "cell_type": "markdown",
   "id": "664b014c-a108-4c8f-8c68-e07a64f901b6",
   "metadata": {
    "deletable": false,
    "editable": false,
    "slideshow": {
     "slide_type": ""
    },
    "tags": []
   },
   "source": [
    "それでは，実行してみましょう．C言語へのコンパイラのときには，出力されたCのコードを手動でコンパイルしてみましょう，と説明しましたが，アセンブリ言語を実行するときにはどうすれば良いか説明していませんでした．\n",
    "\n",
    "アセンブリ言語のコードから，実行形式を作るには，`cc`コマンドを使います．\n",
    "```\n",
    "% cc ファイル名.s\n",
    "```\n",
    "\n",
    "`cc`コマンドは，\n",
    "1. サフィックスが `.c` のファイルは，Cソースだと思ってアセンブリ語に翻訳し，翻訳結果をアセンブルする．\n",
    "2. サフィックスが `.s` のファイルは，直接アセンブルする．\n",
    "3. いずれの場合も，アセンブル結果の `.o` ファイルを C の標準ライブラリとリンクして `a.out` ファイルを作る．\n",
    "\n",
    "ということを行います．\n",
    "\n",
    "今回のこのノートブックでは，直前に作成された `a.out` を自前のコンパイラだと思って（**a.outを作り忘れないように**），自分言語のプログラムを入力として受けとる `uecc` というノートブックのコマンドを作成してあります．ですので，今回は，上で `emit_asm()` を実装したCプログラムを正しく実行できていればコンパイラの`a.out`が生成できているはずで，以下のコードを実行すると，`a.out`が作成できます．"
   ]
  },
  {
   "cell_type": "code",
   "execution_count": null,
   "id": "57cfadd8-8b32-4b6a-ba7b-deabf24e8c1b",
   "metadata": {
    "deletable": false,
    "editable": false,
    "slideshow": {
     "slide_type": ""
    },
    "tags": []
   },
   "outputs": [],
   "source": [
    "/* uecc ex3-3.uec */\n",
    "main {\n",
    "  read x;\n",
    "  y = x + 1;\n",
    "  print y;\n",
    "}"
   ]
  },
  {
   "cell_type": "markdown",
   "id": "dfb28523-8554-4b65-b9be-5bb3d1b3c13c",
   "metadata": {
    "deletable": false,
    "editable": false,
    "slideshow": {
     "slide_type": ""
    },
    "tags": []
   },
   "source": [
    "確認のためにアセンブリ言語のコードを出力しています．このコードが `.uec.s` ファイルに保存されて，`cc`コマンドで `a.out` が作成されました．\n",
    "\n",
    "1つ数字を読み込んで，その数に1を足すだけのプログラムですが，以下のように実行できます．"
   ]
  },
  {
   "cell_type": "code",
   "execution_count": null,
   "id": "55ed6d38-1dd4-4076-8d7e-9611917cf9cf",
   "metadata": {
    "deletable": false,
    "editable": false,
    "slideshow": {
     "slide_type": ""
    },
    "tags": []
   },
   "outputs": [],
   "source": [
    "/* a.out */\n",
    "8"
   ]
  },
  {
   "cell_type": "markdown",
   "id": "651aa460-1cfb-4d99-a381-45f51762524f",
   "metadata": {
    "deletable": false,
    "editable": false,
    "slideshow": {
     "slide_type": ""
    },
    "tags": []
   },
   "source": [
    "以上のように，C言語へコンパイルしていたのと同様に，アセンブリ言語へもコンパイルできました．\n",
    "C言語のときと比べると，\n",
    "- 実行形式を考える必要がある（スタックの使い方など）\n",
    "- アセンブリ言語の決まりを意識する必要がある\n",
    "\n",
    "という点はありますが，コンパイラにおけるコード生成について理解できたものと思います．"
   ]
  },
  {
   "cell_type": "markdown",
   "id": "a555643d-9cab-4a0d-a68f-1632ab5e049f",
   "metadata": {
    "deletable": false,
    "editable": false,
    "slideshow": {
     "slide_type": ""
    },
    "tags": []
   },
   "source": [
    "# 練習問題\n",
    "\n",
    "成績の評価時に考慮します．\n",
    "必須ではないですが，後からの提出は認めないので，授業時間内+α（13:00〜19:00）の間に提出してください．\n",
    "順番にやる必要はなく，できるものから取り組んでください．\n",
    "\n",
    "## 提出方法\n",
    "\n",
    "以下の問題について，この3.ipynbファイルを編集し，完成した自分が編集した .ipynb ファイルをGoogle Classroomの該当課題に提出してください．（もしこのノートブックをファイルに保存したいときには，メニューの「file」→「Download」で .ipynb ファイルをダウンロード出来るので，それを提出してください．）\n",
    "\n",
    "- 適宜コメントを入れてください．\n",
    "- 提出する際のファイル名は，「**`学籍番号.ipynb`**」としてください．"
   ]
  },
  {
   "cell_type": "markdown",
   "id": "d6c0b9b4-2570-4ef4-91cc-6057d4c48c5b",
   "metadata": {
    "deletable": false,
    "editable": false,
    "slideshow": {
     "slide_type": ""
    },
    "tags": []
   },
   "source": [
    "## 問題1\n",
    "\n",
    "C言語へのコンパイラで，`while`文に対応してください．\n",
    "前回の練習問題を解いた人は，複合文や `<=`や論理演算などに対応したものでもよいです．\n",
    "\n",
    "ヒント: LexとYaccは前回のままでいけるはず（`while`だけではなくて，`<`や`>`や`++`を追加するのも忘れないこと）"
   ]
  },
  {
   "cell_type": "code",
   "execution_count": null,
   "id": "e5b014b4-bdcd-463b-a8ad-1795a41ff66f",
   "metadata": {
    "deletable": false,
    "editable": true,
    "slideshow": {
     "slide_type": ""
    },
    "tags": []
   },
   "outputs": [],
   "source": [
    "/* lex p3-1.lex */\n",
    "ここに書く"
   ]
  },
  {
   "cell_type": "code",
   "execution_count": null,
   "id": "78b6b51a-18fb-46cd-a181-0684d59946e1",
   "metadata": {
    "deletable": false,
    "editable": true,
    "slideshow": {
     "slide_type": ""
    },
    "tags": []
   },
   "outputs": [],
   "source": [
    "/* yacc p3-1.yacc */\n",
    "ここに書く"
   ]
  },
  {
   "cell_type": "code",
   "execution_count": null,
   "id": "9ff90659-46ee-42e7-99db-b1e4083b2884",
   "metadata": {
    "deletable": false,
    "editable": true,
    "slideshow": {
     "slide_type": ""
    },
    "tags": []
   },
   "outputs": [],
   "source": [
    "/* c p3-1.c */\n",
    "ここに書く"
   ]
  },
  {
   "cell_type": "code",
   "execution_count": null,
   "id": "95bf84ef-210a-4284-bd02-2ddbd611fdd0",
   "metadata": {
    "deletable": false,
    "editable": true,
    "slideshow": {
     "slide_type": ""
    },
    "tags": []
   },
   "outputs": [],
   "source": [
    "/* a.out */\n",
    "自分の書いた電卓のプログラムが正しく動作をしていることを確認できる入力を考えて書く"
   ]
  },
  {
   "cell_type": "markdown",
   "id": "5a0770ae-10b9-48cc-b0b9-b71cca37030f",
   "metadata": {
    "deletable": false,
    "editable": false,
    "slideshow": {
     "slide_type": ""
    },
    "tags": []
   },
   "source": [
    "## 問題2\n",
    "\n",
    "アセンブリ言語へのコンパイラで，`while`文に対応してください．\n",
    "いきなり実行すると難しいと思うので，簡単な例を使って，出てきたアセンブリ言語のコードをちゃんと読んで想定しているようになっているか見てみるとよいと思います．\n",
    "\n",
    "\n",
    "- ヒント: ループの条件の飛び先を表わす**ラベル**を適宜付けていく\n",
    "    つまり，\n",
    "  \n",
    "      ```\n",
    "      ラベル1:\n",
    "        条件に対応するコードを生成\n",
    "        条件が不成立ならばラベル2へ分岐\n",
    "            条件に合致する場合に実行する命令列（whileの本体）\n",
    "            ラベル1へ\n",
    "      ラベル2:\n",
    "      ```\n",
    "\n",
    "    というような命令列にすればよいですね．\n",
    "- ヒント: ラベル番号を管理できるように\n",
    "\n",
    "     ```\n",
    "     static int labelno = 1;\n",
    "     ```\n",
    "     \n",
    "     というような定義を `emit_asm`内に追加しましょう．\n",
    "- ヒント: `cmp`命令は，`cmp src, dst` の形式で，`src - dst` の結果をコンディションコードレジスタに暗黙的に入れてくれます．\n",
    "     「x64アセンブリ言語の説明」をよく読むこと．\n",
    "- ヒント: `cmp`命令の直後で，`jge ラベル` のような命令でコンディションコードレジスタの結果からジャンプできます．\n",
    "- ヒント（難しい箇所なので重要）: `while ( cond ) 式` のような構文なので，`cond`に対応するコードは `<` や `>` を表わす `T_LT` や `T_GT` の抽象構文木のノードになっているはずです．なので，`T_LT`や`T_GT`でコードを出力する箇所（`_emit_asm`の`switch`の分岐）では，`jge`や`jle`だけを出力しておいて（ラベルは表示しない），`T_WHILE`の箇所でラベルを出力するようにしましょう． （単独の式として出てくる `x = 1 < 5`のようなものは，今の言語にはないのでこれでよい）\n",
    "- ヒント: `T_WHILE`の箇所でラベルを出力する際には，適宜`labelno++`して，ラベルがちゃんと被らないようにしましょう．"
   ]
  },
  {
   "cell_type": "code",
   "execution_count": null,
   "id": "dcc9cf04-977d-474f-af0b-ab1998d6d5d0",
   "metadata": {
    "deletable": false,
    "editable": true,
    "slideshow": {
     "slide_type": ""
    },
    "tags": []
   },
   "outputs": [],
   "source": [
    "/* lex p3-2.lex */\n",
    "ここに書く"
   ]
  },
  {
   "cell_type": "code",
   "execution_count": null,
   "id": "1a772cd0-a584-4ef2-986d-6c82e389a365",
   "metadata": {
    "deletable": false,
    "editable": true,
    "slideshow": {
     "slide_type": ""
    },
    "tags": []
   },
   "outputs": [],
   "source": [
    "/* yacc p3-.yacc */\n",
    "ここに書く"
   ]
  },
  {
   "cell_type": "code",
   "execution_count": null,
   "id": "d9246ed2-1e04-442d-a6aa-e885566d1b86",
   "metadata": {
    "deletable": false,
    "editable": true,
    "slideshow": {
     "slide_type": ""
    },
    "tags": []
   },
   "outputs": [],
   "source": [
    "/* c p3-.c */\n",
    "ここに書く"
   ]
  },
  {
   "cell_type": "code",
   "execution_count": null,
   "id": "79026807-8bd9-49f1-b906-fcc805a841f4",
   "metadata": {
    "deletable": false,
    "editable": true,
    "slideshow": {
     "slide_type": ""
    },
    "tags": []
   },
   "outputs": [],
   "source": [
    "/* a.out */\n",
    "自分の書いた電卓のプログラムが正しく動作をしていることを確認できる入力を考えて書く"
   ]
  }
 ],
 "metadata": {
  "kernelspec": {
   "display_name": "lex yacc",
   "language": "lexyacc",
   "name": "lexyacc-kernel"
  },
  "language_info": {
   "mimetype": "text/plain",
   "name": "lex yacc"
  }
 },
 "nbformat": 4,
 "nbformat_minor": 5
}
