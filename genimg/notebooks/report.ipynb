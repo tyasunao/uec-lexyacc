{
 "cells": [
  {
   "cell_type": "markdown",
   "id": "21159c89-d07a-4667-89f2-beec6b48c4b7",
   "metadata": {
    "deletable": false,
    "editable": false,
    "slideshow": {
     "slide_type": ""
    },
    "tags": []
   },
   "source": [
    "# レポート課題\n",
    "\n",
    "以下の問題について，この `report.ipynb` を編集し，完成した自分が編集した .ipynb ファイルをGoogle Classroomの該当課題に提出してください．（もしこのノートブックをファイルに保存したいときには，メニューの「file」→「Download」で .ipynb ファイルをダウンロード出来るので，それを提出してください．）\n",
    "\n",
    "\n",
    "- 適宜コメントを入れてください．\n",
    "- 提出する際のファイル名は，「`学籍番号.ipynb`」としてください．\n",
    "- 問題1について，Markdownで書きにくい場合には，ClassroomにPDFファイルを追加して提出してもかまいません．\n",
    "- 発展課題は任意とします．\n",
    "- Markdownを書くときには，[Wiki](https://ja.wikipedia.org/wiki/Markdown)にあるぐらいの基本的なマークアップで書いてくれればよいです（もちろん，自分で調べてもっと高度なMarkdownを書いてくれても見られればよいです）．"
   ]
  },
  {
   "cell_type": "markdown",
   "id": "4f3405bc-e145-4f14-aacb-d4396bb0051c",
   "metadata": {
    "deletable": false,
    "editable": false,
    "slideshow": {
     "slide_type": ""
    },
    "tags": []
   },
   "source": [
    "# 問題1 - LALR構文解析についてまとめる（第2回の内容から）\n",
    "\n",
    "Yaccは，***LALR構文解析*** を行う構文解析器を出力するということを第2回で説明しました．\n",
    "\n",
    "LALR構文解析について，以下の用語などを交えて説明してください．\n",
    "（すべてが含まれている必要はないですが，自分でちゃんと理解したうえでまとめること）\n",
    "\n",
    "- 上向き構文解析\n",
    "- スタック\n",
    "- 構文解析表\n",
    "- Shift / Reduce\n",
    "- shift/reduce conflict の例\n",
    "- reduce/reduce conflictの例\n",
    "- 第1回の問題5 （右再帰と左再帰で，どちらがYaccにとって良いか．）\n",
    "\n",
    "ヒント1: 書籍が沢山出ているので，それを参考にしてください．（僕らのときは，）\n",
    "\n",
    "> 『情報科学こんせぷつ8 コンパイラの仕組み』渡邊 坦(著) ISBN：978-4-254-12708-9\n",
    "\n",
    "が教科書に指定されていました．\n",
    "\n",
    "ヒント2: 今回のノートブックが裏で使っているBisonのページは次のとおり，\n",
    "[The Bison Parser Algorithm](https://www.gnu.org/software/bison/manual/html_node/Algorithm.html)"
   ]
  },
  {
   "cell_type": "markdown",
   "id": "0efee62a-5d03-405e-84f9-74a632b00632",
   "metadata": {
    "deletable": false,
    "editable": true,
    "slideshow": {
     "slide_type": ""
    },
    "tags": []
   },
   "source": []
  },
  {
   "cell_type": "markdown",
   "id": "1f66f377-d7fb-420f-805a-012ac9677c72",
   "metadata": {
    "deletable": false,
    "editable": false,
    "slideshow": {
     "slide_type": ""
    },
    "tags": []
   },
   "source": [
    "# 問題2 - 電卓の拡張（第1回の内容から）\n",
    "\n",
    "第1回で作成した電卓を自由に拡張して，以下にコードを載せてください．\n",
    "どんな機能を追加したかをMarkdownにまとめて書いて，コードには適宜コメントを入れてください．\n",
    "\n",
    "- 授業の練習問題で自分が作成したものを含んでいてもよいです．\n",
    "- Yaccの**演算子順序**について自分で調べて利用してくれてもよいです．\n",
    "- 授業で対応していなかった演算・実数・関数に対応するなど，一般の関数電卓にある機能でもよいですし，自分で考えた新たな機能でもよいです（プログラムになってしまうと，次の問題3になってしまうので，あくまで電卓の範囲で）"
   ]
  },
  {
   "cell_type": "markdown",
   "id": "3aae73e0-66d8-4103-8b99-d1af8ce0a932",
   "metadata": {
    "deletable": false,
    "editable": true,
    "slideshow": {
     "slide_type": ""
    },
    "tags": []
   },
   "source": [
    "どんな機能を追加したのか，ここに書く"
   ]
  },
  {
   "cell_type": "code",
   "execution_count": null,
   "id": "99b19c47-b60c-457f-8b6a-c0b343167b24",
   "metadata": {
    "deletable": false,
    "editable": true,
    "slideshow": {
     "slide_type": ""
    },
    "tags": []
   },
   "outputs": [],
   "source": [
    "/* lex f2.lex */"
   ]
  },
  {
   "cell_type": "code",
   "execution_count": null,
   "id": "90c58c05-2f1c-4325-b8d1-653d894d0777",
   "metadata": {
    "deletable": false,
    "editable": true,
    "slideshow": {
     "slide_type": ""
    },
    "tags": []
   },
   "outputs": [],
   "source": [
    "/* yacc f2.yacc */"
   ]
  },
  {
   "cell_type": "code",
   "execution_count": null,
   "id": "bfdab3e8-b0a9-49e2-9f8c-e9c849bc3ef6",
   "metadata": {
    "deletable": false,
    "editable": true,
    "slideshow": {
     "slide_type": ""
    },
    "tags": []
   },
   "outputs": [],
   "source": [
    "/* c f2.c */"
   ]
  },
  {
   "cell_type": "code",
   "execution_count": null,
   "id": "53c4b4ff-8866-41f2-a3ba-f2cdea811507",
   "metadata": {
    "deletable": false,
    "editable": true,
    "slideshow": {
     "slide_type": ""
    },
    "tags": []
   },
   "outputs": [],
   "source": [
    "/* a.out */\n",
    "自分の電卓の機能をアピールできるような実行例を示してください．"
   ]
  },
  {
   "cell_type": "markdown",
   "id": "c44a2e50-dab0-4f8d-8643-1ee9b1bf7dd0",
   "metadata": {
    "deletable": false,
    "editable": false,
    "slideshow": {
     "slide_type": ""
    },
    "tags": []
   },
   "source": [
    "# 問題3 - 自分のプログラミング言語の拡張（第2・3回の内容から）\n",
    "\n",
    "第2・3回で作成したプログラミング言語を自由に拡張して，以下にコードを載せてください．どんな機能を追加したか（複数推奨）をMarkdownでまとめて書いて，コードには適宜コメントを入れてください．\n",
    "\n",
    "- 授業の練習問題で自分が作成したものを含んでもよいです．\n",
    "- インタプリタでもコンパイラでもどちらでもよいです．\n",
    "  - コンパイラの場合，出力先の言語は授業でやったC・x64アセンブリ言語のどちらかにしてください（出力先を変えてみるのは，以下で任意発展課題としています）\n",
    "- たとえば，以下のような拡張が考えられます．（もちろん，これ以外の拡張もどんどん入れてください）\n",
    "  - `if`文\n",
    "  - `for`文\n",
    "  - `switch`文\n",
    "  - サブルーチン（値を返さない）\n",
    "  - 関数（値を返す）\n",
    "    - アセンブリ言語でやるとしたら，ラベルなどを付けてジャンプすることになるはず．どうスタックを使うかなどを考えないといけない．\n",
    "  - 配列（1次元でよい）"
   ]
  },
  {
   "cell_type": "markdown",
   "id": "955b364c-3d6d-4170-88a0-00175014c79c",
   "metadata": {
    "deletable": false,
    "editable": true,
    "slideshow": {
     "slide_type": ""
    },
    "tags": []
   },
   "source": [
    "どんな機能を追加したのか，ここに書く"
   ]
  },
  {
   "cell_type": "code",
   "execution_count": null,
   "id": "4d7b58f3-1e29-4614-af2c-7279757becf6",
   "metadata": {
    "deletable": false,
    "editable": true,
    "slideshow": {
     "slide_type": ""
    },
    "tags": []
   },
   "outputs": [],
   "source": [
    "/* lex f3.lex */"
   ]
  },
  {
   "cell_type": "code",
   "execution_count": null,
   "id": "d09338c0-e6d7-43c8-874d-b77d8917b089",
   "metadata": {
    "deletable": false,
    "editable": true,
    "slideshow": {
     "slide_type": ""
    },
    "tags": []
   },
   "outputs": [],
   "source": [
    "/* yacc f3.yacc */"
   ]
  },
  {
   "cell_type": "code",
   "execution_count": null,
   "id": "3ffac5b7-c670-4af9-9171-12a0eed8fd00",
   "metadata": {
    "deletable": false,
    "editable": true,
    "slideshow": {
     "slide_type": ""
    },
    "tags": []
   },
   "outputs": [],
   "source": [
    "/* c f3.c */"
   ]
  },
  {
   "cell_type": "code",
   "execution_count": null,
   "id": "b09cb3e2-07bd-4906-953f-e70e3c436443",
   "metadata": {
    "deletable": false,
    "editable": true,
    "slideshow": {
     "slide_type": ""
    },
    "tags": []
   },
   "outputs": [],
   "source": [
    "/* a.out */\n",
    "自分のプログラミング言語をアピールできるような実行例を示してください．"
   ]
  },
  {
   "cell_type": "markdown",
   "id": "79353459-eeab-45f4-ac6a-c8c0ba6e6e67",
   "metadata": {
    "deletable": false,
    "editable": false,
    "slideshow": {
     "slide_type": ""
    },
    "tags": []
   },
   "source": [
    "# 発展問題1 - コード生成（第3回の内容から）\n",
    "\n",
    "第3回で，C言語とx64アセンブリ言語に出力するコンパイラを作成しました．それを参考にして，他のプログラミング言語に出力するコンパイラを作成してください．どんなプログラミング言語に出力するかと，必要に応じて実行モデルについてどうしたか（翻訳するときにどう決めたか）をMarkdownにまとめて書いて，コードには適宜コメントを入れてください．\n",
    "\n",
    "- 自分の知っているどんな言語でもいいです．\n",
    "  - 言語処理系論で出てきた WebAssemblyについて自分で調べてみて出力できると，おもしろいかもしれない（その場合は呼び出すJavaScriptも書いてほしい）．"
   ]
  },
  {
   "cell_type": "markdown",
   "id": "e8d75736-98c1-4029-b547-0b90f9d6a481",
   "metadata": {
    "deletable": false,
    "editable": true,
    "slideshow": {
     "slide_type": ""
    },
    "tags": []
   },
   "source": [
    "どんな言語に出力したのか，ここに書く"
   ]
  },
  {
   "cell_type": "code",
   "execution_count": null,
   "id": "5db5390a-e5e4-41bc-9315-95096dae31e4",
   "metadata": {
    "deletable": false,
    "editable": true,
    "slideshow": {
     "slide_type": ""
    },
    "tags": []
   },
   "outputs": [],
   "source": [
    "/* lex f4.lex */"
   ]
  },
  {
   "cell_type": "code",
   "execution_count": null,
   "id": "2ea3e8b6-c9a9-481c-a8a8-7ac35e463cc3",
   "metadata": {
    "deletable": false,
    "editable": true,
    "slideshow": {
     "slide_type": ""
    },
    "tags": []
   },
   "outputs": [],
   "source": [
    "/* yacc f4.yacc */"
   ]
  },
  {
   "cell_type": "code",
   "execution_count": null,
   "id": "8cbad5be-962c-4992-b4dc-e919ea3792a8",
   "metadata": {
    "deletable": false,
    "editable": true,
    "slideshow": {
     "slide_type": ""
    },
    "tags": []
   },
   "outputs": [],
   "source": [
    "/* c f4.c */"
   ]
  },
  {
   "cell_type": "code",
   "execution_count": null,
   "id": "828f6818-c5b6-46c0-bd8f-dbb3d4b3cf79",
   "metadata": {
    "deletable": false,
    "editable": true,
    "slideshow": {
     "slide_type": ""
    },
    "tags": []
   },
   "outputs": [],
   "source": [
    "/* a.out */"
   ]
  },
  {
   "cell_type": "markdown",
   "id": "53485e03-87d4-4611-aa8a-e970e40ae4b1",
   "metadata": {
    "deletable": false,
    "editable": false,
    "slideshow": {
     "slide_type": ""
    },
    "tags": []
   },
   "source": [
    "# 発展問題2 - プログラミングではない用途（第3回の内容から）\n",
    "\n",
    "第3回で，簡単な英文解析プログラムを作成しました．同様にして，プログラミング言語ではない用途でLex・Yaccを使用したものを自由に作成して，以下にコードを載せてください．どんなプログラムかをMarkdownでまとめて書いて，コードには適宜コメントを入れてください．\n",
    "\n",
    "- 英文の例を単純に拡張するのでもよいです．\n",
    "- JSONやXMLのようなデータを読み込むプログラムでもよいです．\n",
    "- コマンドのオプションを読み込むときに使うプログラムでもよいです．\n",
    "  - たとえば，`ssh`だったら（`% ssh -l ユーザー名`）のようにコマンドを書くけれど，それを解釈するプログラム．間違っていたら`man`コマンドの結果のように使い方を表示すしてみるなど"
   ]
  },
  {
   "cell_type": "markdown",
   "id": "d7680722-bf95-4318-aaa5-2a01be1a1818",
   "metadata": {
    "deletable": false,
    "editable": true,
    "slideshow": {
     "slide_type": ""
    },
    "tags": []
   },
   "source": [
    "どんな機能を追加したのか，ここに書く"
   ]
  },
  {
   "cell_type": "code",
   "execution_count": null,
   "id": "c9ef18e1-d67d-44cf-81d5-8e09a1232c5f",
   "metadata": {
    "deletable": false,
    "editable": true,
    "slideshow": {
     "slide_type": ""
    },
    "tags": []
   },
   "outputs": [],
   "source": [
    "/* lex f5.lex */"
   ]
  },
  {
   "cell_type": "code",
   "execution_count": null,
   "id": "06219dc3-635f-4806-95b2-e7a4c294c8e1",
   "metadata": {
    "deletable": false,
    "editable": true,
    "slideshow": {
     "slide_type": ""
    },
    "tags": []
   },
   "outputs": [],
   "source": [
    "/* yacc f5.yacc */"
   ]
  },
  {
   "cell_type": "code",
   "execution_count": null,
   "id": "de6e564f-6c77-400f-b237-9df21c8becec",
   "metadata": {
    "deletable": false,
    "editable": true,
    "slideshow": {
     "slide_type": ""
    },
    "tags": []
   },
   "outputs": [],
   "source": [
    "/* c f5.c */"
   ]
  },
  {
   "cell_type": "code",
   "execution_count": null,
   "id": "13c91d56-d17f-429d-8de9-ec820c43de36",
   "metadata": {
    "deletable": false,
    "editable": true,
    "slideshow": {
     "slide_type": ""
    },
    "tags": []
   },
   "outputs": [],
   "source": [
    "/* a.out */"
   ]
  },
  {
   "cell_type": "markdown",
   "id": "e1a16b6e-5ed7-42cc-99ae-3def622a7641",
   "metadata": {
    "deletable": false,
    "editable": false,
    "slideshow": {
     "slide_type": ""
    },
    "tags": []
   },
   "source": [
    "# 発展問題3 - 最適化\n",
    "\n",
    "授業資料で作成したコンパイラは，抽象構文木を作成しただけでした．\n",
    "抽象構文木の構造をいじってやれば，コンパイラに最適化を実装できます．この課題では，自由に考えて（調べて）自分が作成したコンパイラになんらかの最適化手法を取り入れてください．\n",
    "\n",
    "- ここまでの問題のどのバージョンのコンパイラでもよいです．\n",
    "  - 最適化の効果が見やすいので，C言語にコード生成してくれるとありがたい． \n",
    "- たとえば，\n",
    "  - 別々の式になっていた足し算を1つにマージするとか（実際問題として実行速度が上がるわけではないが，抽象構文木の形を変える練習として）\n",
    "  - [SSA](https://ja.wikipedia.org/wiki/%E9%9D%99%E7%9A%84%E5%8D%98%E4%B8%80%E4%BB%A3%E5%85%A5) 形式に変換してみるとか\n",
    "  - ループ最適化とか"
   ]
  },
  {
   "cell_type": "code",
   "execution_count": null,
   "id": "5204e3eb-7a98-4acc-bf42-97b7e0689e6d",
   "metadata": {
    "deletable": false,
    "editable": true,
    "slideshow": {
     "slide_type": ""
    },
    "tags": []
   },
   "outputs": [],
   "source": [
    "/* lex f6.lex */"
   ]
  },
  {
   "cell_type": "code",
   "execution_count": null,
   "id": "59d5932e-64e2-4489-8b7e-f9298886f794",
   "metadata": {
    "deletable": false,
    "editable": true,
    "slideshow": {
     "slide_type": ""
    },
    "tags": []
   },
   "outputs": [],
   "source": [
    "/* yacc f6.yacc */"
   ]
  },
  {
   "cell_type": "code",
   "execution_count": null,
   "id": "0418fa85-ffb6-46d5-a3e7-9115b4f77aff",
   "metadata": {
    "deletable": false,
    "editable": true,
    "slideshow": {
     "slide_type": ""
    },
    "tags": []
   },
   "outputs": [],
   "source": [
    "/* c f6.c */"
   ]
  },
  {
   "cell_type": "code",
   "execution_count": null,
   "id": "86f5afea-6fd7-42b0-af07-94f71501893c",
   "metadata": {
    "deletable": false,
    "editable": true,
    "slideshow": {
     "slide_type": ""
    },
    "tags": []
   },
   "outputs": [],
   "source": [
    "/* a.out */"
   ]
  }
 ],
 "metadata": {
  "kernelspec": {
   "display_name": "lex yacc",
   "language": "lexyacc",
   "name": "lexyacc-kernel"
  },
  "language_info": {
   "mimetype": "text/plain",
   "name": "lex yacc"
  }
 },
 "nbformat": 4,
 "nbformat_minor": 5
}
