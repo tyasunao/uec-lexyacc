{
 "cells": [
  {
   "cell_type": "markdown",
   "id": "ea0bcad2-2269-4cb4-8171-f979c05d1e7a",
   "metadata": {
    "deletable": false,
    "editable": false,
    "slideshow": {
     "slide_type": ""
    },
    "tags": []
   },
   "source": [
    "# J5実験 第2回\n",
    "\n",
    "第1回で，基本的なLexとYaccの使い方を学びました．今回はそれを発展させて，\n",
    "- 電卓\n",
    "- 単純なプログラミング言語のインタプリタ（解釈実行器）\n",
    "\n",
    "を作りましょう．\n",
    "\n",
    "忘れてしまったところは，前回の授業資料 1.ipynb を参照してください．"
   ]
  },
  {
   "cell_type": "markdown",
   "id": "9505ff16-cf17-42ac-b87d-be849ba5a2b8",
   "metadata": {
    "deletable": false,
    "editable": false,
    "slideshow": {
     "slide_type": ""
    },
    "tags": []
   },
   "source": [
    "# 電卓（1）\n",
    "\n",
    "## 簡易的な電卓\n",
    "\n",
    "前回は最後に，以下のような Yacc のプログラムを作成しました．\n",
    "\n",
    "---\n",
    "\n",
    "```\n",
    "%token NUM;\n",
    "%%\n",
    "expr : NUM              { printf(\"NUM: %s\\n\", yytext); }\n",
    "     | expr '+' NUM     { printf(\"ADD: %s\\n\", yytext); }\n",
    "     ;\n",
    "```\n",
    "\n",
    "---\n",
    "\n",
    "構文解析して，構文規則に当てはまったらLexの該当した値を出力するプログラムでしたね．\n",
    "各構文規則が認識できているので，これを値として計算するのは簡単です．\n",
    "\n",
    "---\n",
    "\n",
    "```\n",
    "%token NUM;\n",
    "%%\n",
    "expr : NUM              { value = atoi(yytext); }\n",
    "     | expr '+' NUM     { value = value + atoi(yytext); }\n",
    "     ;\n",
    "```\n",
    "\n",
    "---\n",
    "\n",
    "各構文規則の右側の`{}`で囲まれたアクションの部分に注目してください．\n",
    "数が出現したときに，`value`というCプログラム上の変数に覚えておきます．Lexが読み込んだ `yytext` はあくまで文字列としての数字の並びですので，Cの関数 `atoi(char*)`を使って，整数に変換しています．足し算があるごとに，`value`の値を更新していけば，電卓になるわけです．\n",
    "[atoiの仕様](https://ja.wikipedia.org/wiki/Atoi)\n",
    "\n",
    "それでは，実際に実行してみましょう．"
   ]
  },
  {
   "cell_type": "code",
   "execution_count": null,
   "id": "0242ea5f-bae8-424e-81f1-9ec1fbed2417",
   "metadata": {
    "deletable": false,
    "editable": false,
    "slideshow": {
     "slide_type": ""
    },
    "tags": []
   },
   "outputs": [],
   "source": [
    "/* yacc ex2-1.yacc */\n",
    "%token NUM;\n",
    "%%\n",
    "expr : NUM              { value = atoi(yytext); }\n",
    "     | expr '+' NUM     { value = value + atoi(yytext); }\n",
    "     ;"
   ]
  },
  {
   "cell_type": "code",
   "execution_count": null,
   "id": "d6c4a2e9-783f-4ef3-8eb6-48ac27537478",
   "metadata": {
    "deletable": false,
    "editable": false,
    "slideshow": {
     "slide_type": ""
    },
    "tags": []
   },
   "outputs": [],
   "source": [
    "/* lex ex2-1.lex */\n",
    "digit     [0-9]\n",
    "white     [\\n\\t ]\n",
    "%%\n",
    "{digit}+  { return NUM; }\n",
    "\"+\"       { return '+'; }\n",
    "{white}   { ; }"
   ]
  },
  {
   "cell_type": "code",
   "execution_count": null,
   "id": "02d2cdac-f83f-4b44-a07c-7aceaa48d86a",
   "metadata": {
    "deletable": false,
    "editable": false,
    "slideshow": {
     "slide_type": ""
    },
    "tags": []
   },
   "outputs": [],
   "source": [
    "/* c ex2-1.c */\n",
    "#include <stdio.h>\n",
    "extern char *yytext;\n",
    "\n",
    "int value;\n",
    "\n",
    "#include \"y.tab.c\"\n",
    "#include \"lex.yy.c\"\n",
    "\n",
    "int main() {\n",
    "  yyparse();\n",
    "  printf(\"%d\\n\", value);\n",
    "  return 0;\n",
    "}"
   ]
  },
  {
   "cell_type": "code",
   "execution_count": null,
   "id": "be94ebcd-362e-46a0-b2fa-dd5fe7f878c1",
   "metadata": {
    "deletable": false,
    "editable": false,
    "slideshow": {
     "slide_type": ""
    },
    "tags": []
   },
   "outputs": [],
   "source": [
    "/* a.out */\n",
    "1+2+3"
   ]
  },
  {
   "cell_type": "markdown",
   "id": "790efe1c-9e52-48a2-852d-5e333155d9b5",
   "metadata": {
    "deletable": false,
    "editable": false,
    "slideshow": {
     "slide_type": ""
    },
    "tags": []
   },
   "source": [
    "ちゃんと足し算の結果が出ていることが分かります．\n",
    "\n",
    "以下のように，第1回の問題5のように，構文規則を変えるとどうなるでしょうか．"
   ]
  },
  {
   "cell_type": "code",
   "execution_count": null,
   "id": "6066232d-36b1-45e7-b581-ae6a22642403",
   "metadata": {
    "deletable": false,
    "editable": false,
    "slideshow": {
     "slide_type": ""
    },
    "tags": []
   },
   "outputs": [],
   "source": [
    "/* yacc p1-5.yacc */\n",
    "%token NUM;\n",
    "%%\n",
    "expr : NUM              { value = atoi(yytext); }\n",
    "     | NUM '+' expr     { value = value + atoi(yytext); }\n",
    "     ;"
   ]
  },
  {
   "cell_type": "markdown",
   "id": "39ec61af-9d20-4a8a-aece-5c5c2074601e",
   "metadata": {
    "deletable": false,
    "editable": false,
    "slideshow": {
     "slide_type": ""
    },
    "tags": []
   },
   "source": [
    "（Cのコードを再コンパイルするのを忘れないように）"
   ]
  },
  {
   "cell_type": "code",
   "execution_count": null,
   "id": "190e0ccc-cae4-415d-ae4f-b2548032bf3b",
   "metadata": {
    "deletable": false,
    "editable": false,
    "slideshow": {
     "slide_type": ""
    },
    "tags": []
   },
   "outputs": [],
   "source": [
    "/* a.out */\n",
    "1+2+3"
   ]
  },
  {
   "cell_type": "markdown",
   "id": "833bc783-61a8-40ea-842a-3cbe0490491f",
   "metadata": {
    "deletable": false,
    "editable": false,
    "slideshow": {
     "slide_type": ""
    },
    "tags": []
   },
   "source": [
    "`atoi()`は整数に変換できないときに `0` を返します．ですので，前回の出席課題の問題5で考えてもらったように，この構文で`yytext`を使ってしまうと，どんな式を与えても `value` は `0` になってしまいます．そのため，上のような実行結果になったのでした．\n",
    "\n",
    "このような構文は，左辺の`expr`が右辺の右側で再帰的に出現しているので，***右再帰*** の構文という風に呼ばれます．\n",
    "ここでは思った電卓の計算結果が出ませんでしたが，右再帰の構文が一概に悪いというわけではなく，ここで`yytext`を使っていたのが良くなかったということになりますので気をつけましょう（この問題を解決する属性値という仕組みについては後述）．ここで，Yaccから生成された構文解析器のつもりになってみると，右再帰の構文の場合には，入力の文字列（上の例だと`1+2+3`）を読んでいくときに，読み込み済みの箇所の結果をスタックのような構造で覚えておかないといけなくなってしまいます．\n",
    "\n",
    "ついでに，以下のような構文はどうすればよいでしょう．\n",
    "\n",
    "---\n",
    "\n",
    "```\n",
    "E ::= E + E | NUM\n",
    "```\n",
    "\n",
    "---\n",
    "\n",
    "この構文に対して，右辺の`E`を区別して書いて`E ::= E_a + E_b | NUM` とすると，`1+2+3`は，\n",
    "\n",
    "---\n",
    "\n",
    "```\n",
    "E_a → 1 + 2, E_b → 3\n",
    "```\n",
    "\n",
    "---\n",
    "\n",
    "と解析することもできますし，\n",
    "\n",
    "---\n",
    "\n",
    "```\n",
    "E_a → 1, E_b → 2 + 3\n",
    "```\n",
    "\n",
    "---\n",
    "\n",
    "と解析する事もできてしまいます．\n",
    "そのため，上のような`E ::= E + E | NUM`という構文は***あいまいな構文***と言われます．\n",
    "\n",
    "以上のように，構文規則を書くにしても，色々な書き方があるわけで，気をつけて書かないといけないという事です．"
   ]
  },
  {
   "cell_type": "markdown",
   "id": "ae07e209-bc26-4e59-9264-8ef071bd2de1",
   "metadata": {
    "deletable": false,
    "editable": false,
    "slideshow": {
     "slide_type": ""
    },
    "tags": []
   },
   "source": [
    "# Yaccが生成する構文解析器\n",
    "\n",
    "ここまでちゃんと意識してこなかったですが，Yaccは「左（L）から順に入力を読みとっていき，右端導出（R）を行う」解析手法（***LR構文解析***）を採用した構文解析器を生成します．\n",
    "右端導出とは，「右端の非終端記号から順に構文規則を適用していく方法」です．\n",
    "より厳密には，Yaccから生成される構文解析器は，***LALR構文解析***（***Lookahead LR法***）を使って構文解析をしています．Lookaheadというのは「入力文字を先読みする」という事です．\n",
    "\n",
    "上で出てきたあいまいな構文に対して，YaccがLR構文解析をしようとしたときに，\n",
    "- `shift/reduce conflict`\n",
    "- `reduce/reduce conflict`\n",
    "\n",
    "が起こる可能性があります．\n",
    "（前回「Lex と Yacc のデバッグ」の節で出てきた，ShiftとReduceの話です）\n",
    "\n",
    "`shift/reduce conflict` とは、構文規則が Shift（つまり，もっと読み込んでさらに長い非終端記号に Reduce（還元）できるようにする）か、Reduce（そこで非終端記号にしてしまう）かの2つの解釈ができてしまうということを意味しています．\n",
    "`reduce/reduce conflict` とは，同時に Reduce できる構文規則が複数あるということです（Yaccの場合には先に表われたほうを優先するが，望ましい構文ではない）．\n",
    "\n",
    "ここでは，詳しい説明は書きませんが（詳しいことを調べるのは，レポート課題としましょう！），我々が書いた構文規則にどうマッチするか確認する `y.tab.c` のプログラムがどのように入力文字を処理しているか（つまりLALR構文解析がどう実装できるか）を知っておくことも重要だと思います．\n",
    "（右再帰と左再帰で，どちらがYaccにとって良いかというのも分かるはず．）\n"
   ]
  },
  {
   "cell_type": "markdown",
   "id": "59b2fe6e-a8f9-40df-a99e-930c1613c77d",
   "metadata": {
    "deletable": false,
    "editable": false,
    "slideshow": {
     "slide_type": ""
    },
    "tags": []
   },
   "source": [
    "# 電卓（2）\n",
    "\n",
    "先の簡易的な電卓では，足し算の規則にマッチングしてCプログラム上の変数`value`に計算結果を保存していました．それだけだと不便な事もあるので，入力された式1行ごとに計算するように変えてみましょう．\n",
    "\n",
    "---\n",
    "\n",
    "```\n",
    "%token NUM;\n",
    "%%\n",
    "exprlist:\n",
    "        | exprlist expr '\\n'    { printf(\"%d\\n\", value); }\n",
    "        ;\n",
    "\n",
    "expr   :\n",
    "       | NUM                    { value = atoi(yytext); }\n",
    "       | expr '+' NUM           { value = value + atoi(yytext); }\n",
    "       ;\n",
    "```\n",
    "\n",
    "---\n",
    "\n",
    "この構文は「式の並び（`exprlist`）とは，空っぽであるか，または式の並びの後に式と改行が続いたもの」と読むことができます（空っぽの行があることに注意しましょう）．\n",
    "これで，各行毎に`value`の値を出力すれば，計算結果の値を表示することができます．\n",
    "\n",
    "実際に実行してみましょう．\n"
   ]
  },
  {
   "cell_type": "code",
   "execution_count": null,
   "id": "01fd4517-8734-4c81-b80e-26b192f76b2e",
   "metadata": {
    "deletable": false,
    "editable": false,
    "slideshow": {
     "slide_type": ""
    },
    "tags": []
   },
   "outputs": [],
   "source": [
    "/* lex ex2-2.lex */\n",
    "digit        [0-9]\n",
    "white        [\\t ]\n",
    "%%\n",
    "{digit}+     { return NUM; }\n",
    "\"+\"          { return '+'; }\n",
    "\"\\n\"         { return '\\n'; }\n",
    "{white}      { ; }"
   ]
  },
  {
   "cell_type": "markdown",
   "id": "5f43c217-30e4-4e87-9e74-e748b366d064",
   "metadata": {
    "editable": false,
    "slideshow": {
     "slide_type": ""
    },
    "tags": []
   },
   "source": [
    "前の例と比べて，`white`から `\\n` を抜いていることに注目してください．その代わりに`\\n`のパターンが追加されています．"
   ]
  },
  {
   "cell_type": "code",
   "execution_count": null,
   "id": "d0678d1e-9873-46d6-89e5-55b16b054b88",
   "metadata": {
    "deletable": false,
    "editable": false,
    "slideshow": {
     "slide_type": ""
    },
    "tags": []
   },
   "outputs": [],
   "source": [
    "/* yacc ex2-2.yacc */\n",
    "%token NUM;\n",
    "%%\n",
    "exprlist: \n",
    "        | exprlist expr '\\n'    { printf(\"%d\\n\", value); }\n",
    "        ;\n",
    "\n",
    "expr    :\n",
    "        | NUM                   { value = atoi(yytext); }\n",
    "        | expr '+' NUM          { value = value + atoi(yytext); }\n",
    "        ;"
   ]
  },
  {
   "cell_type": "code",
   "execution_count": null,
   "id": "13d9d0ad-1b11-43fc-8e20-66ba58ec3a11",
   "metadata": {
    "deletable": false,
    "editable": false,
    "slideshow": {
     "slide_type": ""
    },
    "tags": []
   },
   "outputs": [],
   "source": [
    "/* c ex2-2.c */\n",
    "#include <stdio.h>\n",
    "extern char *yytext;\n",
    "\n",
    "int value;\n",
    "\n",
    "#include \"y.tab.c\"\n",
    "#include \"lex.yy.c\"\n",
    "\n",
    "int main() {\n",
    "  yyparse();\n",
    "  return 0;\n",
    "}"
   ]
  },
  {
   "cell_type": "code",
   "execution_count": null,
   "id": "8de08410-6b37-4545-9409-0fae2cd98786",
   "metadata": {
    "deletable": false,
    "editable": false,
    "slideshow": {
     "slide_type": ""
    },
    "tags": []
   },
   "outputs": [],
   "source": [
    "/* a.out */\n",
    "1 + 2 + 3\n",
    "3 + 82\n",
    "9 + 2"
   ]
  },
  {
   "cell_type": "markdown",
   "id": "a43377f8-aafa-421d-a49b-9656e2c7b502",
   "metadata": {
    "deletable": false,
    "editable": false,
    "slideshow": {
     "slide_type": ""
    },
    "tags": []
   },
   "source": [
    "# 記号の属性値\n",
    "\n",
    "`yytext`の値を`value`に保存してしまうと不都合があるということを前述しました．これをCプログラム内で適宜保存する先を変えて配列やスタックのような構造を使って解決することも可能ではあるのですが，Yaccの「各非終端記号に**属性値**をつける機能」を使ってみましょう．ここでは，簡単のために整数値が1個だけということにしておきましょう．\n",
    "\n",
    "たとえば，括弧に対応した電卓の構文を考えると，以下のように属性値を使ったアクションを書くことができます．\n",
    "\n",
    "---\n",
    "\n",
    "```\n",
    "%token NUM;\n",
    "%%\n",
    "exprlist:\n",
    "        | exprlist expr '\\n'    { printf(\"%d\\n\", $2); }\n",
    "        ;\n",
    "\n",
    "expr    : prim                  { $$ = $1; }\n",
    "        | expr '+' prim         { $$ = $1 + $3; }\n",
    "        | expr '*' prim         { $$ = $1 * $3; }\n",
    "        ;\n",
    "prim    : NUM                   { $$ = atoi(yytext); }\n",
    "        | '(' expr ')'          { $$ = $2; }\n",
    "        ;\n",
    "```\n",
    "\n",
    "---\n",
    "\n",
    "ここで `$$` は「左辺の非終端記号の属性値」を表し，`$n`は「左辺の`n`番目の記号の属性値」を表します（`n`は1から始まる）．つまり`exprlist`の構文において，2つ目の構文規則での`expr`は2番目の記号なので`$2`を`printf`することで計算結果を表示できます．また，足し算の結果も`'+'`の左右の`expr`と`prim`の値を足し算して式の値（`$$`）とすれば良いということです．\n",
    "それでは，実際に実行してみましょう．"
   ]
  },
  {
   "cell_type": "code",
   "execution_count": null,
   "id": "fd089bd9-4300-4f4c-ba5a-cf5811e2aba3",
   "metadata": {
    "deletable": false,
    "editable": false,
    "slideshow": {
     "slide_type": ""
    },
    "tags": []
   },
   "outputs": [],
   "source": [
    "/* yacc ex2-3.yacc */\n",
    "%token NUM;\n",
    "%%\n",
    "exprlist:\n",
    "        | exprlist expr '\\n'    { printf(\"%d\\n\", $2); }\n",
    "        ;\n",
    "\n",
    "expr    : prim                  { $$ = $1; }\n",
    "        | expr '+' prim         { $$ = $1 + $3; }\n",
    "        | expr '*' prim         { $$ = $1 * $3; }\n",
    "        ;\n",
    "prim    : NUM                   { $$ = atoi(yytext); }\n",
    "        | '(' expr ')'          { $$ = $2; }\n",
    "        ;"
   ]
  },
  {
   "cell_type": "markdown",
   "id": "9d833527-8503-436c-88df-65a48e2ab942",
   "metadata": {
    "deletable": false,
    "editable": false,
    "slideshow": {
     "slide_type": ""
    },
    "tags": []
   },
   "source": [
    "Lexは`*`と`(`と`)`を使えるようにすれば，ほぼそのままです．"
   ]
  },
  {
   "cell_type": "code",
   "execution_count": null,
   "id": "8635bd70-f104-4e6e-b043-2d8246e5c47c",
   "metadata": {
    "deletable": false,
    "editable": false,
    "slideshow": {
     "slide_type": ""
    },
    "tags": []
   },
   "outputs": [],
   "source": [
    "/* lex ex2-3.lex */\n",
    "digit        [0-9]\n",
    "white        [\\t ]\n",
    "%%\n",
    "{digit}+     { return NUM; }\n",
    "[+*()]       { return yytext[0]; }\n",
    "\"\\n\"         { return '\\n'; }\n",
    "{white}      { ; }"
   ]
  },
  {
   "cell_type": "markdown",
   "id": "d226ea1a-721c-45ec-b97a-a78094688068",
   "metadata": {
    "deletable": false,
    "editable": false,
    "slideshow": {
     "slide_type": ""
    },
    "tags": []
   },
   "source": [
    "記号1文字に一度にマッチするパターンを書きました．前回のLexのパターンの書き方を思い出してください．マッチさせたい記号であれば，その文字が`yytext`の最初に入るのでそれを返せばまとめて扱えます．\n",
    "\n",
    "Cプログラムからは`value`が不要になります．"
   ]
  },
  {
   "cell_type": "code",
   "execution_count": null,
   "id": "1f6f467e-3729-47b3-b8d0-f7c539a17561",
   "metadata": {
    "deletable": false,
    "editable": false,
    "slideshow": {
     "slide_type": ""
    },
    "tags": []
   },
   "outputs": [],
   "source": [
    "/* c ex2-3.c */\n",
    "#include <stdio.h>\n",
    "extern char *yytext;\n",
    "\n",
    "#include \"y.tab.c\"\n",
    "#include \"lex.yy.c\"\n",
    "\n",
    "int main() {\n",
    "  yyparse();\n",
    "  return 0;\n",
    "}"
   ]
  },
  {
   "cell_type": "markdown",
   "id": "d59dfde5-bf91-477b-a164-a714d572884a",
   "metadata": {
    "deletable": false,
    "editable": false,
    "slideshow": {
     "slide_type": ""
    },
    "tags": []
   },
   "source": [
    "括弧が使えているか試してみましょう．"
   ]
  },
  {
   "cell_type": "code",
   "execution_count": null,
   "id": "da25de03-d7de-4a0e-b961-a3cbbc400497",
   "metadata": {
    "deletable": false,
    "editable": false,
    "slideshow": {
     "slide_type": ""
    },
    "tags": []
   },
   "outputs": [],
   "source": [
    "/* a.out */\n",
    "(1+2)*(3+1)\n",
    "1+2*3+1"
   ]
  },
  {
   "cell_type": "markdown",
   "id": "9e650bd8-bd92-4822-beb7-29d683fc723b",
   "metadata": {
    "deletable": false,
    "editable": false,
    "slideshow": {
     "slide_type": ""
    },
    "tags": []
   },
   "source": [
    "2つ目の結果は想像していたものと違うはずです．\n",
    "今日の練習問題でそれを直してみましょう．"
   ]
  },
  {
   "cell_type": "markdown",
   "id": "b662ab17-8fd8-49dc-bb43-acfe12c582ed",
   "metadata": {
    "deletable": false,
    "editable": false,
    "slideshow": {
     "slide_type": ""
    },
    "tags": []
   },
   "source": [
    "# 名前と記号表\n",
    "\n",
    "電卓（2）までで計算はできるようになったので，「変数」を導入してみましょう．\n",
    "```\n",
    "z = 1 + 2\n",
    "```\n",
    "のようにして，計算結果を変数に覚えておけるような機能を電卓につけてみるということです．"
   ]
  },
  {
   "cell_type": "markdown",
   "id": "0656dfd5-3f6a-4786-99ab-05d3b1d8dc1e",
   "metadata": {
    "deletable": false,
    "editable": false,
    "slideshow": {
     "slide_type": ""
    },
    "tags": []
   },
   "source": [
    "簡単化のために，各変数名の長さは20が上限で，変数は100個までとして，以下のようなデータ構造で考えてみましょう，\n",
    "\n",
    "---\n",
    "\n",
    "![記号表](https://www.clas.kitasato-u.ac.jp/~takano/uec-lexyacc/nametable.png)\n",
    "\n",
    "---\n",
    "\n",
    "この図では，`55`という値を`x`に対応づけ，`123`を`y1`に対応づけていることになります．\n",
    "これをC言語で実装すると，以下のようなコードになります．\n",
    "\n",
    "---\n",
    "```c\n",
    "struct stab {\n",
    "  int val;\n",
    "  char name[20];\n",
    "} stab[100];\n",
    "int stabuse = 0;\n",
    "```\n",
    "---\n",
    "\n",
    "表全体は`stab`という名前で，`val`と`name`の領域を保持しています．それを`struct stab`型が100個並んだ配列としています．どこまで使っているかというのを`stabuse`という変数に入れておくことにします．\n",
    "\n",
    "この変数表に対する処理を行う，変数を探す関数`lookup`を以下のように定義しておきましょう．\n",
    "\n",
    "---\n",
    "```c\n",
    "// 引数にとる文字列が表にあれば見つかった位置を返して，なければ追加する関数\n",
    "int lookup(char *s) {\n",
    "  int i;\n",
    "  // 表の使っているところを順に見ていって\n",
    "  for (i = 0; i < stabuse; ++i) {\n",
    "    if (strcmp(stab[i].name, s) == 0) {\n",
    "      // 見つかった場合はその位置を返す\n",
    "      return i;\n",
    "    }\n",
    "  }\n",
    "  if (stabuse >= 99) {\n",
    "    // 変数の上限の個数を超えてしまった\n",
    "    printf(\"table overflow\\n\");\n",
    "    exit(1);\n",
    "  }\n",
    "\n",
    "  // 表になかったので追加する\n",
    "  strcpy(stab[stabuse].name, s);\n",
    "  return stabuse++;  // 追加した位置を返す\n",
    "}\n",
    "```\n",
    "---\n",
    "\n",
    "入力の各行が代入文として，代入された値を表示するような仕様だとすると，以下のようなYaccのプログラムになります．\n",
    "\n",
    "---\n",
    "```\n",
    "%token NUM;\n",
    "%token IDENT;\n",
    "%%\n",
    "stlist :\n",
    "       | stlist stat '\\n'\n",
    "       ;\n",
    "stat   : var '=' expr      { stab[$1].val = $3; printf(\"%d\\n\", $3); }\n",
    "       ;\n",
    "expr   : prim              { $$ = $1; }\n",
    "       | expr '+' prim     { $$ = $1 + $3; }\n",
    "       | expr '-' prim     { $$ = $1 - $3; }\n",
    "       ;\n",
    "prim   : NUM               { $$ = atoi(yytext); }\n",
    "       | var               { $$ = stab[$1].val; }\n",
    "       | '(' expr ')'      { $$ = $2; }\n",
    "       ;\n",
    "var    : IDENT             { $$ = lookup(yytext); }\n",
    "       ;\n",
    "```\n",
    "---\n",
    "\n",
    "- 代入文は，式の値（`expr`の属性値`$3`）を左辺の変数値（`var`の属性値`$1`に対応する記号表の場所の`val`欄）に入れ`printf`で表示します．\n",
    "- 式に現れる変数は，その値（正確にはその変数に対応する記号表の場所（varの属性値`$1`）の`val`欄）を値とします．\n",
    "  - その際には，まずさきほどCプログラムで定義した`lookup`を使って位置を求めておくことになります．\n",
    " \n",
    "`IDENT`を使えるようにするために，Lexの定義も見直しましょう．\n",
    "\n",
    "---\n",
    "```\n",
    "alpha   [a-zA-Z]\n",
    "digit   [0-9]\n",
    "white   [\\t ]\n",
    "%%\n",
    "{alpha}({alpha}|{digit})*   { return IDENT; }\n",
    "{digit}+                    { return NUM; }\n",
    "[\\n+\\-()=]                  { return yytext[0]; }\n",
    "{white}                     { ; }\n",
    "```\n",
    "---\n",
    "\n",
    "ここまで理解できたでしょうか．理解できたら，ここまでのプログラム群を実行して動作を確認してみましょう．"
   ]
  },
  {
   "cell_type": "code",
   "execution_count": null,
   "id": "f82bd1b2-4b6c-42a7-8117-aa74b3de026b",
   "metadata": {
    "deletable": false,
    "editable": false,
    "slideshow": {
     "slide_type": ""
    },
    "tags": []
   },
   "outputs": [],
   "source": [
    "/* lex ex2-4.lex */\n",
    "alpha   [a-zA-Z]\n",
    "digit   [0-9]\n",
    "white   [\\t ]\n",
    "%%\n",
    "{alpha}({alpha}|{digit})*   { return IDENT; }\n",
    "{digit}+                    { return NUM; }\n",
    "[\\n+\\-()=]                  { return yytext[0]; }\n",
    "{white}                     { ; }"
   ]
  },
  {
   "cell_type": "code",
   "execution_count": null,
   "id": "b0161a4d-816c-4fb5-bc3a-31ab9308f36c",
   "metadata": {
    "deletable": false,
    "editable": false,
    "slideshow": {
     "slide_type": ""
    },
    "tags": []
   },
   "outputs": [],
   "source": [
    "/* yacc ex2-4.yacc */\n",
    "%token NUM;\n",
    "%token IDENT;\n",
    "%%\n",
    "stlist :\n",
    "       | stlist stat '\\n'\n",
    "       ;\n",
    "stat   : var '=' expr      { stab[$1].val = $3; printf(\"%d\\n\", $3); }\n",
    "       ;\n",
    "expr   : prim              { $$ = $1; }\n",
    "       | expr '+' prim     { $$ = $1 + $3; }\n",
    "       | expr '-' prim     { $$ = $1 - $3; }\n",
    "       ;\n",
    "prim   : NUM               { $$ = atoi(yytext); }\n",
    "       | var               { $$ = stab[$1].val; }\n",
    "       | '(' expr ')'      { $$ = $2; }\n",
    "       ;\n",
    "var    : IDENT             { $$ = lookup(yytext); }\n",
    "       ;"
   ]
  },
  {
   "cell_type": "code",
   "execution_count": null,
   "id": "e7289bdd-e6bc-494c-b4eb-7ae1526871bb",
   "metadata": {
    "deletable": false,
    "editable": false,
    "slideshow": {
     "slide_type": ""
    },
    "tags": []
   },
   "outputs": [],
   "source": [
    "/* c ex2-4.c */\n",
    "#include <stdio.h>\n",
    "struct stab {\n",
    "  int val;\n",
    "  char name[20];\n",
    "} stab[100];\n",
    "int stabuse = 0;\n",
    "\n",
    "extern char *yytext;\n",
    "\n",
    "// 引数にとる文字列が表にあれば見つかった位置を返して，なければ追加する関数\n",
    "int lookup(char *s) {\n",
    "  int i;\n",
    "  // 表の使っているところを順に見ていって\n",
    "  for (i = 0; i < stabuse; ++i) {\n",
    "    if (strcmp(stab[i].name, s) == 0) {\n",
    "      // 見つかった場合はその位置を返す\n",
    "      return i;\n",
    "    }\n",
    "  }\n",
    "  if (stabuse >= 99) {\n",
    "      // 変数の上限の個数を超えてしまった\n",
    "      printf(\"table overflow,\\n\");\n",
    "      exit(1);\n",
    "    }\n",
    "\n",
    "  // 表になかったので追加する\n",
    "  strcpy(stab[stabuse].name, s);\n",
    "  return stabuse++;  // 追加した位置を返す\n",
    "}\n",
    "\n",
    "#include \"y.tab.c\"\n",
    "#include \"lex.yy.c\"\n",
    "\n",
    "int main() {\n",
    "  yyparse();\n",
    "  return 0;\n",
    "}"
   ]
  },
  {
   "cell_type": "code",
   "execution_count": null,
   "id": "151372f7-6fa8-44a1-b21b-5729705687b5",
   "metadata": {
    "deletable": false,
    "editable": false,
    "slideshow": {
     "slide_type": ""
    },
    "tags": []
   },
   "outputs": [],
   "source": [
    "/* a.out */\n",
    "z = 1 + 4\n",
    "x = z - 2 + z"
   ]
  },
  {
   "cell_type": "markdown",
   "id": "760b7e04-aa85-430f-82fb-4a24c60f2fe7",
   "metadata": {
    "deletable": false,
    "editable": false,
    "slideshow": {
     "slide_type": ""
    },
    "tags": []
   },
   "source": [
    "# 単純なプログラミング言語のインタプリタ（1）\n",
    "\n",
    "代入文を持った電卓ができたので，それをプログラミング言語っぽくユーザーの入力を受け取れるようにしてみましょう．"
   ]
  },
  {
   "cell_type": "code",
   "execution_count": null,
   "id": "c2fbddd6-fea0-4584-afe5-1090349c7bcc",
   "metadata": {
    "deletable": false,
    "editable": false,
    "slideshow": {
     "slide_type": ""
    },
    "tags": []
   },
   "outputs": [],
   "source": [
    "/* yacc ex2-5.yacc */\n",
    "%token NUM;\n",
    "%token IDENT;\n",
    "%token READ;\n",
    "%token PRINT;\n",
    "%%\n",
    "prog   : IDENT '{' stlist '}'       { return $3; }\n",
    "       ;\n",
    "stlist :\n",
    "       | stlist stat\n",
    "       ;\n",
    "stat   : var '=' expr ';'           { stab[$1].val = $3; }\n",
    "       | READ var ';'               { scanf(\"%d\", &stab[$2].val); }\n",
    "       | PRINT expr ';'             { printf(\"%d\\n\", $2); }\n",
    "       ;\n",
    "expr   : prim              { $$ = $1; }\n",
    "       | expr '+' prim     { $$ = $1 + $3; }\n",
    "       | expr '-' prim     { $$ = $1 - $3; }\n",
    "       ;\n",
    "prim   : NUM               { $$ = atoi(yytext); }\n",
    "       | var               { $$ = stab[$1].val; }\n",
    "       | '(' expr ')'      { $$ = $2; }\n",
    "       ;\n",
    "var    : IDENT             { $$ = lookup(yytext); }\n",
    "       ;"
   ]
  },
  {
   "cell_type": "markdown",
   "id": "62281833-a02f-4ab7-9803-59e5f1c12ce4",
   "metadata": {
    "deletable": false,
    "editable": false,
    "slideshow": {
     "slide_type": ""
    },
    "tags": []
   },
   "source": [
    "`read 変数` と `print 変数`という形式でユーザー（プログラムを使う人）が変数を画面に入出力できるようになります．（ただし，今の場合にはプログラムを書く人と使う人が同じになってしまうことは，後で実行してみれば分かります．）\n",
    "また，各文を行ではなくて`;`で区切るようにもしてあります．\n",
    "\n",
    "Lexのプログラムは以下のようになります．"
   ]
  },
  {
   "cell_type": "code",
   "execution_count": null,
   "id": "efbd52d6-bfe4-4dbb-9732-6727f107bf65",
   "metadata": {
    "deletable": false,
    "editable": false,
    "slideshow": {
     "slide_type": ""
    },
    "tags": []
   },
   "outputs": [],
   "source": [
    "/* lex ex2-5.lex */\n",
    "alpha   [a-zA-Z]\n",
    "digit   [0-9]\n",
    "white   [\\n\\t ]\n",
    "%%\n",
    "read                        { return READ; }\n",
    "print                       { return PRINT; }\n",
    "{alpha}({alpha}|{digit})*   { return IDENT; }\n",
    "{digit}+                    { return NUM; }\n",
    "[+\\-=();{}]                 { return yytext[0]; }\n",
    "{white}                     { ; }"
   ]
  },
  {
   "cell_type": "markdown",
   "id": "5b1706df-2e54-41d5-8e0c-d784015c68e1",
   "metadata": {
    "deletable": false,
    "editable": false,
    "slideshow": {
     "slide_type": ""
    },
    "tags": []
   },
   "source": [
    "Cプログラムはそのままで良いですね．"
   ]
  },
  {
   "cell_type": "code",
   "execution_count": null,
   "id": "f5b9182c-a0d9-47f0-b1f4-530e1d4974a4",
   "metadata": {
    "deletable": false,
    "editable": false,
    "slideshow": {
     "slide_type": ""
    },
    "tags": []
   },
   "outputs": [],
   "source": [
    "/* c ex2-5.c */\n",
    "#include <stdio.h>\n",
    "struct stab {\n",
    "  int val;\n",
    "  char name[20];\n",
    "} stab[100];\n",
    "int stabuse = 0;\n",
    "\n",
    "extern char *yytext;\n",
    "\n",
    "// 引数にとる文字列が表にあれば見つかった位置を返して，なければ追加する関数\n",
    "int lookup(char *s) {\n",
    "  int i;\n",
    "  // 表の使っているところを順に見ていって\n",
    "  for (i = 0; i < stabuse; ++i) {\n",
    "    if (strcmp(stab[i].name, s) == 0) {\n",
    "      // 見つかった場合はその位置を返す\n",
    "      return i;\n",
    "    }\n",
    "  }\n",
    "  if (stabuse >= 99) {\n",
    "    // 変数の上限の個数を超えてしまった\n",
    "    printf(\"table overflow,\\n\");\n",
    "    exit(1);\n",
    "  }\n",
    "\n",
    "  // 表になかったので追加する\n",
    "  strcpy(stab[stabuse].name, s);\n",
    "  return stabuse++;  // 追加した位置を返す\n",
    "}\n",
    "\n",
    "#include \"y.tab.c\"\n",
    "#include \"lex.yy.c\"\n",
    "\n",
    "int main() {\n",
    "  yyparse();\n",
    "  return 0;\n",
    "}"
   ]
  },
  {
   "cell_type": "markdown",
   "id": "71e8341b-78ec-4f7e-81ff-3bf4c27e6f95",
   "metadata": {
    "deletable": false,
    "editable": false,
    "slideshow": {
     "slide_type": ""
    },
    "tags": []
   },
   "source": [
    "それでは，この自前のプログラミング言語のプログラムを書いて実行してみましょう．"
   ]
  },
  {
   "cell_type": "code",
   "execution_count": null,
   "id": "e09af7e9-b7c2-4947-b046-90265a674809",
   "metadata": {
    "deletable": false,
    "editable": false,
    "slideshow": {
     "slide_type": ""
    },
    "tags": []
   },
   "outputs": [],
   "source": [
    "/* a.out */\n",
    "main {\n",
    "  x = 1 + 2;\n",
    "  print x;\n",
    "}"
   ]
  },
  {
   "cell_type": "code",
   "execution_count": null,
   "id": "2d63dae0-40f0-4766-a7c6-bbab617f0cf8",
   "metadata": {
    "deletable": false,
    "editable": false,
    "slideshow": {
     "slide_type": ""
    },
    "tags": []
   },
   "outputs": [],
   "source": [
    "/* a.out */\n",
    "main {\n",
    "  read x;\n",
    "10\n",
    "  y = x + 1;\n",
    "  print y;\n",
    "}"
   ]
  },
  {
   "cell_type": "markdown",
   "id": "e63b228b-87d5-45f8-bedd-7629e854991e",
   "metadata": {
    "deletable": false,
    "editable": false,
    "slideshow": {
     "slide_type": ""
    },
    "tags": []
   },
   "source": [
    "`read`文を打ち込んだ直後に，その入力を打たないといけないというのが普通のプログラミング言語とは異なりますが，プログラムを解釈してすぐに実行するようなインタプリタを作ることができました．"
   ]
  },
  {
   "cell_type": "markdown",
   "id": "c0a34eac-1f11-4086-bb3f-045e7108113c",
   "metadata": {
    "deletable": false,
    "editable": false,
    "slideshow": {
     "slide_type": ""
    },
    "tags": []
   },
   "source": [
    "# 単純なプログラミング言語のインタプリタ（2）\n",
    "\n",
    "上の例でプログラムを解釈してすぐに実行してしまうのは，Yaccのアクションでいきなり計算を実行してしまうからです．\n",
    "普通のプログラミング言語処理系であれば，まずプログラムの構造に対応した中間形式を作成し，それを元に実行します．\n",
    "コンパイラであれば，実行する代わりに別のアセンブリなどのコードを生成します．（コード生成は第3回の内容です．）\n",
    "\n",
    "ここでは，字句・構文解析した結果を木構造（抽象構文木）として表現して，実行するようにしてみましょう．\n",
    "たとえば，上の実行例\n",
    "\n",
    "---\n",
    "```\n",
    "main {\n",
    "  read x;\n",
    "  y = x + 1;\n",
    "  print y;\n",
    "}\n",
    "```\n",
    "---\n",
    "\n",
    "に対応した抽象構文木は，以下のようにできます．\n",
    "\n",
    "![抽象構文木の例](https://www.clas.kitasato-u.ac.jp/~takano/uec-lexyacc/tree.png)\n",
    "\n",
    "`T_STLIST`や`T_PRINT`は，そのノード（節）がどの種類かを示すためのタグです．たとえば，`T_ASSIGN`の左の子に変数番号が直接入るようにここでは決めてしまいましたが，ノードをどう表現するかは自由に決められます．\n",
    "どういう表現するようにしたにしろ，この抽象構文木に，上の実行例のプログラムの情報が全て含まれていることに注意してください．\n",
    "\n",
    "最終的には，\n",
    "1. 抽象構文木を作って，\n",
    "2. 抽象構文木をたどって行って実行する\n",
    "\n",
    "という2段階になるわけですが，まずは抽象構文木が正しくできているか確認しなくてはいけないので，2の代わりに作った抽象構文木を表示するようにしてみましょう．\n",
    "\n",
    "抽象構文木のデータ構造は以下のようにC言語で定義できます．木構造はこれまでの授業で習ってきましたね．\n",
    "\n",
    "---\n",
    "```c\n",
    "typedef struct Node {\n",
    "    int node_type;\n",
    "    struct Node* left;\n",
    "    struct Node* right;\n",
    "} Node;\n",
    "```\n",
    "---\n",
    "\n",
    "木構造を操作する操作も，普通に定義すればよいです．\n",
    "\n",
    "---\n",
    "```c\n",
    "// 新しいノードを作る関数\n",
    "Node* createNode(int node_type, Node* left, Node* right) {\n",
    "    Node* newNode = (Node*)malloc(sizeof(Node));\n",
    "    newNode->node_type = node_type;\n",
    "    newNode->left = left;\n",
    "    newNode->right = right;\n",
    "    return newNode;\n",
    "}\n",
    "```\n",
    "---\n",
    "\n",
    "また，さきほどの抽象構文木の図にあった，それぞれのノードを示すnode_typeを以下のように定義しましょう．\n",
    "\n",
    "---\n",
    "```c\n",
    "#define T_STLIST 1\n",
    "#define T_ASSIGN 2\n",
    "#define T_READ   3\n",
    "#define T_PRINT  4\n",
    "#define T_ADD    5\n",
    "#define T_SUB    6\n",
    "#define T_NUM    7\n",
    "#define T_VAR    8\n",
    "```\n",
    "---\n",
    "\n",
    "それでは，前節「単純なプログラミング言語のインタプリタ（1）」のYaccのアクション部分で木構造を組み立てるようにしてみましょう．\n"
   ]
  },
  {
   "cell_type": "code",
   "execution_count": null,
   "id": "7fe65818-a337-4811-8593-34adc9c87aca",
   "metadata": {
    "deletable": false,
    "editable": false,
    "slideshow": {
     "slide_type": ""
    },
    "tags": []
   },
   "outputs": [],
   "source": [
    "/* yacc ex2-6.yacc */\n",
    "%union {\n",
    "  Node* np;\n",
    "  int i;\n",
    "}\n",
    "%type <np> stlist stat expr prim var\n",
    "%token NUM;\n",
    "%token IDENT;\n",
    "%token READ;\n",
    "%token PRINT;\n",
    "%%\n",
    "prog   : IDENT '{' stlist '}'       { traverse_tree($3); return 0; }\n",
    "       ;\n",
    "stlist :                            { $$ = NULL; }\n",
    "       | stlist stat                { $$ = createNode(T_STLIST, $1, $2); }\n",
    "       ;\n",
    "stat   : var '=' expr ';'           { $$ = createNode(T_ASSIGN, $1, $3); }\n",
    "       | READ var ';'               { $$ = createNode(T_READ, $2, NULL); }\n",
    "       | PRINT expr ';'             { $$ = createNode(T_PRINT, $2, NULL); }\n",
    "       ;\n",
    "expr   : prim              { $$ = $1; }\n",
    "       | expr '+' prim     { $$ = createNode(T_ADD, $1, $3); }\n",
    "       | expr '-' prim     { $$ = createNode(T_SUB, $1, $3); }\n",
    "       ;\n",
    "prim   : NUM               { $$ = createNode(T_NUM, atoi(yytext), NULL); }\n",
    "       | var               { $$ = createNode(T_VAR, $1, NULL); }\n",
    "       | '(' expr ')'      { $$ = $2; }\n",
    "       ;\n",
    "var    : IDENT             { $$ = lookup(yytext); }\n",
    "       ;"
   ]
  },
  {
   "cell_type": "markdown",
   "id": "72d98016-5aa9-40b4-9ff5-66419a10b136",
   "metadata": {
    "deletable": false,
    "editable": false,
    "slideshow": {
     "slide_type": ""
    },
    "tags": []
   },
   "source": [
    "まずは，各構文規則のアクションに注目してください．\n",
    "数値の計算や値の入出力をしていた具体的な処理の代わりに，上でCプログラムに用意しておいた `createNode`でノードを作成しています．属性値を使って木構造が作れているのが分かると思います．\n",
    "たとえば，`stat : var '=' expr ';'` という構文規則であれば，`stat`の属性値 `$$` に `createNode`で新たにノードを作成しています．そのときの引数は`node_type`として`T_ASSIGN`，左の子に `$1`（つまり `var` の属性値，なので変数），右の子に `$3`（つまり`expr`の属性値，なので変数に入れる式）を指定してノードを作成することになります．図中の `y = x + 1;` に該当する箇所の木がこれで作成できるわけです．\n",
    "\n",
    "ここまで，`traverse_tree()`は説明していなかったですが，上に書いた「作った抽象構文木を表示する」関数になります．木構造を再帰的に表示するだけですので，難しくないCプログラムです．それを含めた以下のCプログラム全体で確認してください．\n",
    "\n",
    "次に，Yaccの定義の先頭に `%union`と`%type`という箇所が増えていることに気付いたと思います．\n",
    "これは，`createNode` が `Node*`型を返すために必要になった記述です．これ以前のYaccの例を思い出してほしいのですが，`$$` の型はこれまで気にしておらず，すべて `int` 型でした（前に戻って見直してみてください）．この部分は，Cプログラムになっていますので，Yaccが自動生成してくれる際にはちゃんと型を考えないといけません．\n",
    "つまり，これまではYaccのデフォルトの`int`型であったので，気にしなくてよかったものの，この例からは `Node*` 型として扱えないと，y.tab.cが生成されたときに不都合が起きてしまうということです．そのための記述が，`%union`の箇所で，`$$` はCの共用体で `Node*`か`int`ですという風に読みます（Cの共用体について分からなければ自分で調べてみること） ．次の `%type`は，非終端記号の型を定義しているもので，ここに挙げた`stlist`などは，今回 `Node*`型を返すことにしたと分かると思います．\n",
    "\n",
    "ここまで，コードの量も増えて，説明も複雑になってきましたが，順番に理解したら，実際に動かしてみましょう．\n",
    "実行するときは Lex もちゃんと対応したものであることを忘れないように．"
   ]
  },
  {
   "cell_type": "code",
   "execution_count": null,
   "id": "e27aeebd-3c68-4646-8f86-622e35d7ba6d",
   "metadata": {
    "deletable": false,
    "editable": false,
    "slideshow": {
     "slide_type": ""
    },
    "tags": []
   },
   "outputs": [],
   "source": [
    "/* lex ex2-6.lex */\n",
    "alpha   [a-zA-Z]\n",
    "digit   [0-9]\n",
    "white   [\\n\\t ]\n",
    "%%\n",
    "read                        { return READ; }\n",
    "print                       { return PRINT; }\n",
    "{alpha}({alpha}|{digit})*   { return IDENT; }\n",
    "{digit}+                    { return NUM; }\n",
    "[+\\-=();{}]                 { return yytext[0]; }\n",
    "{white}                     { ; }"
   ]
  },
  {
   "cell_type": "code",
   "execution_count": null,
   "id": "31aec880-1549-48d9-bc50-201653632b3c",
   "metadata": {
    "deletable": false,
    "editable": false,
    "slideshow": {
     "slide_type": ""
    },
    "tags": []
   },
   "outputs": [],
   "source": [
    "/* c ex2-6.c */\n",
    "#include <stdio.h>\n",
    "struct stab {\n",
    "  int val;\n",
    "  char name[20];\n",
    "} stab[100];\n",
    "int stabuse = 0;\n",
    "\n",
    "extern char *yytext;\n",
    "\n",
    "#define T_STLIST 1\n",
    "#define T_ASSIGN 2\n",
    "#define T_READ   3\n",
    "#define T_PRINT  4\n",
    "#define T_ADD    5\n",
    "#define T_SUB    6\n",
    "#define T_NUM    7\n",
    "#define T_VAR    8\n",
    "\n",
    "typedef struct Node {\n",
    "    int node_type;\n",
    "    struct Node* left;\n",
    "    struct Node* right;\n",
    "} Node;\n",
    "\n",
    "\n",
    "// 引数にとる文字列が表にあれば見つかった位置を返して，なければ追加する関数\n",
    "int lookup(char *s) {\n",
    "  int i;\n",
    "  // 表の使っているところを順に見ていって\n",
    "  for (i = 0; i < stabuse; ++i) {\n",
    "    if (strcmp(stab[i].name, s) == 0) {\n",
    "      // 見つかった場合はその位置を返す\n",
    "      return i;\n",
    "    }\n",
    "  }\n",
    "  if (stabuse >= 99) {\n",
    "    // 変数の上限の個数を超えてしまった\n",
    "    printf(\"table overflow,\\n\");\n",
    "    exit(1);\n",
    "  }\n",
    "\n",
    "  // 表になかったので追加する\n",
    "  strcpy(stab[stabuse].name, s);\n",
    "  return stabuse++;  // 追加した位置を返す\n",
    "}\n",
    "\n",
    "// 新しいノードを作る関数\n",
    "Node* createNode(int node_type, Node* left, Node* right) {\n",
    "    Node* newNode = (Node*)malloc(sizeof(Node));\n",
    "    newNode->node_type = node_type;\n",
    "    newNode->left = left;\n",
    "    newNode->right = right;\n",
    "    return newNode;\n",
    "}\n",
    "\n",
    "// ノードをたどる関数\n",
    "void traverse_tree(Node* node) {\n",
    "  if (node == NULL) {\n",
    "    return;\n",
    "  }\n",
    "  switch (node->node_type) {\n",
    "    case T_STLIST:\n",
    "      if (node->left != NULL) { traverse_tree(node->left); printf(\"; \"); }\n",
    "      traverse_tree(node->right);\n",
    "      break;\n",
    "    case T_ASSIGN:\n",
    "      printf(\"v%d = \", node->left);\n",
    "      traverse_tree(node->right);\n",
    "      printf(\"\\n\");\n",
    "      break;\n",
    "    case T_READ:\n",
    "      printf(\"read v%d\\n\", node->left);\n",
    "      break;\n",
    "    case T_PRINT:\n",
    "      printf(\"print \");\n",
    "      traverse_tree(node->left);\n",
    "      printf(\"\\n\");\n",
    "      break;\n",
    "    case T_ADD:\n",
    "      printf(\"(\");\n",
    "      traverse_tree(node->left);\n",
    "      printf(\" + \");\n",
    "      traverse_tree(node->right);\n",
    "      printf(\")\");\n",
    "      break;\n",
    "    case T_SUB:\n",
    "      printf(\"(\");\n",
    "      traverse_tree(node->left);\n",
    "      printf(\" - \");\n",
    "      traverse_tree(node->right);\n",
    "      printf(\")\");\n",
    "      break;\n",
    "    case T_NUM:\n",
    "      printf(\"%d\", node->left);\n",
    "      break;\n",
    "    case T_VAR:\n",
    "      printf(\"v%d\", node->left);\n",
    "      break;\n",
    "  }\n",
    "}\n",
    "\n",
    "#include \"y.tab.c\"\n",
    "#include \"lex.yy.c\"\n",
    "\n",
    "int main() {\n",
    "  yyparse();\n",
    "  return 0;\n",
    "}"
   ]
  },
  {
   "cell_type": "code",
   "execution_count": null,
   "id": "ecef3228-712f-4eaf-9d8c-1e4b4397bac5",
   "metadata": {
    "deletable": false,
    "editable": false,
    "slideshow": {
     "slide_type": ""
    },
    "tags": []
   },
   "outputs": [],
   "source": [
    "/* a.out */\n",
    "main {\n",
    "  read x;\n",
    "  y = x + 1;\n",
    "  print y;\n",
    "}"
   ]
  },
  {
   "cell_type": "markdown",
   "id": "1559431c-ef69-4e3a-a6a2-6d3bc92a8b09",
   "metadata": {
    "deletable": false,
    "editable": false,
    "slideshow": {
     "slide_type": ""
    },
    "tags": []
   },
   "source": [
    "変数は変数番号（変数表のインデックス）が出ていて，図に示した木構造が（ちょっと木には見難いですが）ちゃんと出力されています．"
   ]
  },
  {
   "cell_type": "markdown",
   "id": "b4180e47-d14c-4ac0-9485-910c11ba145a",
   "metadata": {
    "deletable": false,
    "editable": false,
    "slideshow": {
     "slide_type": ""
    },
    "tags": []
   },
   "source": [
    "# 単純なプログラミング言語のインタプリタ（3）\n",
    "\n",
    "## 抽象構文木を使ってプログラムを実行する\n",
    "\n",
    "抽象構文木が作成できるようになったので，抽象構文木をたどって実行するように変更してインタプリタを完成させましょう．\n",
    "\n",
    "LexとYaccの定義はそのままで，Cの`traverse_tree`の代わりに実行すればよいですね．"
   ]
  },
  {
   "cell_type": "code",
   "execution_count": null,
   "id": "ac25a028-e943-4687-b593-2bdd5b3dc48f",
   "metadata": {
    "deletable": false,
    "editable": false,
    "slideshow": {
     "slide_type": ""
    },
    "tags": []
   },
   "outputs": [],
   "source": [
    "/* yacc ex2-7.yacc */\n",
    "%union {\n",
    "  Node* np;\n",
    "  int i;\n",
    "}\n",
    "%type <np> stlist stat expr prim var\n",
    "%token NUM;\n",
    "%token IDENT;\n",
    "%token READ;\n",
    "%token PRINT;\n",
    "%%\n",
    "prog   : IDENT '{' stlist '}'       { dotree($3); return 0; }\n",
    "       ;\n",
    "stlist :                            { $$ = NULL; }\n",
    "       | stlist stat                { $$ = createNode(T_STLIST, $1, $2); }\n",
    "       ;\n",
    "stat   : var '=' expr ';'           { $$ = createNode(T_ASSIGN, $1, $3); }\n",
    "       | READ var ';'               { $$ = createNode(T_READ, $2, NULL); }\n",
    "       | PRINT expr ';'             { $$ = createNode(T_PRINT, $2, NULL); }\n",
    "       ;\n",
    "expr   : prim              { $$ = $1; }\n",
    "       | expr '+' prim     { $$ = createNode(T_ADD, $1, $3); }\n",
    "       | expr '-' prim     { $$ = createNode(T_SUB, $1, $3); }\n",
    "       ;\n",
    "prim   : NUM               { $$ = createNode(T_NUM, atoi(yytext), NULL); }\n",
    "       | var               { $$ = createNode(T_VAR, $1, NULL); }\n",
    "       | '(' expr ')'      { $$ = $2; }\n",
    "       ;\n",
    "var    : IDENT             { $$ = lookup(yytext); }\n",
    "       ;"
   ]
  },
  {
   "cell_type": "code",
   "execution_count": null,
   "id": "687d64ca-38e1-4ce8-aeba-d8a35ab45340",
   "metadata": {
    "deletable": false,
    "editable": false,
    "slideshow": {
     "slide_type": ""
    },
    "tags": []
   },
   "outputs": [],
   "source": [
    "/* c ex2-7.c */\n",
    "#include <stdio.h>\n",
    "struct stab {\n",
    "  int val;\n",
    "  char name[20];\n",
    "} stab[100];\n",
    "int stabuse = 0;\n",
    "\n",
    "extern char *yytext;\n",
    "\n",
    "#define T_STLIST 1\n",
    "#define T_ASSIGN 2\n",
    "#define T_READ   3\n",
    "#define T_PRINT  4\n",
    "#define T_ADD    5\n",
    "#define T_SUB    6\n",
    "#define T_NUM    7\n",
    "#define T_VAR    8\n",
    "\n",
    "typedef struct Node {\n",
    "    int node_type;\n",
    "    struct Node* left;\n",
    "    struct Node* right;\n",
    "} Node;\n",
    "\n",
    "\n",
    "// 引数にとる文字列が表にあれば見つかった位置を返して，なければ追加する関数\n",
    "int lookup(char *s) {\n",
    "  int i;\n",
    "  // 表の使っているところを順に見ていって\n",
    "  for (i = 0; i < stabuse; ++i) {\n",
    "    if (strcmp(stab[i].name, s) == 0) {\n",
    "      // 見つかった場合はその位置を返す\n",
    "      return i;\n",
    "    }\n",
    "  }\n",
    "  if (stabuse >= 99) {\n",
    "    // 変数の上限の個数を超えてしまった\n",
    "    printf(\"table overflow,\\n\");\n",
    "    exit(1);\n",
    "  }\n",
    "\n",
    "  // 表になかったので追加する\n",
    "  strcpy(stab[stabuse].name, s);\n",
    "  return stabuse++;  // 追加した位置を返す\n",
    "}\n",
    "\n",
    "// 新しいノードを作る関数\n",
    "Node* createNode(int node_type, Node* left, Node* right) {\n",
    "    Node* newNode = (Node*)malloc(sizeof(Node));\n",
    "    newNode->node_type = node_type;\n",
    "    newNode->left = left;\n",
    "    newNode->right = right;\n",
    "    return newNode;\n",
    "}\n",
    "\n",
    "// ノードをたどる関数\n",
    "int dotree(Node* node) {\n",
    "  if (node == NULL) {\n",
    "    return 0;\n",
    "  }\n",
    "  switch (node->node_type) {\n",
    "    case T_STLIST:\n",
    "      if (node->left != NULL) { dotree(node->left); }\n",
    "      dotree(node->right);\n",
    "      break;\n",
    "    case T_ASSIGN:\n",
    "      stab[(int)(node->left)].val = dotree(node->right);\n",
    "      break;\n",
    "    case T_READ:\n",
    "      scanf(\"%d\", &stab[(int)(node->left)].val);\n",
    "      break;\n",
    "    case T_PRINT:\n",
    "      printf(\"%d\\n\", dotree(node->left));\n",
    "      break;\n",
    "    case T_ADD:\n",
    "      return dotree(node->left) + dotree(node->right);\n",
    "    case T_SUB:\n",
    "      return dotree(node->left) - dotree(node->right);\n",
    "    case T_NUM:\n",
    "      return node->left;\n",
    "    case T_VAR:\n",
    "      return stab[(int)(node->left)].val;\n",
    "  }\n",
    "}\n",
    "\n",
    "#include \"y.tab.c\"\n",
    "#include \"lex.yy.c\"\n",
    "\n",
    "int main() {\n",
    "  yyparse();\n",
    "  return 0;\n",
    "}"
   ]
  },
  {
   "cell_type": "code",
   "execution_count": null,
   "id": "40843684-bb44-414f-8c04-f10ccbb9480d",
   "metadata": {
    "deletable": false,
    "editable": false,
    "slideshow": {
     "slide_type": ""
    },
    "tags": []
   },
   "outputs": [],
   "source": [
    "/* a.out */\n",
    "main {\n",
    "  read x;\n",
    "  y = x + 1;\n",
    "  print y;\n",
    "}\n",
    "20"
   ]
  },
  {
   "cell_type": "markdown",
   "id": "0a389a9f-769d-447d-ae60-43669af4da4f",
   "metadata": {
    "deletable": false,
    "editable": false,
    "slideshow": {
     "slide_type": ""
    },
    "tags": []
   },
   "source": [
    "全部プログラムを打ち終わった後で，`read`の入力を受けとって計算していることが分かります．"
   ]
  },
  {
   "cell_type": "markdown",
   "id": "4e645a31-d8b6-4a69-a245-26966e757579",
   "metadata": {
    "deletable": false,
    "editable": false,
    "slideshow": {
     "slide_type": ""
    },
    "tags": []
   },
   "source": [
    "## while文の追加\n",
    "\n",
    "よりプログラミング言語らしくするために，`while`文のループを追加してみましょう．\n",
    "\n",
    "まず，Yaccを変更します．\n",
    "`stat`に`while`文を追加します．\n",
    "\n",
    "---\n",
    "```\n",
    "    |  WHILE '(' cond ')' stat       { $$ = createNode(T_WHILE, $3, $5); }\n",
    "```\n",
    "---\n",
    "\n",
    "条件`cond`が成り立っている間は`stat`を実行するという意味を考えましょう．条件`cond`は以下のように定義できます．\n",
    "\n",
    "---\n",
    "```\n",
    "cond  : expr '<' expr          { $$ = createNode(T_LT, $1, $3); }\n",
    "      | expr '>' expr          { $$ = createNode(T_GT, $1, $3); }\n",
    "```\n",
    "---\n",
    "\n",
    "`stat` の定義を見直すと，1文を表わすだけなので，この構文定義では `while`文のループ本体に1文しか書けないです．\n",
    "無限ループを回避してループを実行できるようにするため，`変数++`の機能を追加して，まずは `print x++`のようなプログラムが動くようにしてみましょう．\n",
    "`prim`の定義に以下を追加します．\n",
    "\n",
    "---\n",
    "```\n",
    "       | var PLUSPLUS          { $$ = createNode(T_PP, $1, NULL); }\n",
    "```\n",
    "---\n",
    "\n",
    "これで準備ができましたので，実行してみましょう．\n",
    "（どこが変更されているか，ちゃんと理解して実行すること．）"
   ]
  },
  {
   "cell_type": "code",
   "execution_count": null,
   "id": "adbcc74f-10cd-45a5-9d09-a06fef8fb33f",
   "metadata": {
    "deletable": false,
    "editable": false,
    "slideshow": {
     "slide_type": ""
    },
    "tags": []
   },
   "outputs": [],
   "source": [
    "/* yacc ex2-8.yacc */\n",
    "%union {\n",
    "  Node* np;\n",
    "  int i;\n",
    "}\n",
    "%type <np> stlist stat expr prim var cond\n",
    "%token NUM;\n",
    "%token IDENT;\n",
    "%token READ;\n",
    "%token PRINT;\n",
    "%token WHILE;\n",
    "%token PLUSPLUS;\n",
    "%%\n",
    "prog   : IDENT '{' stlist '}'       { dotree($3); return 0; }\n",
    "       ;\n",
    "stlist :                            { $$ = NULL; }\n",
    "       | stlist stat                { $$ = createNode(T_STLIST, $1, $2); }\n",
    "       ;\n",
    "stat   : var '=' expr ';'           { $$ = createNode(T_ASSIGN, $1, $3); }\n",
    "       | READ var ';'               { $$ = createNode(T_READ, $2, NULL); }\n",
    "       | PRINT expr ';'             { $$ = createNode(T_PRINT, $2, NULL); }\n",
    "       | WHILE '(' cond ')' stat    { $$ = createNode(T_WHILE, $3, $5); }\n",
    "       ;\n",
    "expr   : prim              { $$ = $1; }\n",
    "       | expr '+' prim     { $$ = createNode(T_ADD, $1, $3); }\n",
    "       | expr '-' prim     { $$ = createNode(T_SUB, $1, $3); }\n",
    "       ;\n",
    "prim   : NUM               { $$ = createNode(T_NUM, atoi(yytext), NULL); }\n",
    "       | var               { $$ = createNode(T_VAR, $1, NULL); }\n",
    "       | '(' expr ')'      { $$ = $2; }\n",
    "       | var PLUSPLUS      { $$ = createNode(T_PP, $1, NULL); }\n",
    "       ;\n",
    "var    : IDENT             { $$ = lookup(yytext); }\n",
    "       ;\n",
    "cond   : expr '<' expr     { $$ = createNode(T_LT, $1, $3); }\n",
    "       | expr '>' expr     { $$ = createNode(T_GT, $1, $3); }\n",
    "       ;"
   ]
  },
  {
   "cell_type": "markdown",
   "id": "16ea0e72-90f8-4ea7-bc61-51fd959f9724",
   "metadata": {
    "deletable": false,
    "editable": false,
    "slideshow": {
     "slide_type": ""
    },
    "tags": []
   },
   "source": [
    "Lexの定義もどこが変わったか理解した上で実行しましょう．"
   ]
  },
  {
   "cell_type": "code",
   "execution_count": null,
   "id": "605bea00-ccf2-4ad3-b8a4-9979ff2760b7",
   "metadata": {
    "deletable": false,
    "editable": false,
    "slideshow": {
     "slide_type": ""
    },
    "tags": []
   },
   "outputs": [],
   "source": [
    "/* lex ex2-8.lex */\n",
    "alpha   [a-zA-Z]\n",
    "digit   [0-9]\n",
    "white   [\\n\\t ]\n",
    "%%\n",
    "read                        { return READ; }\n",
    "print                       { return PRINT; }\n",
    "while                       { return WHILE; }\n",
    "\"++\"                        { return PLUSPLUS; }\n",
    "{alpha}({alpha}|{digit})*   { return IDENT; }\n",
    "{digit}+                    { return NUM; }\n",
    "[+\\-=();{}<>]               { return yytext[0]; }\n",
    "{white}                     { ; }"
   ]
  },
  {
   "cell_type": "markdown",
   "id": "842c5a47-761b-4216-9870-6a52163c3566",
   "metadata": {
    "deletable": false,
    "editable": false,
    "slideshow": {
     "slide_type": ""
    },
    "tags": []
   },
   "source": [
    "Cのプログラムにも変更点があります．"
   ]
  },
  {
   "cell_type": "code",
   "execution_count": null,
   "id": "85662444-cbbc-4d60-92fd-d113576c9021",
   "metadata": {
    "deletable": false,
    "editable": false,
    "slideshow": {
     "slide_type": ""
    },
    "tags": []
   },
   "outputs": [],
   "source": [
    "/* c ex2-8.c */\n",
    "#include <stdio.h>\n",
    "struct stab {\n",
    "  int val;\n",
    "  char name[20];\n",
    "} stab[100];\n",
    "int stabuse = 0;\n",
    "\n",
    "extern char *yytext;\n",
    "\n",
    "#define T_STLIST 1\n",
    "#define T_ASSIGN 2\n",
    "#define T_READ   3\n",
    "#define T_PRINT  4\n",
    "#define T_ADD    5\n",
    "#define T_SUB    6\n",
    "#define T_NUM    7\n",
    "#define T_VAR    8\n",
    "#define T_WHILE  9\n",
    "#define T_LT     10\n",
    "#define T_GT     11\n",
    "#define T_PP     12\n",
    "\n",
    "typedef struct Node {\n",
    "    int node_type;\n",
    "    struct Node* left;\n",
    "    struct Node* right;\n",
    "} Node;\n",
    "\n",
    "\n",
    "// 引数にとる文字列が表にあれば見つかった位置を返して，なければ追加する関数\n",
    "int lookup(char *s) {\n",
    "  int i;\n",
    "  // 表の使っているところを順に見ていって\n",
    "  for (i = 0; i < stabuse; ++i) {\n",
    "    if (strcmp(stab[i].name, s) == 0) {\n",
    "      // 見つかった場合はその位置を返す\n",
    "      return i;\n",
    "    }\n",
    "  }\n",
    "  if (stabuse >= 99) {\n",
    "    // 変数の上限の個数を超えてしまった\n",
    "    printf(\"table overflow,\\n\");\n",
    "    exit(1);\n",
    "  }\n",
    "\n",
    "  // 表になかったので追加する\n",
    "  strcpy(stab[stabuse].name, s);\n",
    "  return stabuse++;  // 追加した位置を返す\n",
    "}\n",
    "\n",
    "// 新しいノードを作る関数\n",
    "Node* createNode(int node_type, Node* left, Node* right) {\n",
    "    Node* newNode = (Node*)malloc(sizeof(Node));\n",
    "    newNode->node_type = node_type;\n",
    "    newNode->left = left;\n",
    "    newNode->right = right;\n",
    "    return newNode;\n",
    "}\n",
    "\n",
    "// ノードをたどる関数\n",
    "int dotree(Node* node) {\n",
    "  if (node == NULL) {\n",
    "    return 0;\n",
    "  }\n",
    "  switch (node->node_type) {\n",
    "    case T_STLIST:\n",
    "      if (node->left != NULL) { dotree(node->left); }\n",
    "      dotree(node->right);\n",
    "      break;\n",
    "    case T_ASSIGN:\n",
    "      stab[(int)(node->left)].val = dotree(node->right);\n",
    "      break;\n",
    "    case T_READ:\n",
    "      scanf(\"%d\", &stab[(int)(node->left)].val);\n",
    "      break;\n",
    "    case T_PRINT:\n",
    "      printf(\"%d\\n\", dotree(node->left));\n",
    "      break;\n",
    "    case T_ADD:\n",
    "      return dotree(node->left) + dotree(node->right);\n",
    "    case T_SUB:\n",
    "      return dotree(node->left) - dotree(node->right);\n",
    "    case T_NUM:\n",
    "      return node->left;\n",
    "    case T_VAR:\n",
    "      return stab[(int)(node->left)].val;\n",
    "    case T_WHILE:\n",
    "      while(dotree(node->left)) {\n",
    "        dotree(node->right);\n",
    "      }\n",
    "      break;\n",
    "    case T_LT:\n",
    "      return dotree(node->left) < dotree(node->right);\n",
    "    case T_GT:\n",
    "      return dotree(node->left) > dotree(node->right);\n",
    "    case T_PP:\n",
    "      int v = stab[(int)(dotree(node->left))].val;\n",
    "      stab[(int)(node->left)].val = v + 1;\n",
    "      return v;\n",
    "  }\n",
    "}\n",
    "\n",
    "#include \"y.tab.c\"\n",
    "#include \"lex.yy.c\"\n",
    "\n",
    "int main() {\n",
    "  yyparse();\n",
    "  return 0;\n",
    "}"
   ]
  },
  {
   "cell_type": "markdown",
   "id": "e1257f82-3e4c-41e9-94e1-b748e6ff12a0",
   "metadata": {
    "deletable": false,
    "editable": false,
    "slideshow": {
     "slide_type": ""
    },
    "tags": []
   },
   "source": [
    "まず，無限ループになるのがいやなので，`++`の動作を確認しましょう．"
   ]
  },
  {
   "cell_type": "code",
   "execution_count": null,
   "id": "aad3de38-8bd0-44bd-a5f1-34d45392f8b3",
   "metadata": {
    "deletable": false,
    "editable": false,
    "slideshow": {
     "slide_type": ""
    },
    "tags": []
   },
   "outputs": [],
   "source": [
    "/* a.out */\n",
    "main {\n",
    "  x = 2;\n",
    "  print x++;\n",
    "  print x;\n",
    "}"
   ]
  },
  {
   "cell_type": "markdown",
   "id": "d12cb4f5-801f-476c-bf39-94872204545d",
   "metadata": {
    "deletable": false,
    "editable": false,
    "slideshow": {
     "slide_type": ""
    },
    "tags": []
   },
   "source": [
    "それでは，`while`文を実行してみましょう．"
   ]
  },
  {
   "cell_type": "code",
   "execution_count": null,
   "id": "f7868d15-3553-4f79-8a17-1293cdcbc393",
   "metadata": {
    "deletable": false,
    "editable": false,
    "slideshow": {
     "slide_type": ""
    },
    "tags": []
   },
   "outputs": [],
   "source": [
    "/* a.out */\n",
    "main {\n",
    "  x = 0;\n",
    "  while (x < 5)\n",
    "    print x++;\n",
    "}"
   ]
  },
  {
   "cell_type": "markdown",
   "id": "7bbde1fb-6e9c-45a4-a278-cf611f0c6917",
   "metadata": {
    "deletable": false,
    "editable": false,
    "slideshow": {
     "slide_type": ""
    },
    "tags": []
   },
   "source": [
    "複合文を表わす構文規則が今の文法にはないため，`while`文のループ本体に1文しか書けないので，これぐらいのプログラムしか書けません．\n",
    "複合文を追加するのは，今日の練習問題としましょう．"
   ]
  },
  {
   "cell_type": "markdown",
   "id": "d0643776-acad-49f8-99e7-e501c5096830",
   "metadata": {
    "deletable": false,
    "editable": false,
    "slideshow": {
     "slide_type": ""
    },
    "tags": []
   },
   "source": [
    "# まとめ\n",
    "\n",
    "- 電卓\n",
    "- 単純なプログラミング言語のインタプリタ（解釈実行器）\n",
    "\n",
    "を作り，LexとYaccで自分で考えた構文を持つプログラムを構文解析し，どう実行できるかを見てきました．\n",
    "これで，LALR構文解析など，レポート課題に残した部分はありますが，LexとYaccの基本的な機能はほぼ説明したこととなります．\n",
    "\n",
    "次回は，これを発展させて，\n",
    "\n",
    "- 簡単な英文処理プログラム\n",
    "- 単純なプログラミング言語のコンパイラ\n",
    "\n",
    "を作成してみましょう．"
   ]
  },
  {
   "cell_type": "markdown",
   "id": "04e3fabd-cf39-41a7-960d-f0b9274ed46a",
   "metadata": {
    "deletable": false,
    "editable": false,
    "slideshow": {
     "slide_type": ""
    },
    "tags": []
   },
   "source": [
    "# 練習問題\n",
    "\n",
    "成績の評価時に考慮します．\n",
    "\n",
    "必須ではないですが，後からの提出は認めないので，授業時間内+α（13:00〜19:00）の間に提出してください．\n",
    "\n",
    "順番にやる必要はなく，できるものから取り組んでください．\n",
    "\n",
    "## 提出方法\n",
    "\n",
    "以下の問題について，この2.ipynbファイルを編集し，完成した自分が編集した .ipynb ファイルをGoogle Classroomの該当課題に提出してください．（もしこのノートブックをファイルに保存したいときには，メニューの「file」→「Download」で .ipynb ファイルをダウンロード出来るので，それを提出してください．）\n",
    "\n",
    "- 適宜コメントを入れてください．\n",
    "- 提出する際のファイル名は，「**`学籍番号.ipynb`**」としてください．"
   ]
  },
  {
   "cell_type": "markdown",
   "id": "31ec57f0-e9dc-40f8-bf41-a8613af30623",
   "metadata": {
    "editable": false,
    "slideshow": {
     "slide_type": ""
    },
    "tags": []
   },
   "source": [
    "## 問題1\n",
    "\n",
    "電卓（1）を拡張して，四則演算など他の計算もできるように拡張してください．\n",
    "前回の出席課題で追加した符号付き整数・実数・指数表現などにも対応している時には加点します．"
   ]
  },
  {
   "cell_type": "code",
   "execution_count": null,
   "id": "cee3cb42-2416-4919-af61-2d7897ac57f5",
   "metadata": {
    "deletable": false,
    "editable": true,
    "slideshow": {
     "slide_type": ""
    },
    "tags": []
   },
   "outputs": [],
   "source": [
    "/* lex p2-1.lex */\n",
    "ここに書く"
   ]
  },
  {
   "cell_type": "code",
   "execution_count": null,
   "id": "1583dc0b-065d-46e3-bd4a-5ae88e99565a",
   "metadata": {
    "deletable": false,
    "editable": true,
    "slideshow": {
     "slide_type": ""
    },
    "tags": []
   },
   "outputs": [],
   "source": [
    "/* yacc p2-1.yacc */\n",
    "ここに書く"
   ]
  },
  {
   "cell_type": "code",
   "execution_count": null,
   "id": "41694508-1811-44d7-aac3-8c351ad29f22",
   "metadata": {
    "deletable": false,
    "editable": true,
    "slideshow": {
     "slide_type": ""
    },
    "tags": []
   },
   "outputs": [],
   "source": [
    "/* c p2-1.c */\n",
    "ここに書く"
   ]
  },
  {
   "cell_type": "code",
   "execution_count": null,
   "id": "321fb7fc-3d5c-472c-8832-81e12fd4e3f3",
   "metadata": {
    "deletable": false,
    "editable": true,
    "slideshow": {
     "slide_type": ""
    },
    "tags": []
   },
   "outputs": [],
   "source": [
    "/* a.out */\n",
    "自分の書いた電卓のプログラムが正しく動作をしていることを確認できる入力を考えて書く"
   ]
  },
  {
   "cell_type": "markdown",
   "id": "49fb1e93-5883-4328-9e5e-dec4a16dad02",
   "metadata": {
    "deletable": false,
    "editable": false,
    "slideshow": {
     "slide_type": ""
    },
    "tags": []
   },
   "source": [
    "## 問題2\n",
    "\n",
    "電卓（2）の属性値を使った最後の結果で，`1+2*3+1`の計算結果が正しくありませんでしたYaccの構文を変更して，演算子の順位をちゃんと考慮して計算できる電卓にしてください．lexとcはそのままで良いはず．\n",
    "\n",
    "- ヒント：今の定義では，式（`expr`)と因子（`prim`）しかないので，その間に項（`term`，つまり因子を1個以上乗除算でつないだもの）という構文規則を導入してみましょう．"
   ]
  },
  {
   "cell_type": "code",
   "execution_count": null,
   "id": "8dcd4600-7482-4459-95ba-cc3ec1eaf614",
   "metadata": {
    "deletable": false,
    "editable": false,
    "slideshow": {
     "slide_type": ""
    },
    "tags": []
   },
   "outputs": [],
   "source": [
    "/* lex ex2-3.lex */\n",
    "digit        [0-9]\n",
    "white        [\\t ]\n",
    "%%\n",
    "{digit}+     { return NUM; }\n",
    "[+*()]       { return yytext[0]; }\n",
    "\"\\n\"         { return '\\n'; }\n",
    "{white}      { ; }"
   ]
  },
  {
   "cell_type": "code",
   "execution_count": null,
   "id": "79d84b77-73a1-48b4-b8a1-9c99d638ecdc",
   "metadata": {
    "deletable": false,
    "editable": true,
    "slideshow": {
     "slide_type": ""
    },
    "tags": []
   },
   "outputs": [],
   "source": [
    "/* yacc p2-2.yacc */\n",
    "ここに書く"
   ]
  },
  {
   "cell_type": "code",
   "execution_count": null,
   "id": "1be0c724-7fd5-42f6-95fe-619c4f8090fb",
   "metadata": {
    "deletable": false,
    "editable": false,
    "slideshow": {
     "slide_type": ""
    },
    "tags": []
   },
   "outputs": [],
   "source": [
    "/* c ex2-3.c */\n",
    "#include <stdio.h>\n",
    "extern char *yytext;\n",
    "\n",
    "#include \"y.tab.c\"\n",
    "#include \"lex.yy.c\"\n",
    "\n",
    "int main() {\n",
    "  yyparse();\n",
    "  return 0;\n",
    "}"
   ]
  },
  {
   "cell_type": "code",
   "execution_count": null,
   "id": "10021467-5ff5-46e3-837e-30ad5155febb",
   "metadata": {
    "deletable": false,
    "editable": true,
    "slideshow": {
     "slide_type": ""
    },
    "tags": []
   },
   "outputs": [],
   "source": [
    "/* a.out */\n",
    "演算子の順序が正しいことを確認できるような入力例を考えて書く"
   ]
  },
  {
   "cell_type": "markdown",
   "id": "c91cb558-5087-45ba-8df8-eac62ec62c02",
   "metadata": {
    "deletable": false,
    "editable": false,
    "slideshow": {
     "slide_type": ""
    },
    "tags": []
   },
   "source": [
    "## 問題3\n",
    "\n",
    "電卓（2）の変数に値を設定するのは代入文でした．C言語のように式の途中に`=`をかける代入演算子にするには，どのように変更すれば良いでしょうか．"
   ]
  },
  {
   "cell_type": "code",
   "execution_count": null,
   "id": "77110fb5-d90d-4504-8dc7-62e23a73ed1f",
   "metadata": {
    "deletable": false,
    "editable": true,
    "slideshow": {
     "slide_type": ""
    },
    "tags": []
   },
   "outputs": [],
   "source": [
    "/* lex ex2-3.lex */\n",
    "digit        [0-9]\n",
    "white        [\\t ]\n",
    "%%\n",
    "{digit}+     { return NUM; }\n",
    "[+*()]       { return yytext[0]; }\n",
    "\"\\n\"         { return '\\n'; }\n",
    "{white}      { ; }"
   ]
  },
  {
   "cell_type": "code",
   "execution_count": null,
   "id": "45d8e3fb-4586-4316-9461-1c7ecfac8707",
   "metadata": {
    "deletable": false,
    "editable": true,
    "slideshow": {
     "slide_type": ""
    },
    "tags": []
   },
   "outputs": [],
   "source": [
    "/* yacc p2-3.yacc */\n",
    "%token NUM;\n",
    "%token IDENT;\n",
    "%%\n",
    "stlist :\n",
    "       | stlist stat '\\n'\n",
    "       ;\n",
    "stat   : var '=' expr      { stab[$1].val = $3; printf(\"%d\\n\", $3); }\n",
    "       ;\n",
    "expr   : prim              { $$ = $1; }\n",
    "       | expr '+' prim     { $$ = $1 + $3; }\n",
    "       | expr '*' prim     { $$ = $1 + $3; }\n",
    "       ;\n",
    "prim   : NUM               { $$ = atoi(yytext); }\n",
    "       | var               { $$ = stab[$1].val; }\n",
    "       | '(' expr ')'      { $$ = $2; }\n",
    "       ;\n",
    "var    : IDENT             { $$ = lookup(yytext); }\n",
    "       ;"
   ]
  },
  {
   "cell_type": "code",
   "execution_count": null,
   "id": "b3710f0b-e677-436d-b159-9e9b08513bb1",
   "metadata": {
    "deletable": false,
    "editable": true,
    "slideshow": {
     "slide_type": ""
    },
    "tags": []
   },
   "outputs": [],
   "source": [
    "/* c ex2-3.c */\n",
    "#include <stdio.h>\n",
    "extern char *yytext;\n",
    "\n",
    "#include \"y.tab.c\"\n",
    "#include \"lex.yy.c\"\n",
    "\n",
    "int main() {\n",
    "  yyparse();\n",
    "  return 0;\n",
    "}"
   ]
  },
  {
   "cell_type": "markdown",
   "id": "7162156c-5aba-4ed4-b78c-64ec3e2de7b2",
   "metadata": {
    "deletable": false,
    "editable": false,
    "slideshow": {
     "slide_type": ""
    },
    "tags": []
   },
   "source": [
    "## 問題4\n",
    "\n",
    "`while`文のループ本体で複数の文が書けるように，複合文の構文規則を追加してください．\n",
    "\n",
    "- ヒント: C言語のように `{}` で囲った文を用意すればよい．\n",
    "- ヒント: 複数の文は既に `stlist`と定義されているので，それを `{}` で囲った構文規則があればよい．"
   ]
  },
  {
   "cell_type": "code",
   "execution_count": null,
   "id": "f856bec2-27ef-40b1-8e45-56e171cbfea4",
   "metadata": {
    "deletable": false,
    "editable": true,
    "slideshow": {
     "slide_type": ""
    },
    "tags": []
   },
   "outputs": [],
   "source": [
    "/* lex p2-4.lex */\n",
    "ここに書く"
   ]
  },
  {
   "cell_type": "code",
   "execution_count": null,
   "id": "d08bee11-e785-481c-8753-05a38f5e1c03",
   "metadata": {
    "deletable": false,
    "editable": true,
    "slideshow": {
     "slide_type": ""
    },
    "tags": []
   },
   "outputs": [],
   "source": [
    "/* yacc p2-4.yacc */\n",
    "ここに書く"
   ]
  },
  {
   "cell_type": "code",
   "execution_count": null,
   "id": "21b22ce3-ed75-4bd3-a0c7-07ada1df54da",
   "metadata": {
    "deletable": false,
    "editable": true,
    "slideshow": {
     "slide_type": ""
    },
    "tags": []
   },
   "outputs": [],
   "source": [
    "/* c p2-4.c */\n",
    "ここに書く"
   ]
  },
  {
   "cell_type": "code",
   "execution_count": null,
   "id": "60cbbc09-a77b-4229-892c-cab8a7624367",
   "metadata": {
    "deletable": false,
    "editable": true,
    "slideshow": {
     "slide_type": ""
    },
    "tags": []
   },
   "outputs": [],
   "source": [
    "/* a.out */\n",
    "while文の本体で複数の文が動いている例を考えてここに書く"
   ]
  },
  {
   "cell_type": "markdown",
   "id": "cdabd574-8e7d-463e-bc18-7decb0c9a468",
   "metadata": {
    "deletable": false,
    "editable": false,
    "slideshow": {
     "slide_type": ""
    },
    "tags": []
   },
   "source": [
    "## 問題5\n",
    "\n",
    "`cond`で使えるように，`<=`，`>=`，`==`を追加してください．\n",
    "\n",
    "- ヒント: Lexに演算子のためのパターンを追加する必要があります（`++`が参考になるかも）\n",
    "- ヒント: Yaccに規則を追加する必要があります（`cond`の構文規則に追加）\n",
    "- ヒント: Cの`dotree`の`switch`に処理を追加する必要があります．"
   ]
  },
  {
   "cell_type": "code",
   "execution_count": null,
   "id": "0bbdfebc-55b7-4a0d-b4ce-72b22044888a",
   "metadata": {
    "deletable": false,
    "editable": true,
    "slideshow": {
     "slide_type": ""
    },
    "tags": []
   },
   "outputs": [],
   "source": [
    "/* lex p2-5.lex */\n",
    "ここに書く"
   ]
  },
  {
   "cell_type": "code",
   "execution_count": null,
   "id": "7d3e2f5e-78c0-488b-afbf-e42c9adfc03c",
   "metadata": {
    "deletable": false,
    "editable": true,
    "slideshow": {
     "slide_type": ""
    },
    "tags": []
   },
   "outputs": [],
   "source": [
    "/* yacc p2-5.yacc */\n",
    "ここに書く"
   ]
  },
  {
   "cell_type": "code",
   "execution_count": null,
   "id": "36765d2e-28c2-4e77-867d-c8159c06aa8e",
   "metadata": {
    "deletable": false,
    "editable": true,
    "slideshow": {
     "slide_type": ""
    },
    "tags": []
   },
   "outputs": [],
   "source": [
    "/* c p2-5.c */\n",
    "ここに書く"
   ]
  },
  {
   "cell_type": "code",
   "execution_count": null,
   "id": "82b1cd5a-dea5-4df4-92d4-78751025f106",
   "metadata": {
    "deletable": false,
    "editable": true,
    "slideshow": {
     "slide_type": ""
    },
    "tags": []
   },
   "outputs": [],
   "source": [
    "/* a.out */\n",
    "ちゃんと動いている例を考えてここに書く"
   ]
  },
  {
   "cell_type": "markdown",
   "id": "60d9858c-b0da-4b00-991f-dced38051446",
   "metadata": {
    "deletable": false,
    "editable": false,
    "slideshow": {
     "slide_type": ""
    },
    "tags": []
   },
   "source": [
    "## 問題6\n",
    "\n",
    "`cond`で使えるように，`!`（否定），`&&`（論理積），`||`（論理和）を追加してください．"
   ]
  },
  {
   "cell_type": "code",
   "execution_count": null,
   "id": "e389438d-afac-4e33-9f5c-4f691620152a",
   "metadata": {
    "deletable": false,
    "editable": true,
    "slideshow": {
     "slide_type": ""
    },
    "tags": []
   },
   "outputs": [],
   "source": [
    "/* lex p2-6.lex */\n",
    "ここに書く"
   ]
  },
  {
   "cell_type": "code",
   "execution_count": null,
   "id": "e3a4a9e4-5126-45d2-9b86-ad9ab03e3819",
   "metadata": {
    "deletable": false,
    "editable": true,
    "slideshow": {
     "slide_type": ""
    },
    "tags": []
   },
   "outputs": [],
   "source": [
    "/* yacc p2-6.yacc */\n",
    "ここに書く"
   ]
  },
  {
   "cell_type": "code",
   "execution_count": null,
   "id": "8872f9cc-2aea-4cbe-bb73-53652c6a16fb",
   "metadata": {
    "deletable": false,
    "editable": true,
    "slideshow": {
     "slide_type": ""
    },
    "tags": []
   },
   "outputs": [],
   "source": [
    "/* c p2-6.c */\n",
    "ここに書く"
   ]
  },
  {
   "cell_type": "code",
   "execution_count": null,
   "id": "d85bb13d-75cc-4f1d-85a3-30e1fabfe3b3",
   "metadata": {
    "deletable": false,
    "editable": true,
    "slideshow": {
     "slide_type": ""
    },
    "tags": []
   },
   "outputs": [],
   "source": [
    "/* a.out */\n",
    "ちゃんと動いている例を考えてここに書く"
   ]
  },
  {
   "cell_type": "markdown",
   "id": "b44379eb-ce92-4cc1-bb45-7e6f9008a216",
   "metadata": {
    "deletable": false,
    "editable": false,
    "slideshow": {
     "slide_type": ""
    },
    "tags": []
   },
   "source": [
    "## 問題7\n",
    "\n",
    "今回出てきた，Lex，Yacc，Cを自由に拡張して，作ったプログラミング言語に機能を追加してください．\n",
    "\n",
    "以下は，レポート課題にする予定なので，ここでやらないでもよい（今やっておいて，レポートに使い回すのはOK）\n",
    "- `if`文（`else`を含む）\n",
    "- `switch`文\n",
    "- サブルーチン\n",
    "- 関数\n",
    "- 配列"
   ]
  },
  {
   "cell_type": "code",
   "execution_count": null,
   "id": "2097d8b1-452f-4f4c-b98e-d9bec62a62e6",
   "metadata": {
    "deletable": false,
    "editable": true,
    "slideshow": {
     "slide_type": ""
    },
    "tags": []
   },
   "outputs": [],
   "source": [
    "/* lex p2-7.lex */\n",
    "ここに書く"
   ]
  },
  {
   "cell_type": "code",
   "execution_count": null,
   "id": "f5c880c1-d29b-42a9-ab81-c6c2e9ab7096",
   "metadata": {
    "deletable": false,
    "editable": true,
    "slideshow": {
     "slide_type": ""
    },
    "tags": []
   },
   "outputs": [],
   "source": [
    "/* yacc p2-7.yacc */\n",
    "ここに書く"
   ]
  },
  {
   "cell_type": "code",
   "execution_count": null,
   "id": "1ebd2f71-fe0c-4a74-8cd9-6c24d8baa935",
   "metadata": {
    "deletable": false,
    "editable": true,
    "slideshow": {
     "slide_type": ""
    },
    "tags": []
   },
   "outputs": [],
   "source": [
    "/* c p2-7.c */\n",
    "ここに書く"
   ]
  },
  {
   "cell_type": "code",
   "execution_count": null,
   "id": "a73a9254-7ce8-4929-a635-a0a2dbaab138",
   "metadata": {
    "deletable": false,
    "editable": true,
    "slideshow": {
     "slide_type": ""
    },
    "tags": []
   },
   "outputs": [],
   "source": [
    "/* a.out */\n",
    "ちゃんと動いている例を考えてここに書く"
   ]
  }
 ],
 "metadata": {
  "kernelspec": {
   "display_name": "lex yacc",
   "language": "lexyacc",
   "name": "lexyacc-kernel"
  },
  "language_info": {
   "mimetype": "text/plain",
   "name": "lex yacc"
  }
 },
 "nbformat": 4,
 "nbformat_minor": 5
}
