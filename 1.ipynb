{
 "cells": [
  {
   "cell_type": "markdown",
   "id": "860e3685-4c4a-47d4-9490-878ef8726543",
   "metadata": {
    "deletable": false,
    "editable": false,
    "slideshow": {
     "slide_type": ""
    },
    "tags": []
   },
   "source": [
    "# J5実験 第1回\n",
    "\n",
    "## テキストを読み込むプログラム\n",
    "\n",
    "入学してからこれまでの演習・実験で，ユーザーからの入力を受けとるプログラムを作ってきたと思います．\n",
    "J5実験では，**Lex** と **Yacc** というツールを利用して，「構文」に従った入力を受けとるプログラムを作成する方法について学びます．"
   ]
  },
  {
   "cell_type": "markdown",
   "id": "2fc3fccb-7d85-4879-bc7e-3a541c36f90a",
   "metadata": {
    "deletable": false,
    "editable": false,
    "slideshow": {
     "slide_type": ""
    },
    "tags": []
   },
   "source": [
    "# 構文とは\n",
    "\n",
    "言語処理系論では，文脈自由文法で記述された以下のような構文の例が出てきたと思います．\n",
    "\n",
    "---\n",
    "\n",
    "```\n",
    "E ::= E_1 + E_2\n",
    "    | f ( E_1, ..., E_k )\n",
    "    | N \n",
    "S ::= E_1 = E_2\n",
    "    | S_1 S_2\n",
    "    | while E_1 : S_1\n",
    "```\n",
    "\n",
    "---\n",
    "\n",
    "この構文の例は，\n",
    "\n",
    "`E`とは，`E`が`+`でつながれているか，`f`の後ろに括弧`()`で囲われて`,`で区切られている`E`が並んでいるか，`N`である．\n",
    "\n",
    "と`E::=`から始まる箇所は読めます．これがプログラミング言語の構文だと考えると，たとえば `f (1, 3)` のようなよくあるプログラミング言語の関数呼び出しを対象とする構文だと分かります．\n",
    "\n",
    "または，以下のような四則演算の数式を表現する構文も考えられます．\n",
    "\n",
    "---\n",
    "\n",
    "```\n",
    "因子 ::= 数値 | 変数 | '(' 式 ')'\n",
    "項   ::= 因子 | 項 '*' 因子 | 項 '/' 因子\n",
    "式   ::= 項 | 式 '+' 項 | 式 '-' 項\n",
    "```\n",
    "\n",
    "---\n",
    "\n",
    "これらのような構文を用意し，数値や変数がどういったパターンの文字の並びを言うかさえ定義すれば，\n",
    "- ユーザーから入力されたテキストが構文に合っているか確かめられて（たとえば，入力`6+3*5`は上の構文にマッチしていると分かって，`4-(2`はマッチしていないと分かる．），\n",
    "- 合っていれば抽象構文木が作れる（上の`6+3*5`が`式+項`→`項+項*因子`→`因子+因子*因子`→`数値+数値*数値`と解析できる（ちょっといいかげんな書き方だけれど））\n",
    "  \n",
    "と，自分でパーサ（パーザ）[<sup>注1</sup>](#id_01) を1からコツコツと書かなくて済むとうれしいですよね．\n",
    "\n",
    "Lex と Yacc はそのようなツールで，字句のパターンと構文規則を与えれば，テキストを読み込むプログラムを自動生成してくれます．\n",
    "つまり，J5実験では，**テキストを読み込むプログラムを作るプログラム**を作るわけです．\n",
    "\n",
    "<span id=\"id_01\">\n",
    "注1) C言語でパーサを書くとしたら，簡単な構文だったらscanfで「スペースで区切られた数字」などというように読み込めるかもしれませんが，「(と)で囲われていて，if文のような構文があって，...」というような複雑な構文を自分でgetchar() で1文字読みながら構文に合っているか確認するプログラムを書くのはしんどそうというのはなんとなく分かるのではないでしょうか．\n",
    "</span>"
   ]
  },
  {
   "cell_type": "markdown",
   "id": "5d65d734-ac72-4328-91ac-db865234147f",
   "metadata": {
    "deletable": false,
    "editable": false,
    "slideshow": {
     "slide_type": ""
    },
    "tags": []
   },
   "source": [
    "# テキストを読み込むプログラムを作るプログラム\n",
    "\n",
    "それぞれ，Lexは **字句解析**，Yaccは**構文解析**を行うプログラムを生成してくれるツールです．\n",
    "\n",
    "Lexは**正規表現**で字句のパターンを記述して，Yaccは **BNF記法（Backus–Naurform）** により構文規則を記述します．つまりJ5実験では，\n",
    "1. Lexの書き方\n",
    "1. Yaccでの構文の書き方\n",
    "1. C言語のプログラムからそれを利用する方法\n",
    "1. （コード生成）\n",
    "\n",
    "を学ぶということになります．LexやYaccの新たな記法を学ばなくてはいけないということで，しんどいと思う人もいるかもしれませんが，新たにプログラミング言語を覚えるのに比べたら，記法は直感的であり，動的な動きを考える必要は少なく，はるかに楽です．がんばってやっていきましょう．"
   ]
  },
  {
   "cell_type": "markdown",
   "id": "be3e5033-cc93-4109-8ba5-446ab1884d31",
   "metadata": {
    "deletable": false,
    "editable": false,
    "slideshow": {
     "slide_type": ""
    },
    "tags": []
   },
   "source": [
    "# Lex\n",
    "\n",
    "まずは，簡単な例を使って，Lexでのパターンの書き方を見てみましょう．\n",
    "\n",
    "---\n",
    "\n",
    "```lex\n",
    "digit [0-9]\n",
    "alpha [a-zA-Z]\n",
    "white [\\n\\t ]\n",
    "%%\n",
    "{digit}+                  { return NUM; }\n",
    "{alpha}({alpha}|{digit})* { return IDENT; }\n",
    "{white}                   { ; }\n",
    "```\n",
    "\n",
    "---\n",
    "\n",
    "```\\n\\t ```では `\\t` の後ろに空白スペースがあることに注意．`NUM`はNumber（数），`IDENT`はIdentifier（識別子）というつもりで付けている名前です．\n",
    "\n",
    "## Lexの記法\n",
    "\n",
    "Lexのプログラムは，``%%``で上下に区切られており，上が**定義**，下が**パターン**を表しています．つまり，\n",
    "\n",
    "```\n",
    "定義1\n",
    "定義2\n",
    "...\n",
    "%%\n",
    "パターン1    アクション1\n",
    "パターン2    アクション2\n",
    "...\n",
    "```\n",
    "という形をしています．順番に定義の記法，パターンの記法を見ていきましょう．\n",
    "\n",
    "### 定義の記法\n",
    "\n",
    "定義は，パターンで置き換えて使うことができるようにパターンを書いておくものです（変数のようなもの）．つまり，上の例だと，\n",
    "- `digit` は `[0-9]` に置き換えられる\n",
    "- `alpha` は `[a-zA-Z]` に置き換えられる\n",
    "- `white` は `[\\n\\t ]` に置き換えられる\n",
    "\n",
    "と読むことができます．\n",
    "つまり，定義を書くことは必須ではなくて，上のLexプログラムは，\n",
    "\n",
    "---\n",
    "\n",
    "\n",
    "```lex\n",
    "%%\n",
    "[0-9]+                  { return NUM; }\n",
    "[a-zA-Z][a-zA-Z0-9]*    { return IDENT; }\n",
    "[\\n\\t ]                 { ; }\n",
    "```\n",
    "\n",
    "---\n",
    "\n",
    "とも書けるわけです．\n",
    "（良く見た人は，`({alpha}|{digit})*` のところが単純な置き換えではないことに気付いたかもしれません．後述のパターンの記法（正規表現）で分かると思います．）\n",
    "\n",
    "### パターンの記法\n",
    "\n",
    "パターンは，正規表現を使って記述します．正規表現は，以下の記法を持っています．\n",
    "\n",
    "| パターン | 意味 | 例 |\n",
    "|:-----------|:------------|:----------|\n",
    "| `[`文字...文字`]` | `[]`内の文字のどれか（`[a-z]`のように書いて，`a`から`z`までの全部を表わせる．） | `[a0]` `a`がマッチ |\n",
    "| `[^`文字...文字`]` | `[]`内の文字以外の文字のどれか | `[^x]` `z`がマッチ |\n",
    "| `.` | 任意の1文字 | |\n",
    "| 文字 | その文字．ただし，`[` や `.` などパターンで使う記号は下のエスケープが必要 | |\n",
    "| `\\`文字 | その文字．`[`などのエスケープに使う | `\\[` |\n",
    "| `\"`文字`\"` | 上の `\\`文字 と同じ | `\"[\"` |\n",
    "| `{`定義名`}`| 定義の参照 | `{alpha}` |\n",
    "| α β | αに続いてβ | `[abc][xyz]` `az`にマッチ | \n",
    "| α `\\|` β | αまたはβ | `([0-2]\\|[a-c])` `0`にマッチ |\n",
    "| `^`α | 行の先頭にあるα | `^[+-][0-9]` `+2`にマッチ |\n",
    "| α`$` | 行の末尾にあるα | `[a-z]Z$` `cZ`にマッチ|\n",
    "| α`*` | αの0回以上の繰り返し | `a[a-z]*` `abcdef`にマッチ，`a`にもマッチ |\n",
    "| α`+` | αの1回以上の繰り返し | `a[a-z]+` `abcdef`にマッチ，`a`にはマッチしない |\n",
    "| α`?` | 0個または1個のα | `[+-]?[0-9]+` `+123`にマッチ，`123`にもマッチ |\n",
    "| α `/` β | α，ただし直後にβがある | `abc/d` `abcd`にマッチ（ただしマッチの対象は`abc`），`abc`にはマッチしない |\n",
    "| `(` α `)` | αを `()` でくくれる | |\n",
    "\n",
    "αとβには任意のパターンを意味しています．\n",
    "\n",
    "なので，上の定義で出てきた例はそれぞれ，\n",
    "\n",
    "- `[0-9]` は，0から9までの字のどれか1文字（つまり数字1文字）\n",
    "- `[a-zA-Z]` は，aからz，AからZの字どれか1文字（つまりアルファベット1文字）\n",
    "- `[\\n\\t ]` は，`\\n`か`\\t`か` `（つまり改行かタブか空白1文字）\n",
    "\n",
    "と読むことができます．また，定義を展開して，\n",
    "\n",
    "- `{alpha}+` は，アルファベットが1個以上並んでいるもの\n",
    "- `{alpha}({alpha}|{digit})*` はアルファベット1文字の後に，アルファベットか数字が0文字以上続く\n",
    "\n",
    "という正規表現が書かれていたということが分かります．\n",
    "また，上に挙げた例で，`{alpha}({alpha}|{digit})* { return IDENT; }` の定義を展開したときに，`[a-zA-Z][a-zA-Z0-9]*` というパターンにしていたことも何故だったか分かりましたね．\n",
    "\n",
    "正規表現は，Lexに限定しない一般的なパターンの書き方ですので，ウェブ上で検索するとより詳しい情報が調べられます．\n",
    "\n",
    "各パターンは正規表現で記述するというのが分かりました．それでは，パターン間で複数のパターンに入力がマッチしてしまう場合はどうなるでしょうか．Lexでは，\n",
    "1. **マッチする長さが長い方が優先する**\n",
    "1. **複数のパターンにマッチする場合には，上に書いてある方が優先する**\n",
    "\n",
    "といるルールがあります（1が優先）．ですので，たとえば，\n",
    "\n",
    "---\n",
    "\n",
    "```\n",
    "%%\n",
    "begin                   { return KBEGIN; }\n",
    "[a-zA-Z][a-zA-Z0-9]*    { return IDENT; }\n",
    "```\n",
    "\n",
    "---\n",
    "\n",
    "というLexの記述があったときに，`begin`という入力に対して `IDENT` としてマッチするわけではなくて，2. のルールから `KBEGIN` としてマッチします．また，`begining`という入力に対しては`begin`と`ing`に分かれてマッチするのではなく，`IDENT`としてマッチします（上のルール1つ目が優先）．\n",
    "\n",
    "### アクションの記法\n",
    "\n",
    "アクションのところには，パターンにマッチしたときにどういうコードを動かすか，**C言語で書きます**．\n"
   ]
  },
  {
   "cell_type": "markdown",
   "id": "b02d42a3-370e-4918-9c2a-a481ba7986b0",
   "metadata": {
    "deletable": false,
    "editable": false,
    "slideshow": {
     "slide_type": ""
    },
    "tags": []
   },
   "source": [
    "## Lexの実行\n",
    "\n",
    "下のコードセルを実行してみましょう．授業スライドにあるように，セルを選択した状態で三角形を押してください．\n",
    "\n",
    "授業スライドで「重要」と説明したように，1行目はこのJ5実験のために準備したノートブックのコマンドなので，Lexの本来の構文には含まれないことに注意してください．コンテナ内に `ex1-1.lex` が作成されます．\n",
    "\n",
    "`[Lex] flex generates lex.yy.c successfully` となっていれば，実行は成功（Lexでのパターンの書き方は間違っていなかった）ということになり，`lex.yy.c`が作成されます．`lex.yy.c`は**上書きされるので注意**．"
   ]
  },
  {
   "cell_type": "code",
   "execution_count": null,
   "id": "aaf5fab4-56f1-4577-b846-53599eae055e",
   "metadata": {
    "deletable": false,
    "editable": false,
    "slideshow": {
     "slide_type": ""
    },
    "tags": []
   },
   "outputs": [],
   "source": [
    "/* lex ex1-1.lex */\n",
    "digit [0-9]\n",
    "alpha [a-zA-Z]\n",
    "white [\\n\\t ]\n",
    "%%\n",
    "{digit}+                  { return NUM; }\n",
    "{alpha}({alpha}|{digit})* { return IDENT; }\n",
    "{white}                   { ; }"
   ]
  },
  {
   "cell_type": "markdown",
   "id": "b7914c2b-fef6-4854-9605-dabfe129052e",
   "metadata": {
    "deletable": false,
    "editable": false,
    "slideshow": {
     "slide_type": ""
    },
    "tags": []
   },
   "source": [
    "間違っていると，どうなるかも見てみましょう．6行目で `}` を入れ忘れています．"
   ]
  },
  {
   "cell_type": "code",
   "execution_count": null,
   "id": "76afa9fd-a4fe-42b8-8f77-cca862383aad",
   "metadata": {
    "deletable": false,
    "editable": false,
    "slideshow": {
     "slide_type": ""
    },
    "tags": []
   },
   "outputs": [],
   "source": [
    "/* lex ex1-2.lex */\n",
    "digit [0-9]\n",
    "alpha [a-zA-Z]\n",
    "white [\\n\\t ]\n",
    "%%\n",
    "{digit+                  { return NUM; }\n",
    "{alpha}({alpha}|{digit})* { return IDENT; }\n",
    "{white}                   { ; }"
   ]
  },
  {
   "cell_type": "markdown",
   "id": "927f7c18-6ec2-433a-a68b-c0f1033bcd5d",
   "metadata": {
    "deletable": false,
    "editable": false,
    "slideshow": {
     "slide_type": ""
    },
    "tags": []
   },
   "source": [
    "これは，ノートブックに書かれたコードを `ex1-2.lex` に保存した上で，flexコマンドを実行したときのエラーメッセージがそのまま出力されています．\n",
    "8行目で`}`が合わないということが判明するので，8行目で `parse error` とメッセージが出ますが，間違えは6行目にあるので注意してください．（ノートブックのコマンド行（1行目）は除いて行を数える）"
   ]
  },
  {
   "cell_type": "markdown",
   "id": "082c6a51-9f47-426a-a11b-e6dcb1d65913",
   "metadata": {
    "deletable": false,
    "editable": false,
    "slideshow": {
     "slide_type": ""
    },
    "tags": []
   },
   "source": [
    "## 字句解析の結果を利用する\n",
    "\n",
    "### `yylex()`\n",
    "\n",
    "Lexは字句解析をするコード片を含んだ `lex.yy.c` を自動生成してくれます．その内容は例えば，以下のようになっています．\n",
    "\n",
    "<details>\n",
    "<summary>\n",
    "lex.yy.c の中身\n",
    "</summary>\n",
    "\n",
    "---\n",
    "\n",
    "```c\n",
    "...\n",
    "#define YY_DECL int yylex (void)\n",
    "...\n",
    "\n",
    "/** The main scanner function which does all the work.\n",
    " */\n",
    "YY_DECL\n",
    "{\n",
    "\tyy_state_type yy_current_state;\n",
    "\tchar *yy_cp, *yy_bp;\n",
    "\tint yy_act;\n",
    "    \n",
    "\tif ( !(yy_init) )\n",
    "\n",
    "...\n",
    "```\n",
    "\n",
    "---\n",
    "\n",
    "</details>\n",
    "\n",
    "普段は，この `lex.yy.c` の中身を見る必要はありませんし，細かい動作を知る必要もありません．このソースコードで定義されている `yylex()` というC言語の関数が，アクションに書いたとおりの結果を返してくれる（returnしてくれる）と思えばよいです．\n",
    "\n",
    "### `yylex()`を利用するCコード\n",
    "\n",
    "それでは，`yylex()`を利用して，字句解析結果を利用するプログラムを見てみましょう．\n",
    "\n",
    "---\n",
    "\n",
    "```c\n",
    "#define NUM 1\n",
    "#define IDENT 2\n",
    "#include \"lex.yy.c\"\n",
    "int main() {\n",
    "    int code;\n",
    "    while((code=yylex())) {\n",
    "        switch(code) {\n",
    "            case NUM: printf(\"num: %s\\n\", yytext); break;\n",
    "            case IDENT: printf(\"id: %s\\n\", yytext); break;\n",
    "        }\n",
    "    }\n",
    "    return 0;\n",
    "}\n",
    "```\n",
    "\n",
    "---\n",
    "\n",
    "`NUM`と`IDENT`は，上で実行した `ex1-1.lex` で動作の箇所で `return` していた値です．\n",
    "`lex.yy.c` を `include` することで `yylex()` を利用でき，字句解析のパターンにあてはまったときの動作に記述した処理が行なわれて結果が返ってくるので，`switch-case` 文で分岐して，字句解析の結果を利用できるわけです．このとき，Lexのパターンに一致した文字列が `yytext` という配列に保存される約束になっています．\n",
    "つまり，このCプログラムは，入力を順番に見ていき（`while`文），パターンにマッチする箇所で `num:` や `id:` という文字列と一緒にマッチした文字列を出力します．\n",
    "\n",
    "さっそく実行しましょう．"
   ]
  },
  {
   "cell_type": "markdown",
   "id": "226ca337-6799-4ccf-83eb-79e0784f11f0",
   "metadata": {
    "deletable": false,
    "editable": false,
    "slideshow": {
     "slide_type": ""
    },
    "tags": []
   },
   "source": [
    "さきほど，エラーのあるLexを試してしまいましたので，一応，もう一度 `lex ex1-1.lex` を実行して，`lex.yy.c` を作っておきます．"
   ]
  },
  {
   "cell_type": "code",
   "execution_count": null,
   "id": "fa07e8ec-45b0-4fad-8b3c-60ba6f2f6370",
   "metadata": {
    "deletable": false,
    "editable": false,
    "slideshow": {
     "slide_type": ""
    },
    "tags": []
   },
   "outputs": [],
   "source": [
    "/* lex ex1-1.lex */\n",
    "digit [0-9]\n",
    "alpha [a-zA-Z]\n",
    "white [\\n\\t ]\n",
    "%%\n",
    "{digit}+                  { return NUM; }\n",
    "{alpha}({alpha}|{digit})* { return IDENT; }\n",
    "{white}                   { ; }"
   ]
  },
  {
   "cell_type": "markdown",
   "id": "5ffb5ce9-f5a7-45c2-9dbc-6aade4b8ad95",
   "metadata": {
    "deletable": false,
    "editable": false,
    "slideshow": {
     "slide_type": ""
    },
    "tags": []
   },
   "source": [
    "続けて，上で説明したCコードをコンパイルします．（Lexのときと同様に，1行目はこのJ5実験のために準備したノートブックの記法）"
   ]
  },
  {
   "cell_type": "code",
   "execution_count": null,
   "id": "79d44b2a-f592-459b-9662-0782bd60aa7a",
   "metadata": {
    "deletable": false,
    "editable": false,
    "slideshow": {
     "slide_type": ""
    },
    "tags": []
   },
   "outputs": [],
   "source": [
    "/* c ex1-1.c */\n",
    "#define NUM 1\n",
    "#define IDENT 2\n",
    "#include \"lex.yy.c\"\n",
    "int main() {\n",
    "    int code;\n",
    "    while((code=yylex())) {\n",
    "        switch(code) {\n",
    "            case NUM: printf(\"num: %s\\n\", yytext); break;\n",
    "            case IDENT: printf(\"id: %s\\n\", yytext); break;\n",
    "        }\n",
    "    }\n",
    "    return 0;\n",
    "}"
   ]
  },
  {
   "cell_type": "markdown",
   "id": "41da43e0-542a-43ab-8ed3-b932165c13c5",
   "metadata": {
    "deletable": false,
    "editable": false,
    "slideshow": {
     "slide_type": ""
    },
    "tags": []
   },
   "source": [
    "`[C] gcc generates a.out successfully` と出力されれば，Cコンパイルができて，`a.out` ファイルがコンテナ内に生成されています．エラーの場合にはgccコマンドのエラーがそのまま表示されます．\n",
    "\n",
    "それでは，a.outを実行してみましょう．このノートブックでは，`/* a.out */` と書いたセルに，a.outに与える標準入力を書いてください．"
   ]
  },
  {
   "cell_type": "code",
   "execution_count": null,
   "id": "dc15c935-7812-47c7-87fd-1a9124e1e5e6",
   "metadata": {
    "deletable": false,
    "editable": false,
    "slideshow": {
     "slide_type": ""
    },
    "tags": []
   },
   "outputs": [],
   "source": [
    "/* a.out */\n",
    "123\n",
    "abc\n",
    "abc123\n",
    "123abc"
   ]
  },
  {
   "cell_type": "markdown",
   "id": "d6b9115c-d074-4169-9306-702f3a71ffdf",
   "metadata": {
    "deletable": false,
    "editable": false,
    "slideshow": {
     "slide_type": ""
    },
    "tags": []
   },
   "source": [
    "実行結果から，どの入力がどの出力に相当しているか分かるでしょうか．`IDENT`を返すパターンでは，アルファベットから始まらないといけないという風になっていたことに注目しないといけないですね．なので，`abc123`は`id:abc123`という結果になるのに対し，`123abc`は`num:123`と`id:abc`となるわけです．\n",
    "自分でも以下のセルに入力を与えて実行してみましょう．"
   ]
  },
  {
   "cell_type": "code",
   "execution_count": null,
   "id": "829d5189-b26a-4c96-b6f3-de23e16cc833",
   "metadata": {
    "deletable": false,
    "editable": true,
    "slideshow": {
     "slide_type": ""
    },
    "tags": []
   },
   "outputs": [],
   "source": [
    "/* a.out */\n"
   ]
  },
  {
   "cell_type": "markdown",
   "id": "3be600c8-ca82-4249-8f1c-d681b6565b04",
   "metadata": {
    "deletable": false,
    "editable": false,
    "slideshow": {
     "slide_type": ""
    },
    "tags": []
   },
   "source": [
    "## 演算子とキーワード\n",
    "\n",
    "以上で，Lexの基本的な記法と使い方が分かったと思います．\n",
    "少し細かいことですが，マッチした文字を `NUM` や `IDENT` のようにC言語で対応を取るとき，すべてを定義するのは少し面倒ですよね．\n",
    "今後，この実験で出てくるようなプログラミング言語を作ろうと思うと，たとえば，`+` や `*` のような記号を**演算子**として使いたくなると思います．\n",
    "そういうときには，ASCII文字の演算子であれば，文字コードをそのまま使えばよいということになります．ASCIIの文字コードは0〜127の数値で，この [Wikipediaのサイト](https://ja.wikipedia.org/wiki/ASCII) のように定義されています．つまり，`+`は10進で43（0x2b）ですし，`*`は42（0x2a）をそのまま使えばよいので，\n",
    "\n",
    "---\n",
    "\n",
    "```\n",
    "\"+\"    { return '+'; }\n",
    "```\n",
    "\n",
    "---\n",
    "\n",
    "というようなパターンとアクションを書けばよいわけです（C言語側でも`'+'`という1文字で対応を取れる）．当然ですが，`NUM` や `IDENT` を先の例ではそれぞれ`1`と`2`で`define`してあるときに他のASCIIコードと被るように数値を割り当てては区別ができなくなってしまうのでいけません．\n",
    "\n",
    "2文字の演算子を考えると，\n",
    "\n",
    "---\n",
    "\n",
    "```\n",
    "\"==\"    { return EQUAL; }\n",
    "```\n",
    "\n",
    "---\n",
    "\n",
    "が正しくて，\n",
    "\n",
    "---\n",
    "\n",
    "```\n",
    "\"=='    { return \"==\"; }\n",
    "```\n",
    "\n",
    "---\n",
    "\n",
    "のように間違えがちなので注意してください（上の`+`の例でも1文字なので `'`で囲われてC言語の1文字になっています）．\n",
    "\n",
    "ここまで分かれば，今後もしプログラムのキーワードが出てきたときには，\n",
    "\n",
    "---\n",
    "\n",
    "```\n",
    "if       { return KIF; }\n",
    "while    { return KWHILE; }\n",
    "```\n",
    "\n",
    "---\n",
    "\n",
    "のように定義できることが分かるかと思います．"
   ]
  },
  {
   "cell_type": "markdown",
   "id": "fcc5bd65-61ec-4fc0-bfc4-67a0ed8fdb08",
   "metadata": {
    "deletable": false,
    "editable": false,
    "slideshow": {
     "slide_type": ""
    },
    "tags": []
   },
   "source": [
    "## Lex でのコメント\n",
    "Lexのプログラムにもコメントを入れることができます．\n",
    "今バックエンドで使っているflexでは，C言語のコメントと同様の記法（`/*`と`*/`で囲う）が使えます．\n",
    "`%%`より上の「定義」の箇所はそのまま置き換えられるので注意．\n",
    "\n",
    "適宜コメントを入れましょう．"
   ]
  },
  {
   "cell_type": "code",
   "execution_count": null,
   "id": "490e0565-3854-4263-a980-a8abb69f04ba",
   "metadata": {
    "deletable": false,
    "editable": false,
    "slideshow": {
     "slide_type": ""
    },
    "tags": []
   },
   "outputs": [],
   "source": [
    "/* lex ex1-3.lex */\n",
    "digit [0-9]\n",
    "alpha [a-zA-Z]\n",
    "white [\\n\\t ]\n",
    "%%\n",
    "{digit}+                  { return NUM; }          /* 数字が1つ以上並んでいる */\n",
    "{alpha}({alpha}|{digit})* { return IDENT; }        /* 識別子はアルファベットから始まり，英数字が並ぶ */\n",
    "{white}                   { ; }                    /* 空白のときは何もしない */"
   ]
  },
  {
   "cell_type": "markdown",
   "id": "aa3e8a2d-d15a-4a12-a08b-8a29447390ef",
   "metadata": {
    "deletable": false,
    "editable": false,
    "slideshow": {
     "slide_type": ""
    },
    "tags": []
   },
   "source": [
    "## Lexの限界\n",
    "\n",
    "Lexは，正規表現を用いてパターンを記述するので，**入れ子構造になったときに，括弧の対応を取る**といったことを表現するには表現力が足りません．つまり，`(a, b, (c, d))`のような構造のときには，`(`がどれだけ深くなったかを数えられないため，正しい括弧閉じで対応が取られているか表現できないということです．(詳しくは正規表現についてウェブなどで調べてみましょう．)\n",
    "\n",
    "そのため，Lexだけを使って，このJ5実験の目的であるプログラミング言語のような構文規則に従った入力を受けとるプログラムを作成できないということになります．\n",
    "次章で Yacc を使って，その問題を解決しましょう．\n"
   ]
  },
  {
   "cell_type": "markdown",
   "id": "b34aae01-97e4-4178-8fba-2b27ab2590f3",
   "metadata": {
    "deletable": false,
    "editable": false,
    "slideshow": {
     "slide_type": ""
    },
    "tags": []
   },
   "source": [
    "# Yacc と BNF"
   ]
  },
  {
   "cell_type": "markdown",
   "id": "f8a13f4c-7759-4bed-8854-5c732fba8bbd",
   "metadata": {
    "deletable": false,
    "editable": false,
    "slideshow": {
     "slide_type": ""
    },
    "tags": []
   },
   "source": [
    "## BNFとは\n",
    "\n",
    "BNFとは，以下のような形式で書かれた構文の規則を並べたものです．\n",
    "\n",
    "```\n",
    "記号1 ::= 記号の並び\n",
    "記号2 ::= 記号の並び\n",
    "...\n",
    "```\n",
    "\n",
    "（この授業資料では，各行を**構文規則**と言うことにします．）\n",
    "\n",
    "ここで，「記号（シンボル）」とは名前のようなもので，\n",
    "\n",
    "- 終端記号 : `::=` の左辺に表われない．\n",
    "- 非終端記号 : `::=` の左辺に表われる．\n",
    "\n",
    "の2種類があります．おおまかに言うと，非終端記号は他の規則を使って右辺に置き換えて考えることができるということです．\n",
    "構文の例を見てみましょう．\n",
    "\n",
    "---\n",
    "\n",
    "```\n",
    "expr ::= NUM\n",
    "expr ::= expr '+' NUM\n",
    "```\n",
    "\n",
    "---\n",
    "\n",
    "ここでは，2つの構文規則があります．`NUM`や`'+'`が終端記号，`expr`が非終端記号ということが分かると思います．\n",
    "この構文をどう読むかというと，\n",
    "\n",
    "「`NUM` が1個のものは `expr` であり（1つ目の構文規則），また `expr` の後に `'+'` と `NUM` が続くものも `expr` である（2つ目の構文規則）．」\n",
    "\n",
    "ということになります．`expr`が左辺に2回表われるので，省略して，\n",
    "\n",
    "---\n",
    "\n",
    "```\n",
    "expr ::= NUM\n",
    "      |  expr '+' NUM\n",
    "```\n",
    "\n",
    "---\n",
    "\n",
    "もしくは，1行にまとめて，\n",
    "\n",
    "---\n",
    "\n",
    "```\n",
    "expr ::= NUM | expr '+' NUM\n",
    "```\n",
    "\n",
    "---\n",
    "\n",
    "と書けます．\n",
    "\n",
    "このような構文は，「+でつながれたNUMの並び」と読むことができます．**左辺を適当な右辺で置き換えていく**ことで，実際に試してみることができます．\n",
    "たとえば，`1+2+3`という文字列であれば（NUMは整定数だとする），\n",
    "\n",
    "---\n",
    "\n",
    "```\n",
    "expr\n",
    "→ expr + NUM\n",
    "→ expr + NUM + NUM\n",
    "→ NUM + NUM + NUM\n",
    "```\n",
    "\n",
    "---\n",
    "\n",
    "と順番に`expr`に構文規則を適用していくことができますね．\n",
    "つまり，Lexのときのように，ある入力文字列が，この構文にマッチしているかを確認できることになります．"
   ]
  },
  {
   "cell_type": "markdown",
   "id": "6f9a0a58-c999-4523-bad5-bd6c9e009be5",
   "metadata": {
    "deletable": false,
    "editable": false,
    "slideshow": {
     "slide_type": ""
    },
    "tags": []
   },
   "source": [
    "## BNF と Yacc\n",
    "\n",
    "Yaccは，前節の BNF を使って，構文解析してくれるツールです．さっそく Yacc で上の BNF を記述してみましょう．\n",
    "\n",
    "---\n",
    "\n",
    "```\n",
    "%token NUM;\n",
    "%%\n",
    "expr : NUM\n",
    "     | expr '+' NUM\n",
    "     ;\n",
    "```\n",
    "\n",
    "---\n",
    "\n",
    "Yaccの記述もLexと似ていて，`%%` より前に定義，後にパターン（構文規則）を書きます．\n",
    "この例の定義部では，「`NUM`が終端記号です．」と定義しています．`'+'`のように`'`で囲まれた1文字の記号以外の終端記号は，定義しておく約束になっています．\n",
    "\n",
    "構文規則は，`::=`の代りに`:`を使っていること，構文規則の最後に `;` を書くこと以外は，前節の BNF と違いはありません．\n",
    "さっそく，以下の Yacc のコードを実行してみましょう．"
   ]
  },
  {
   "cell_type": "code",
   "execution_count": null,
   "id": "2a4a0122-8abd-46e6-afe4-cfe368e2a438",
   "metadata": {
    "deletable": false,
    "editable": false,
    "slideshow": {
     "slide_type": ""
    },
    "tags": []
   },
   "outputs": [],
   "source": [
    "/* yacc ex1-1.yacc */\n",
    "%token NUM;\n",
    "%%\n",
    "expr : NUM\n",
    "     | expr '+' NUM\n",
    "     ;"
   ]
  },
  {
   "cell_type": "markdown",
   "id": "c15f6680-0684-4119-84ed-809a30f6fe89",
   "metadata": {
    "deletable": false,
    "editable": false,
    "slideshow": {
     "slide_type": ""
    },
    "tags": []
   },
   "source": [
    "`[Yacc] bison generates y.tab.c successfully` と出力されていれば，正しく実行できています．Lexのときは `lex.yy.c`でしたが，Yaccでは`y.tab.c`が生成されています．なので，Lexのときと同様にC言語のmainを作ればよいことになるのですが，**Yaccは `yylex()` から入力を読みとるようにできています．つまり，Lexと合わせて使えばよいということです．**\n",
    "\n",
    "対応するLexのプログラムは以下のようになるので，実行して `lex.yy.c` を生成しましょう．"
   ]
  },
  {
   "cell_type": "code",
   "execution_count": null,
   "id": "eeab5ee5-bf71-487b-84af-8180d7ffd0fa",
   "metadata": {
    "deletable": false,
    "editable": false,
    "slideshow": {
     "slide_type": ""
    },
    "tags": []
   },
   "outputs": [],
   "source": [
    "/* lex ex1-4.lex */\n",
    "digit     [0-9]\n",
    "white     [\\n\\t ]\n",
    "%%\n",
    "{digit}+  { return NUM; }\n",
    "\"+\"       { return '+'; }\n",
    "{white}   { ; }"
   ]
  },
  {
   "cell_type": "markdown",
   "id": "479615da-8e92-4e15-baab-7c9c9e40131d",
   "metadata": {
    "deletable": false,
    "editable": false,
    "slideshow": {
     "slide_type": ""
    },
    "tags": []
   },
   "source": [
    "両者を呼び出すCのプログラムは以下のようになります．"
   ]
  },
  {
   "cell_type": "code",
   "execution_count": null,
   "id": "0a58d17c-2c8f-4bba-b139-a5b43fc1242d",
   "metadata": {
    "deletable": false,
    "editable": false,
    "slideshow": {
     "slide_type": ""
    },
    "tags": []
   },
   "outputs": [],
   "source": [
    "/* c ex1-2.c */\n",
    "#include <stdio.h>\n",
    "extern char *yytext;\n",
    "\n",
    "#include \"y.tab.c\"\n",
    "#include \"lex.yy.c\"\n",
    "\n",
    "int main() {\n",
    "  yyparse();\n",
    "  return 0;\n",
    "}"
   ]
  },
  {
   "cell_type": "markdown",
   "id": "6f752eec-df35-4bf2-a726-18162df1c293",
   "metadata": {
    "deletable": false,
    "editable": false,
    "slideshow": {
     "slide_type": ""
    },
    "tags": []
   },
   "source": [
    "このmainは，何もせずに構文にマッチしたかだけを見ています．つまり，構文に適した正しい入力をしたときは**何もしない**で，間違っていると**エラーのメッセージ**が出ます．それを確認するために，生成されたa.outを実行してみよう．"
   ]
  },
  {
   "cell_type": "code",
   "execution_count": null,
   "id": "279f7ab3-4c34-441a-9d14-a5c62b1f9216",
   "metadata": {
    "deletable": false,
    "editable": false,
    "slideshow": {
     "slide_type": ""
    },
    "tags": []
   },
   "outputs": [],
   "source": [
    "/* a.out */\n",
    "1+2+3"
   ]
  },
  {
   "cell_type": "code",
   "execution_count": null,
   "id": "474e3aca-d38d-421a-ba4c-41fce9e7abea",
   "metadata": {
    "deletable": false,
    "editable": false,
    "slideshow": {
     "slide_type": ""
    },
    "tags": []
   },
   "outputs": [],
   "source": [
    "/* a.out */\n",
    "1++2"
   ]
  },
  {
   "cell_type": "markdown",
   "id": "8b649324-99cc-4ced-a705-fea235c2f628",
   "metadata": {
    "deletable": false,
    "editable": false,
    "slideshow": {
     "slide_type": ""
    },
    "tags": []
   },
   "source": [
    "## Yaccのアクション\n",
    "\n",
    "第1回の最後に，Yaccにもアクションが書けることを見て終わりにしましょう．\n",
    "上の例では，正しいとき（構文規則にマッチしたとき）には何もしないで，間違っているときにはエラーメッセージが出ました．当然，構文規則にマッチしたときに処理がしたくなるわけです．\n",
    "そのためには，Lexのときのように，構文規則それぞれにアクションを書いておきます．\n",
    "\n",
    "---\n",
    "\n",
    "```\n",
    "%token NUM;\n",
    "%%\n",
    "expr : NUM              { printf(\"NUM: %s\\n\", yytext); }\n",
    "     | expr '+' NUM     { printf(\"ADD: %s\\n\", yytext); }\n",
    "     ;\n",
    "```\n",
    "\n",
    "---\n",
    "\n",
    "Lexでは，パターンにマッチした文字列が `yytext` に入っているので（不安な人は [前のほうの節](#yylex()を利用するCコード) に戻る），それを表示するアクションを追加してみました．LexとCはそのままで，実行しなおしてみましょう．"
   ]
  },
  {
   "cell_type": "code",
   "execution_count": null,
   "id": "3a9b5a1e-23d5-48ad-9ec7-456dd037f901",
   "metadata": {
    "deletable": false,
    "editable": false,
    "slideshow": {
     "slide_type": ""
    },
    "tags": []
   },
   "outputs": [],
   "source": [
    "/* lex ex1-4.lex */\n",
    "digit     [0-9]\n",
    "white     [\\n\\t ]\n",
    "%%\n",
    "{digit}+  { return NUM; }\n",
    "\"+\"       { return '+'; }\n",
    "{white}   { ; }"
   ]
  },
  {
   "cell_type": "code",
   "execution_count": null,
   "id": "7c26f780-9f17-4415-bb01-ea45490466eb",
   "metadata": {
    "deletable": false,
    "editable": false,
    "slideshow": {
     "slide_type": ""
    },
    "tags": []
   },
   "outputs": [],
   "source": [
    "/* yacc ex1-2.yacc */\n",
    "%token NUM;\n",
    "%%\n",
    "expr : NUM              { printf(\"NUM: %s\\n\", yytext); }\n",
    "     | expr '+' NUM     { printf(\"ADD: %s\\n\", yytext); }\n",
    "     ;"
   ]
  },
  {
   "cell_type": "code",
   "execution_count": null,
   "id": "e7589472-4e17-4b82-87c6-05dca0b55f9f",
   "metadata": {
    "deletable": false,
    "editable": false,
    "slideshow": {
     "slide_type": ""
    },
    "tags": []
   },
   "outputs": [],
   "source": [
    "/* c ex1-2.c */\n",
    "#include <stdio.h>\n",
    "extern char *yytext;\n",
    "\n",
    "#include \"y.tab.c\"\n",
    "#include \"lex.yy.c\"\n",
    "\n",
    "int main() {\n",
    "  yyparse();\n",
    "  return 0;\n",
    "}"
   ]
  },
  {
   "cell_type": "code",
   "execution_count": null,
   "id": "33ebe21f-bfbf-4186-9fb7-7901b9be99e4",
   "metadata": {
    "deletable": false,
    "editable": false,
    "slideshow": {
     "slide_type": ""
    },
    "tags": []
   },
   "outputs": [],
   "source": [
    "/* a.out */\n",
    "1+2+3"
   ]
  },
  {
   "cell_type": "markdown",
   "id": "a739984c-6e16-4492-8635-3b5a2abe7e73",
   "metadata": {
    "deletable": false,
    "editable": false,
    "slideshow": {
     "slide_type": ""
    },
    "tags": []
   },
   "source": [
    "上で説明したように構文規則にマッチしていることが分かります．"
   ]
  },
  {
   "cell_type": "markdown",
   "id": "e025a649-d5d7-4f9a-88c6-bab0fa100e42",
   "metadata": {
    "deletable": false,
    "editable": false,
    "slideshow": {
     "slide_type": ""
    },
    "tags": []
   },
   "source": [
    "## Yacc でのコメント\n",
    "Yacc のプログラムにもコメントをC言語のコメントと同様の記法（`/*`と`*/`で囲う）で入れることができます．．\n",
    "\n",
    "適宜コメントを入れましょう．"
   ]
  },
  {
   "cell_type": "markdown",
   "id": "da9032d0-8c33-47d7-b4fa-cf5cb3b282af",
   "metadata": {
    "deletable": false,
    "editable": false,
    "slideshow": {
     "slide_type": ""
    },
    "tags": []
   },
   "source": [
    "# Lex と Yacc のデバッグ\n",
    "\n",
    "`a.out`を実行したときに，どう構文規則にマッチしたかを知りたいときがあります．\n",
    "\n",
    "まず，Lexの場合には，`-d`オプションを付けてください．（本来の`flex`コマンドの時には `% lex -d ファイル名` となりますが，このノートブックのコマンドでは最後に`-d`を付けます．）"
   ]
  },
  {
   "cell_type": "code",
   "execution_count": null,
   "id": "0690eba9-d71d-4fd0-9945-d554320f1a8c",
   "metadata": {
    "deletable": false,
    "editable": false,
    "slideshow": {
     "slide_type": ""
    },
    "tags": []
   },
   "outputs": [],
   "source": [
    "/* lex ex1-4.lex -d */\n",
    "digit [0-9]\n",
    "alpha [a-zA-Z]\n",
    "white [\\n\\t ]\n",
    "%%\n",
    "{digit}+                  { return NUM; }\n",
    "{alpha}({alpha}|{digit})* { return IDENT; }\n",
    "{white}                   { ; }"
   ]
  },
  {
   "cell_type": "code",
   "execution_count": null,
   "id": "a614a876-6f29-43ae-b026-70abf7d5ee58",
   "metadata": {
    "deletable": false,
    "editable": false,
    "slideshow": {
     "slide_type": ""
    },
    "tags": []
   },
   "outputs": [],
   "source": [
    "/* c ex1-1.c */\n",
    "#define NUM 1\n",
    "#define IDENT 2\n",
    "#include \"lex.yy.c\"\n",
    "int main() {\n",
    "    int code;\n",
    "    while((code=yylex())) {\n",
    "        switch(code) {\n",
    "            case NUM: printf(\"num: %s\\n\", yytext); break;\n",
    "            case IDENT: printf(\"id: %s\\n\", yytext); break;\n",
    "        }\n",
    "    }\n",
    "    return 0;\n",
    "}"
   ]
  },
  {
   "cell_type": "code",
   "execution_count": null,
   "id": "8d9eb4e4-ebd8-4764-80ce-55adfd118216",
   "metadata": {
    "deletable": false,
    "editable": false,
    "slideshow": {
     "slide_type": ""
    },
    "tags": []
   },
   "outputs": [],
   "source": [
    "/* a.out */\n",
    "123\n",
    "abc\n",
    "abc123\n",
    "123abc"
   ]
  },
  {
   "cell_type": "markdown",
   "id": "030f62c1-adb2-40d1-ab58-9f424643c619",
   "metadata": {
    "deletable": false,
    "editable": false,
    "slideshow": {
     "slide_type": ""
    },
    "tags": []
   },
   "source": [
    "テキストがどうマッチしたかが詳細に出力されます．"
   ]
  },
  {
   "cell_type": "markdown",
   "id": "dfb4fb20-ac1b-4df8-8363-6af49bdf7a01",
   "metadata": {
    "deletable": false,
    "editable": false,
    "slideshow": {
     "slide_type": ""
    },
    "tags": []
   },
   "source": [
    "次に，Yaccの場合には，Yaccのプログラムをコンパイルするときに`--debug`オプションを付けます．\n",
    "この授業のノートブックでは，1行目のコマンド行に `yacc ファイル名 オプション`と書いておくことで，Yacc（Bison）のオプションを指定できるようにしてありますので，以下のように書きます．"
   ]
  },
  {
   "cell_type": "code",
   "execution_count": null,
   "id": "8c80165d-47ac-4efe-bffa-9eead44b26e5",
   "metadata": {
    "deletable": false,
    "editable": false,
    "slideshow": {
     "slide_type": ""
    },
    "tags": []
   },
   "outputs": [],
   "source": [
    "/* lex ex1-4.lex */\n",
    "digit     [0-9]\n",
    "white     [\\n\\t ]\n",
    "%%\n",
    "{digit}+  { return NUM; }\n",
    "\"+\"       { return '+'; }\n",
    "{white}   { ; }"
   ]
  },
  {
   "cell_type": "code",
   "execution_count": null,
   "id": "79935508-b8b4-4eaa-9de3-2e084981648a",
   "metadata": {
    "deletable": false,
    "editable": false,
    "slideshow": {
     "slide_type": ""
    },
    "tags": []
   },
   "outputs": [],
   "source": [
    "/* yacc ex1-2.yacc --debug */\n",
    "%token NUM;\n",
    "%%\n",
    "expr : NUM              { printf(\"NUM: %s\\n\", yytext); }\n",
    "     | expr '+' NUM     { printf(\"ADD: %s\\n\", yytext); }\n",
    "     ;"
   ]
  },
  {
   "cell_type": "markdown",
   "id": "6cd372f3-2c73-4288-909d-1f2483e617d9",
   "metadata": {
    "deletable": false,
    "editable": false,
    "slideshow": {
     "slide_type": ""
    },
    "tags": []
   },
   "source": [
    "さらに，Cのプログラムで，`yydebug` 変数の値を `0` 以外にします．"
   ]
  },
  {
   "cell_type": "code",
   "execution_count": null,
   "id": "6423a77c-25cc-4864-acc4-66473a53c78b",
   "metadata": {
    "deletable": false,
    "editable": false,
    "slideshow": {
     "slide_type": ""
    },
    "tags": []
   },
   "outputs": [],
   "source": [
    "/* c ex1-3.c */\n",
    "#include <stdio.h>\n",
    "extern char *yytext;\n",
    "\n",
    "#include \"y.tab.c\"\n",
    "#include \"lex.yy.c\"\n",
    "\n",
    "int main() {\n",
    "  yydebug = 1;             /* この行がデバッグ表示のために必要 */\n",
    "  yyparse();\n",
    "  return 0;\n",
    "}"
   ]
  },
  {
   "cell_type": "code",
   "execution_count": null,
   "id": "191b6fa1-bc2c-4562-a1c9-b7c56d0c2602",
   "metadata": {
    "deletable": false,
    "editable": false,
    "slideshow": {
     "slide_type": ""
    },
    "tags": []
   },
   "outputs": [],
   "source": [
    "/* a.out */\n",
    "1+2"
   ]
  },
  {
   "cell_type": "markdown",
   "id": "adb41ff3-016c-4649-b34a-dc78d2fcc01c",
   "metadata": {
    "deletable": false,
    "editable": false,
    "slideshow": {
     "slide_type": ""
    },
    "tags": []
   },
   "source": [
    "少し長いですが，テキストを読んでいってどのように解析が進んだかが出てきます．「`Shifting token`」や「`Reducing stack by`」というところに注目してください．（行番号は，コマンド行（`/* a.out */`）を抜かして数えてください）．\n",
    "たとえば，\n",
    "\n",
    "```\n",
    "Reducing stack by rule 1 (line 3):\n",
    "```\n",
    "がありますが，これは `expr : NUM` の規則を適用したことを意味しています．\n",
    "\n",
    "詳しくは，Yacc が生成する構文解析器がどのようなアルゴリズムかが分かっていないとちゃんと読めないのですが，\n",
    "\n",
    "- ***Shift（シフト，遷移）***  : 入力を進める．\n",
    "- ***Reduce（還元）*** : 構文規則を適用する．\n",
    "\n",
    "という2つの用語は，重要ですので覚えてください．\n",
    "Yaccが生成する構文解析器については，次回に解説します．"
   ]
  },
  {
   "cell_type": "markdown",
   "id": "b5f9fa8f-2f31-4563-a039-e2aa535afaf5",
   "metadata": {
    "deletable": false,
    "editable": false,
    "slideshow": {
     "slide_type": ""
    },
    "tags": []
   },
   "source": [
    "エラーがある場合も見ておきましょう．"
   ]
  },
  {
   "cell_type": "code",
   "execution_count": null,
   "id": "d92beddf-a85c-49c2-b542-3cd9734c63ed",
   "metadata": {
    "deletable": false,
    "editable": false,
    "slideshow": {
     "slide_type": ""
    },
    "tags": []
   },
   "outputs": [],
   "source": [
    "/* a.out */\n",
    "1++2"
   ]
  },
  {
   "cell_type": "markdown",
   "id": "845c12eb-96e7-4306-8f54-b6062ef28d9d",
   "metadata": {
    "deletable": false,
    "editable": false,
    "slideshow": {
     "slide_type": ""
    },
    "tags": []
   },
   "source": [
    "2つ目の`+`が来たところでエラーというのが分かります．"
   ]
  },
  {
   "cell_type": "markdown",
   "id": "4ad0f435-aa1c-4388-8769-46cfa7dc3140",
   "metadata": {
    "deletable": false,
    "editable": false,
    "slideshow": {
     "slide_type": ""
    },
    "tags": []
   },
   "source": [
    "さらに，Yacc に `--verbose` または `--graph` を付けると，それぞれ `y.output`（テキストファイル）または `y.gv`（Graphvizのdot言語）を出力してくれるので，どんな状態を遷移するかも分かります．興味がある人は試してみてください．\n",
    "\n",
    "![状態](https://www.clas.kitasato-u.ac.jp/~takano/uec-lexyacc/y.png)"
   ]
  },
  {
   "cell_type": "code",
   "execution_count": null,
   "id": "5557a2a3-71fe-431e-956f-e702bf8bc898",
   "metadata": {
    "deletable": false,
    "editable": false,
    "slideshow": {
     "slide_type": ""
    },
    "tags": []
   },
   "outputs": [],
   "source": [
    "/* yacc ex1-2.yacc --debug --verbose */\n",
    "%token NUM;\n",
    "%%\n",
    "expr : NUM              { printf(\"NUM: %s\\n\", yytext); }\n",
    "     | expr '+' NUM     { printf(\"ADD: %s\\n\", yytext); }\n",
    "     ;"
   ]
  },
  {
   "cell_type": "markdown",
   "id": "ba01ec40-ae18-49e6-a2cf-e71bbdea1b98",
   "metadata": {
    "deletable": false,
    "editable": false,
    "slideshow": {
     "slide_type": ""
    },
    "tags": []
   },
   "source": [
    "# まとめ\n",
    "\n",
    "今回は，LexとYaccを使い始めてみるということで，字句のパターンにマッチするか，構文規則にマッチするかということを確認する非常に基本的なプログラムだけでしたが，これを発展させれば，単なる文字の並びであるテキストを読み込んで意味を持たせることができます．\n",
    "\n",
    "次回は，\n",
    "- 電卓\n",
    "- 単純なプログラミング言語のインタプリタ（解釈実行器）\n",
    "  \n",
    "を実際に作ってみましょう．"
   ]
  },
  {
   "cell_type": "markdown",
   "id": "17f263a6-b3aa-4e31-887c-4c826a41216c",
   "metadata": {
    "deletable": false,
    "editable": false,
    "slideshow": {
     "slide_type": ""
    },
    "tags": []
   },
   "source": [
    "# 練習問題\n",
    "\n",
    "成績の評価時に考慮します．\n",
    "\n",
    "必須ではないですが，後からの提出は認めないので，授業時間内+α（13:00〜19:00）の間に提出してください．\n",
    "\n",
    "順番にやる必要はなく，できるものから取り組んでください．\n",
    "\n",
    "## 提出方法\n",
    "\n",
    "以下の問題について，この1.ipynbファイルを編集し，完成した自分が編集した .ipynb ファイルをGoogle Classroomの該当課題に提出してください．（もしこのノートブックをファイルに保存したいときには，メニューの「file」→「Download」で .ipynb ファイルをダウンロード出来るので，それを提出してください．）\n",
    "\n",
    "- 適宜コメントを入れてください．\n",
    "- 提出する際のファイル名は，「**`学籍番号.ipynb`**」としてください．"
   ]
  },
  {
   "cell_type": "markdown",
   "id": "60b0b0a9-b6f5-48ee-ab5a-a14818b38fd2",
   "metadata": {
    "deletable": false,
    "editable": false,
    "slideshow": {
     "slide_type": ""
    },
    "tags": []
   },
   "source": [
    "## 問題1\n",
    "\n",
    "`ex1-1.lex`として記述した数と識別子を解析するLexのプログラムを元にして，「符号付き整数」と「実数」が扱えるようにパターンを記述してください．\n",
    "たとえば，`-5`や`1.23`などが読み込めるようにしたいということです．`-02`や`+002.3`などは大目に見て気にしないで良いです（エラーにしないでよい，できる人はもちろんチャレンジしても良い）．\n",
    "符号付き整数は `NUM` のパターンを変更する形で，実数は新たに `RNUM` をリターンするようなアクションのパターン行を追加する形で実現するとよいと思います．\n",
    "\n",
    "- ヒント1: `sign     [+-]` というのを定義に追加して，数の前に`sign`が付くかもしれないようにすればいいです．（かもしれない，が重要．じゃないと元の`123`などが字句解析エラーになってしまう）\n",
    "- ヒント2: `dot      \".\"` というのを定義に追加して，`dot`を含んだら`RNUM`というパターンを書けばよいです．\n",
    "\n",
    "この問題では，Lexだけ書けばよいです（なので，実行してちゃんと字句解析ができるかは確認できない）．"
   ]
  },
  {
   "cell_type": "code",
   "execution_count": null,
   "id": "a4a3bf71-b1d3-47de-9e44-cc7f72cbdd04",
   "metadata": {
    "deletable": false,
    "editable": true,
    "slideshow": {
     "slide_type": ""
    },
    "tags": []
   },
   "outputs": [],
   "source": [
    "/* lex p1-1.lex */\n",
    "ここに書く"
   ]
  },
  {
   "cell_type": "markdown",
   "id": "68c6ffae-4ccf-4933-8144-d753acbbfa4c",
   "metadata": {
    "deletable": false,
    "editable": false,
    "slideshow": {
     "slide_type": ""
    },
    "tags": []
   },
   "source": [
    "## 問題2\n",
    "\n",
    "上の問題1の `p1-1.lex` に対応した Cコード `p1-1.c` を書いてください．`ex1-1.c`を参考にして，マッチしたパターンを同様に出力してください．\n",
    "a.outを実行して，実行結果が思ったとおりの動作であるか，何通りかの入力で確かめること．\n",
    "\n",
    "ヒント1: `case`の分岐に`RNUM`の部分を追加するだけなので，簡単．"
   ]
  },
  {
   "cell_type": "code",
   "execution_count": null,
   "id": "204c8450-1324-4314-b145-86bb31f6cfb3",
   "metadata": {
    "deletable": false,
    "editable": true,
    "slideshow": {
     "slide_type": ""
    },
    "tags": []
   },
   "outputs": [],
   "source": [
    "/* c p1-2.c */\n",
    "ここに書く"
   ]
  },
  {
   "cell_type": "code",
   "execution_count": null,
   "id": "050cee42-8900-4909-99cb-b967ab5b7b89",
   "metadata": {
    "deletable": false,
    "editable": true,
    "slideshow": {
     "slide_type": ""
    },
    "tags": []
   },
   "outputs": [],
   "source": [
    "/* a.out */\n",
    "ちゃんとできているか確認するためのテストの入力を自分で考えて書く"
   ]
  },
  {
   "cell_type": "markdown",
   "id": "c69dffb3-7d74-4607-89ce-066ca92359b6",
   "metadata": {
    "deletable": false,
    "editable": false,
    "slideshow": {
     "slide_type": ""
    },
    "tags": []
   },
   "source": [
    "## 問題3\n",
    "\n",
    "問題1・2に加えて，指数形式（`12.5e-6`とか`3e15`とか）も解析できるように改良してください．"
   ]
  },
  {
   "cell_type": "code",
   "execution_count": null,
   "id": "55e617d9-bce4-48d9-98dc-7d46a9270722",
   "metadata": {
    "deletable": false,
    "editable": true,
    "slideshow": {
     "slide_type": ""
    },
    "tags": []
   },
   "outputs": [],
   "source": [
    "/* lex p1-3.lex */\n",
    "ここに書く"
   ]
  },
  {
   "cell_type": "code",
   "execution_count": null,
   "id": "17e32150-1e61-41fe-9bf1-037bed59fdf5",
   "metadata": {
    "deletable": false,
    "editable": true,
    "slideshow": {
     "slide_type": ""
    },
    "tags": []
   },
   "outputs": [],
   "source": [
    "/* c p1-3.c */\n",
    "ここに書く"
   ]
  },
  {
   "cell_type": "code",
   "execution_count": null,
   "id": "70d0b358-7362-4e75-b7ce-8147e2e1d8f2",
   "metadata": {
    "deletable": false,
    "editable": true,
    "slideshow": {
     "slide_type": ""
    },
    "tags": []
   },
   "outputs": [],
   "source": [
    "/* a.out */\n",
    "ちゃんとできているか確認するためのテストの入力を自分で考えて書く"
   ]
  },
  {
   "cell_type": "markdown",
   "id": "cb234dd9-5ad5-4e00-8f56-8624ef3340d9",
   "metadata": {
    "deletable": false,
    "editable": false,
    "slideshow": {
     "slide_type": ""
    },
    "tags": []
   },
   "source": [
    "## 問題4\n",
    "\n",
    "YaccとLexを組み合わせて `'+'` でつながれた数を構文解析できることが分かったと思います．同様にして，引き算も扱えるように改良してください．\n",
    "入力が正しいときは何もしないで，構文に合っていないときにはエラーが出ればよいです（なので，Cのコードはそのままだけれど，再コンパイルはする必要がある）．"
   ]
  },
  {
   "cell_type": "code",
   "execution_count": null,
   "id": "d60f0d9a-2a2e-42b3-9c56-ea8d7ac380a1",
   "metadata": {
    "deletable": false,
    "editable": true,
    "slideshow": {
     "slide_type": ""
    },
    "tags": []
   },
   "outputs": [],
   "source": [
    "/* lex p1-4.lex */\n",
    "ここに書く"
   ]
  },
  {
   "cell_type": "code",
   "execution_count": null,
   "id": "50b9ffa5-68d6-4269-af32-726942a37525",
   "metadata": {
    "deletable": false,
    "editable": true,
    "slideshow": {
     "slide_type": ""
    },
    "tags": []
   },
   "outputs": [],
   "source": [
    "/* yacc p1-4.yacc */\n",
    "ここに書く"
   ]
  },
  {
   "cell_type": "code",
   "execution_count": null,
   "id": "02ac23c7-187a-4733-91f6-148c79183644",
   "metadata": {
    "deletable": false,
    "editable": false,
    "slideshow": {
     "slide_type": ""
    },
    "tags": []
   },
   "outputs": [],
   "source": [
    "/* c p1-4.c */\n",
    "#include <stdio.h>\n",
    "extern char *yytext;\n",
    "\n",
    "#include \"y.tab.c\"\n",
    "#include \"lex.yy.c\"\n",
    "\n",
    "int main() {\n",
    "  yyparse();\n",
    "  return 0;\n",
    "}"
   ]
  },
  {
   "cell_type": "code",
   "execution_count": null,
   "id": "f15a56c5-5197-478a-b7fd-e5f720b66bf2",
   "metadata": {
    "deletable": false,
    "editable": true,
    "slideshow": {
     "slide_type": ""
    },
    "tags": []
   },
   "outputs": [],
   "source": [
    "/* a.out */\n",
    "ちゃんとできているか確認するためのテストの入力を自分で考えて書く"
   ]
  },
  {
   "cell_type": "markdown",
   "id": "b9182ce9-fad1-499f-9263-fecdf60b05c0",
   "metadata": {
    "deletable": false,
    "editable": false,
    "slideshow": {
     "slide_type": ""
    },
    "tags": []
   },
   "source": [
    "## 問題5\n",
    "\n",
    "Yaccの最後の例では，BNFにすると\n",
    "\n",
    "---\n",
    "\n",
    "```\n",
    "expr : NUM | expr '+' NUM\n",
    "```\n",
    "\n",
    "---\n",
    "\n",
    "という2つの構文規則を使いました．exprの適用の順番が代わるだけで，以下のように書いても同じことができそうと考えると思います．\n",
    "\n",
    "---\n",
    "\n",
    "```\n",
    "expr : NUM | NUM '+' expr\n",
    "```\n",
    "\n",
    "---\n",
    "\n",
    "実際にYaccを書き直したものを実行し，どうなるか，なぜそうなるかを下のMarkdownのセルに書いてください（つまり，文章でどういうことが起きたのかを考えて書くということ）．\n",
    "\n",
    "ヒント: yytextはLexが直前にマッチした文字列を入れているものである．"
   ]
  },
  {
   "cell_type": "code",
   "execution_count": null,
   "id": "2a4df9db-14b4-472b-9c76-2db4b354ea2f",
   "metadata": {
    "deletable": false,
    "editable": false,
    "slideshow": {
     "slide_type": ""
    },
    "tags": []
   },
   "outputs": [],
   "source": [
    "/* lex ex1-4.lex */\n",
    "digit     [0-9]\n",
    "white     [\\n\\t ]\n",
    "%%\n",
    "{digit}+  { return NUM; }\n",
    "\"+\"       { return '+'; }\n",
    "{white}   { ; }"
   ]
  },
  {
   "cell_type": "code",
   "execution_count": null,
   "id": "caaa2854-9f4a-40dc-84e6-377a2d4679f0",
   "metadata": {
    "deletable": false,
    "editable": false,
    "slideshow": {
     "slide_type": ""
    },
    "tags": []
   },
   "outputs": [],
   "source": [
    "/* yacc p1-5.yacc */\n",
    "%token NUM;\n",
    "%%\n",
    "expr : NUM              { printf(\"NUM: %s\\n\", yytext); }\n",
    "     | NUM '+' expr     { printf(\"ADD: %s\\n\", yytext); }\n",
    "     ;"
   ]
  },
  {
   "cell_type": "code",
   "execution_count": null,
   "id": "de068e6f-5bdf-4346-bc90-1827c3669372",
   "metadata": {
    "deletable": false,
    "editable": false,
    "slideshow": {
     "slide_type": ""
    },
    "tags": []
   },
   "outputs": [],
   "source": [
    "/* c ex1-2.c */\n",
    "#include <stdio.h>\n",
    "extern char *yytext;\n",
    "\n",
    "#include \"y.tab.c\"\n",
    "#include \"lex.yy.c\"\n",
    "\n",
    "int main() {\n",
    "  yyparse();\n",
    "  return 0;\n",
    "}"
   ]
  },
  {
   "cell_type": "code",
   "execution_count": null,
   "id": "ae2f1680-8c58-4761-b3d4-1efc1816c2e9",
   "metadata": {
    "deletable": false,
    "editable": false,
    "slideshow": {
     "slide_type": ""
    },
    "tags": []
   },
   "outputs": [],
   "source": [
    "/* a.out */\n",
    "1+2+3"
   ]
  },
  {
   "cell_type": "markdown",
   "id": "9e55bd0f-6003-458a-bfda-8e10d3b0017a",
   "metadata": {
    "deletable": false,
    "editable": true,
    "slideshow": {
     "slide_type": ""
    },
    "tags": []
   },
   "source": [
    "なぜそうなるかを考えて，ここに書く"
   ]
  },
  {
   "cell_type": "markdown",
   "id": "35ce18b6-1d30-4f03-9978-502a552c9469",
   "metadata": {
    "deletable": false,
    "editable": false,
    "slideshow": {
     "slide_type": ""
    },
    "tags": []
   },
   "source": [
    "## 問題6\n",
    "\n",
    "今回出てきた，Lex，Yaccを自由に拡張して，新たな字句・構文を読めるようにしてください．Cのコードは，`ex1-2.c` そのままとします．"
   ]
  },
  {
   "cell_type": "code",
   "execution_count": null,
   "id": "0e1b750c-0950-42a9-9586-58108f8b4afe",
   "metadata": {
    "deletable": false,
    "editable": true,
    "slideshow": {
     "slide_type": ""
    },
    "tags": []
   },
   "outputs": [],
   "source": [
    "/* lex p1-6.lex */\n",
    "ここに書く"
   ]
  },
  {
   "cell_type": "code",
   "execution_count": null,
   "id": "7690ddbf-9750-4402-8fda-35d8eb8d3984",
   "metadata": {
    "deletable": false,
    "editable": true,
    "slideshow": {
     "slide_type": ""
    },
    "tags": []
   },
   "outputs": [],
   "source": [
    "/* yacc p1-6.yacc */\n",
    "ここに書く"
   ]
  },
  {
   "cell_type": "code",
   "execution_count": null,
   "id": "fff4a94b-ff7a-4a1b-bf0d-f62327f3407b",
   "metadata": {
    "deletable": false,
    "editable": false,
    "slideshow": {
     "slide_type": ""
    },
    "tags": []
   },
   "outputs": [],
   "source": [
    "/* c ex1-2.c */\n",
    "#include <stdio.h>\n",
    "extern char *yytext;\n",
    "\n",
    "#include \"y.tab.c\"\n",
    "#include \"lex.yy.c\"\n",
    "\n",
    "int main() {\n",
    "  yyparse();\n",
    "  return 0;\n",
    "}"
   ]
  },
  {
   "cell_type": "code",
   "execution_count": null,
   "id": "b9ad6999-04dc-43b3-ade6-2f374e437f03",
   "metadata": {
    "deletable": false,
    "editable": true,
    "slideshow": {
     "slide_type": ""
    },
    "tags": []
   },
   "outputs": [],
   "source": [
    "/* a.out */\n",
    "ちゃんとできているか確認するためのテストの入力を自分で考えて書く"
   ]
  }
 ],
 "metadata": {
  "kernelspec": {
   "display_name": "lex yacc",
   "language": "lexyacc",
   "name": "lexyacc-kernel"
  },
  "language_info": {
   "mimetype": "text/plain",
   "name": "lex yacc"
  }
 },
 "nbformat": 4,
 "nbformat_minor": 5
}
